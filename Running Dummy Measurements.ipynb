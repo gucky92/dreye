{
 "cells": [
  {
   "cell_type": "markdown",
   "metadata": {},
   "source": [
    "This notebook will ensure that you can run the measurement code, and moreover, it will outline what the different components of the notebook accomplish. The purpose of each section of the notebook should be clear and users should be able to create real measurements after creating their own subclasses for their specific setup. "
   ]
  },
  {
   "cell_type": "code",
   "execution_count": null,
   "metadata": {},
   "outputs": [],
   "source": [
    "from dreye.hardware import dummy_system\n",
    "from dreye.hardware import dummy_spectrometer\n",
    "from dreye.core.spectrum_utils import create_gaussian_spectrum\n",
    "import numpy as np\n",
    "import matplotlib.pyplot as plt\n",
    "import warnings"
   ]
  },
  {
   "cell_type": "markdown",
   "metadata": {},
   "source": [
    "First, specify the wavelength range you are interested in (in this case we used a range of 100 to 1000 nm, with steps of 0.1nm). Then, create dummy LEDS using the **create_gaussian_spectrum** class. We chose to create 6. You can plot these spectra for visualizaiton purposes. "
   ]
  },
  {
   "cell_type": "code",
   "execution_count": null,
   "metadata": {},
   "outputs": [],
   "source": [
    "wls = np.arange(100, 1000, 0.1)\n",
    "dummy_leds = create_gaussian_spectrum(\n",
    "    wls, \n",
    "    [340, 360, 415, 455, 565, 615], \n",
    "    std=8, \n",
    "    units='spectralirradiance'\n",
    ")\n",
    "plt.plot(dummy_leds.domain, dummy_leds)\n",
    "plt.xlabel('wavelengths (nm)')\n",
    "plt.ylabel('irradiance')"
   ]
  },
  {
   "cell_type": "markdown",
   "metadata": {},
   "source": [
    "Next, create dummy voltage analog outputs (AOs). \n",
    " - Specify the names of the LEDS (our examples range from dUV to orange)\n",
    " - Specify the channel names as a list of strings. The channel names correspond to the method by which the LEDs in the system are controlled- in this case we are using the National Instruments subclass for the sake of testing, but subclasses exist for other devices (e.g. Arduino). \n",
    " - Specify zero boundaries: the value of each LED which results in a 0 intensity \n",
    " - Specify the max boundariers: the max value possible for each LED. * * Note: you can change units to time, if you are using alternate intensity methods such as pulse width modulation. <br><br> Overall, this cell creates list of dummy AOs and puts them all into one system."
   ]
  },
  {
   "cell_type": "code",
   "execution_count": null,
   "metadata": {},
   "outputs": [],
   "source": [
    "leds = ['duv', 'uv', 'violet', 'rblue', 'lime', 'orange']\n",
    "channels = ['Dev2/ao1', 'Dev3/ao1', \n",
    "            'Dev3/ao0', 'Dev1/ao1', \n",
    "            'Dev2/ao0', 'Dev1/ao0']\n",
    "zeros = [4.4] * 5 + [0.]\n",
    "maxs = [0.] * 5 + [5.]\n",
    "\n",
    "outputs = []\n",
    "for led, ch, z, m in zip(leds, channels, zeros, maxs):\n",
    "    outputs.append(\n",
    "        dummy_system.DummyOutput(\n",
    "            ch, led, \n",
    "            zero_boundary=z, \n",
    "            max_boundary=m, \n",
    "            units='V'\n",
    "        )\n",
    "    )"
   ]
  },
  {
   "cell_type": "markdown",
   "metadata": {},
   "source": [
    "Next, create **system**, which is a method to control all of the LEDs simultaneously."
   ]
  },
  {
   "cell_type": "code",
   "execution_count": null,
   "metadata": {},
   "outputs": [],
   "source": [
    "system = dummy_system.DummySystem(outputs)"
   ]
  },
  {
   "cell_type": "markdown",
   "metadata": {},
   "source": [
    "You can see the details of each dummy output below:"
   ]
  },
  {
   "cell_type": "code",
   "execution_count": null,
   "metadata": {},
   "outputs": [],
   "source": [
    "system"
   ]
  },
  {
   "cell_type": "markdown",
   "metadata": {},
   "source": [
    "Next, create a dummy spectrophotometer. Specify the desired level of artificial noise. "
   ]
  },
  {
   "cell_type": "code",
   "execution_count": null,
   "metadata": {},
   "outputs": [],
   "source": [
    "spec = dummy_spectrometer.Spectrometer(\n",
    "    wls, \n",
    "    dummy_leds, \n",
    "    system,\n",
    "    noise_scale=2, \n",
    ")"
   ]
  },
  {
   "cell_type": "markdown",
   "metadata": {},
   "source": [
    "**runner** is a class that you pass your spectrophotometer and system instance to. \n",
    " - wls: If set to none, wavelengths measured will be set to whatever is spit out by the spectrophotometer. Alternatively, provide a numpy array with a specific numpy array (see comment). \n",
    " - smoothing window: boxcar smoothing window to smooth the spectrum of each avereraged intensity value of each LED\n",
    " - n_steps: the number of steps from 0 boundary to max boundary per LED, inclusive\n",
    " - n_avg: the number of times each step is averaged over\n",
    " - remove_zero: substracts the zero boundary from all the other measurements. if you dont want to remove it, set it to false. \n",
    "\n",
    "We entered arbitrary numbers here, but we reccomend starting with the default values when running an actual measurement. Therefore, initially specifying keywords may be unecessary. Tweak the parameters as needed. "
   ]
  },
  {
   "cell_type": "code",
   "execution_count": null,
   "metadata": {},
   "outputs": [],
   "source": [
    "from dreye.hardware.measurement_runner import MeasurementRunner"
   ]
  },
  {
   "cell_type": "code",
   "execution_count": null,
   "metadata": {},
   "outputs": [],
   "source": [
    "runner = MeasurementRunner(\n",
    "    system, \n",
    "    spec, \n",
    "    wls=None, # np.arange(200, 800, 1), \n",
    "    smoothing_window=1, \n",
    "    n_steps=10, \n",
    "    n_avg=1, \n",
    "    remove_zero=False, \n",
    ")"
   ]
  },
  {
   "cell_type": "markdown",
   "metadata": {},
   "source": [
    "You're now ready to run the measurement. Set the verbosity level: **verbose**=0 will display nothing, verbose=1 will display minimal updates, verbose=2 will display both voltages for the LED measurements and photons counted per second."
   ]
  },
  {
   "cell_type": "code",
   "execution_count": null,
   "metadata": {},
   "outputs": [],
   "source": [
    "runner.run(verbose=2)"
   ]
  },
  {
   "cell_type": "markdown",
   "metadata": {},
   "source": [
    "After the measurement, the system will have a new attribute called **spms**- standing for spectral measurement. This attribute is its own class containign wavelength values across intensities, and is used for fitting photoreceptors. You can also plot **spms** to visualize your measurements. "
   ]
  },
  {
   "cell_type": "code",
   "execution_count": null,
   "metadata": {},
   "outputs": [],
   "source": [
    "system.spms.units"
   ]
  },
  {
   "cell_type": "code",
   "execution_count": null,
   "metadata": {},
   "outputs": [],
   "source": [
    "plt.plot(\n",
    "    system.spms.domain, system.spms\n",
    ")\n",
    "plt.xlabel('Volts (V)')\n",
    "plt.ylabel('photon flux')"
   ]
  },
  {
   "cell_type": "markdown",
   "metadata": {},
   "source": [
    "You can simply map the measured intensity values to voltage output that you have to give. In this example, intensities are 30 microE_Q, and we are asking what voltage value must be applied to each LED to reach this intensity. "
   ]
  },
  {
   "cell_type": "code",
   "execution_count": null,
   "metadata": {},
   "outputs": [],
   "source": [
    "system.spms.map(np.array([30000]*6))"
   ]
  },
  {
   "cell_type": "markdown",
   "metadata": {},
   "source": [
    "**spms** stores both the measured spectrum (intensity across volts) and the normalized spectrum plotted below, where each LED spectrum is normalized with as an integral of 1"
   ]
  },
  {
   "cell_type": "code",
   "execution_count": null,
   "metadata": {},
   "outputs": [],
   "source": [
    "plt.plot(\n",
    "    system.spms.normalized_spectrum.wavelengths, \n",
    "    system.spms.normalized_spectrum)\n",
    "plt.xlabel('wavelengths')\n",
    "plt.ylabel('normalized flux intensity')"
   ]
  },
  {
   "cell_type": "markdown",
   "metadata": {},
   "source": [
    "Save the system instance that you have created (including the measurement (**spms**) and hardware settings)"
   ]
  },
  {
   "cell_type": "code",
   "execution_count": null,
   "metadata": {},
   "outputs": [],
   "source": [
    "runner.save('measurement_test.json')"
   ]
  },
  {
   "cell_type": "markdown",
   "metadata": {},
   "source": [
    "Finally, you can reload the system to plot measurements, etc"
   ]
  },
  {
   "cell_type": "code",
   "execution_count": null,
   "metadata": {},
   "outputs": [],
   "source": [
    "from dreye.io import read_json"
   ]
  },
  {
   "cell_type": "code",
   "execution_count": null,
   "metadata": {},
   "outputs": [],
   "source": [
    "system_loaded = read_json('measurement_test.json')"
   ]
  },
  {
   "cell_type": "code",
   "execution_count": null,
   "metadata": {},
   "outputs": [],
   "source": [
    "print(system_loaded)"
   ]
  },
  {
   "cell_type": "code",
   "execution_count": null,
   "metadata": {},
   "outputs": [],
   "source": [
    "plt.plot(\n",
    "    system_loaded.spms.domain, system_loaded.spms\n",
    ")\n",
    "plt.xlabel('Volts (V)')\n",
    "plt.ylabel('photon flux')"
   ]
  },
  {
   "cell_type": "code",
   "execution_count": null,
   "metadata": {},
   "outputs": [],
   "source": [
    "plt.plot(\n",
    "    system_loaded.spms.normalized_spectrum.wavelengths, \n",
    "    system_loaded.spms.normalized_spectrum)\n",
    "plt.xlabel('wavelengths')\n",
    "plt.ylabel('normalized flux intensity')"
   ]
  },
  {
   "cell_type": "markdown",
   "metadata": {},
   "source": [
    "After confirming that the code runs on your system, it's time to create your real measurements. Make sure that the subclasses you use are appropriate for your LED system and spectrophotometer. "
   ]
  }
 ],
 "metadata": {
  "kernelspec": {
   "display_name": "Python 3",
   "language": "python",
   "name": "python3"
  },
  "language_info": {
   "codemirror_mode": {
    "name": "ipython",
    "version": 3
   },
   "file_extension": ".py",
   "mimetype": "text/x-python",
   "name": "python",
   "nbconvert_exporter": "python",
   "pygments_lexer": "ipython3",
   "version": "3.7.6"
  }
 },
 "nbformat": 4,
 "nbformat_minor": 4
}
