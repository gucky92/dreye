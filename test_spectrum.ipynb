{
 "cells": [
  {
   "cell_type": "code",
   "execution_count": null,
   "metadata": {},
   "outputs": [],
   "source": [
    "from dreye.core import Spectrum, SpectrumMeasurement, \\\n",
    "    MeasuredSpectrum, convert_measurement, CalibrationSpectrum, \\\n",
    "    AbstractSpectrum, Signal, Domain\n",
    "from dreye.constants import UREG\n",
    "import numpy as np\n",
    "import matplotlib.pyplot as plt\n",
    "from scipy.stats import norm\n",
    "np.random.seed(10)"
   ]
  },
  {
   "cell_type": "code",
   "execution_count": null,
   "metadata": {},
   "outputs": [],
   "source": [
    "from dreye.core import create_gaussian_spectrum"
   ]
  },
  {
   "cell_type": "code",
   "execution_count": null,
   "metadata": {},
   "outputs": [],
   "source": [
    "from dreye.core import create_spectrum_measurement, create_measured_spectrum"
   ]
  },
  {
   "cell_type": "code",
   "execution_count": null,
   "metadata": {},
   "outputs": [],
   "source": [
    "from dreye.utilities import is_listlike"
   ]
  },
  {
   "cell_type": "code",
   "execution_count": null,
   "metadata": {},
   "outputs": [],
   "source": [
    "wl = np.arange(300, 600)\n",
    "s = norm.pdf(wl, 450, 10)\n",
    "s /= np.sum(s)\n",
    "noise = 0.01\n",
    "s_noise = s + np.random.normal(0, noise, size=s.shape)"
   ]
  },
  {
   "cell_type": "code",
   "execution_count": null,
   "metadata": {},
   "outputs": [],
   "source": [
    "plt.plot(wl, s)\n",
    "plt.plot(wl, s_noise)"
   ]
  },
  {
   "cell_type": "code",
   "execution_count": null,
   "metadata": {},
   "outputs": [],
   "source": [
    "gaussians = create_gaussian_spectrum(\n",
    "    wl, \n",
    "    [340, 440, 540], \n",
    "    intensity=0.5, \n",
    "    background=np.ones(wl.shape), \n",
    "    add_background=True, \n",
    "    cdf=False, \n",
    "    filter=True,\n",
    ")"
   ]
  },
  {
   "cell_type": "code",
   "execution_count": null,
   "metadata": {},
   "outputs": [],
   "source": [
    "create_gaussian_spectrum?"
   ]
  },
  {
   "cell_type": "code",
   "execution_count": null,
   "metadata": {},
   "outputs": [],
   "source": [
    "plt.plot(\n",
    "    gaussians.domain, gaussians, \n",
    ")"
   ]
  },
  {
   "cell_type": "code",
   "execution_count": null,
   "metadata": {},
   "outputs": [],
   "source": []
  },
  {
   "cell_type": "code",
   "execution_count": null,
   "metadata": {},
   "outputs": [],
   "source": [
    "s2 = norm.pdf(wl[:, None], [300, 400, 500], 10)"
   ]
  },
  {
   "cell_type": "code",
   "execution_count": null,
   "metadata": {},
   "outputs": [],
   "source": [
    "s2.shape"
   ]
  },
  {
   "cell_type": "code",
   "execution_count": null,
   "metadata": {},
   "outputs": [],
   "source": [
    "np.arange(100).reshape(10, 10).mean(0)[None]"
   ]
  },
  {
   "cell_type": "code",
   "execution_count": null,
   "metadata": {},
   "outputs": [],
   "source": [
    "cal = CalibrationSpectrum(\n",
    "    np.ones(wl.shape), \n",
    "    wl, \n",
    "    area=1\n",
    ")"
   ]
  },
  {
   "cell_type": "code",
   "execution_count": null,
   "metadata": {},
   "outputs": [],
   "source": [
    "float(asarray([1]))"
   ]
  },
  {
   "cell_type": "code",
   "execution_count": null,
   "metadata": {},
   "outputs": [],
   "source": [
    "meas3 = create_measured_spectrum(\n",
    "    np.arange(1, 10)[None, :] * norm.pdf(wl, 400, 10)[:, None], \n",
    "    np.arange(1, 10), \n",
    "    wl, \n",
    "    calibration=cal, \n",
    "    integration_time=1, \n",
    ")"
   ]
  },
  {
   "cell_type": "code",
   "execution_count": null,
   "metadata": {},
   "outputs": [],
   "source": [
    "type(meas3)"
   ]
  },
  {
   "cell_type": "code",
   "execution_count": null,
   "metadata": {},
   "outputs": [],
   "source": [
    "signal = AbstractSpectrum(\n",
    "    s_noise, wl\n",
    ")"
   ]
  },
  {
   "cell_type": "code",
   "execution_count": null,
   "metadata": {},
   "outputs": [],
   "source": [
    "measurement2 = convert_measurement(\n",
    "    AbstractSpectrum(\n",
    "        s, wl\n",
    "    ), cal, 1\n",
    ").uE\n",
    "\n",
    "for i in np.arange(2, 10):\n",
    "    m = convert_measurement(\n",
    "        AbstractSpectrum(\n",
    "            i * s, \n",
    "            wl\n",
    "        ),\n",
    "        cal, 1\n",
    "    ).irradiance\n",
    "    \n",
    "    measurement2 = measurement2.concat(\n",
    "        m, \n",
    "    )"
   ]
  },
  {
   "cell_type": "code",
   "execution_count": null,
   "metadata": {},
   "outputs": [],
   "source": [
    "plt.plot(measurement2.domain, measurement2)"
   ]
  },
  {
   "cell_type": "code",
   "execution_count": null,
   "metadata": {},
   "outputs": [],
   "source": [
    "measurement = convert_measurement(\n",
    "    signal, cal, 1\n",
    ").uE\n",
    "\n",
    "for i in np.arange(2, 10):\n",
    "    m = convert_measurement(\n",
    "        AbstractSpectrum(\n",
    "            i * s + np.random.normal(0, noise, size=s.shape), \n",
    "            wl\n",
    "        ),\n",
    "        cal, 1\n",
    "    ).irradiance\n",
    "    \n",
    "    measurement = measurement.concat(\n",
    "        m, \n",
    "    )"
   ]
  },
  {
   "cell_type": "code",
   "execution_count": null,
   "metadata": {},
   "outputs": [],
   "source": [
    "plt.plot(measurement.domain, measurement)"
   ]
  },
  {
   "cell_type": "code",
   "execution_count": null,
   "metadata": {},
   "outputs": [],
   "source": [
    "measured_spectrum = MeasuredSpectrum(\n",
    "    measurement,\n",
    "    labels=Domain(np.arange(1, 10), units='volts'), \n",
    "    smoothing_window=25, \n",
    ")"
   ]
  },
  {
   "cell_type": "code",
   "execution_count": null,
   "metadata": {},
   "outputs": [],
   "source": [
    "measured_spectrum2 = MeasuredSpectrum(\n",
    "    measurement2,\n",
    "    labels=Domain(np.arange(1, 10), units='volts'), \n",
    "    smoothing_window=25, \n",
    ")"
   ]
  },
  {
   "cell_type": "code",
   "execution_count": null,
   "metadata": {},
   "outputs": [],
   "source": [
    "spm = measured_spectrum.to_spectrum_measurement(\n",
    "    name='LED',\n",
    "    zero_boundary=0\n",
    ")\n",
    "\n",
    "print(spm.interpolator_kwargs)\n",
    "print(spm)\n",
    "print(spm.domain)\n",
    "\n",
    "y_points = [0, 0.06, 0.1, 0.2]\n",
    "x_points = spm.map(y_points)"
   ]
  },
  {
   "cell_type": "code",
   "execution_count": null,
   "metadata": {},
   "outputs": [],
   "source": [
    "x_points"
   ]
  },
  {
   "cell_type": "code",
   "execution_count": null,
   "metadata": {},
   "outputs": [],
   "source": [
    "spm.domain_bounds"
   ]
  },
  {
   "cell_type": "code",
   "execution_count": null,
   "metadata": {},
   "outputs": [],
   "source": [
    "msp = measured_spectrum.smooth"
   ]
  },
  {
   "cell_type": "code",
   "execution_count": null,
   "metadata": {},
   "outputs": [],
   "source": [
    "plt.plot(msp.domain, msp)\n"
   ]
  },
  {
   "cell_type": "code",
   "execution_count": null,
   "metadata": {},
   "outputs": [],
   "source": [
    "spm2 = msp.to_spectrum_measurement(\n",
    "    name='LED',\n",
    "    zero_boundary=0\n",
    ")\n",
    "\n",
    "x_points2 = spm2.map(y_points)"
   ]
  },
  {
   "cell_type": "code",
   "execution_count": null,
   "metadata": {},
   "outputs": [],
   "source": [
    "spm2.zero_boundary"
   ]
  },
  {
   "cell_type": "code",
   "execution_count": null,
   "metadata": {},
   "outputs": [],
   "source": [
    "spm3 = measured_spectrum2.to_spectrum_measurement(\n",
    "    name='LED',\n",
    "    zero_boundary=0\n",
    ")\n",
    "x_points3 = spm3.map(y_points)"
   ]
  },
  {
   "cell_type": "code",
   "execution_count": null,
   "metadata": {},
   "outputs": [],
   "source": [
    "plt.scatter(x_points, y_points)\n",
    "plt.plot(spm.domain, spm)\n",
    "plt.scatter(x_points2, y_points)\n",
    "plt.plot(spm2.domain, spm2)\n",
    "plt.scatter(x_points3, y_points)\n",
    "plt.plot(spm3.domain, spm3)"
   ]
  },
  {
   "cell_type": "code",
   "execution_count": null,
   "metadata": {},
   "outputs": [],
   "source": [
    "for idx, led in enumerate([300, 360, 400, 500]):\n",
    "    \n",
    "    s2 = norm.pdf(wl, led, 20)\n",
    "    mess = convert_measurement(\n",
    "        AbstractSpectrum(\n",
    "            s2 + np.random.normal(0, noise, size=s.shape), \n",
    "            wl\n",
    "        ), cal, 1\n",
    "    ).uE\n",
    "\n",
    "    for i in np.arange(2, 10):\n",
    "        m = convert_measurement(\n",
    "            AbstractSpectrum(\n",
    "                i * s2 + np.random.normal(0, noise, size=s.shape), \n",
    "                wl\n",
    "            ),\n",
    "            cal, 1\n",
    "        ).irradiance\n",
    "\n",
    "        mess = mess.concat(\n",
    "            m, \n",
    "        )\n",
    "\n",
    "    ms = MeasuredSpectrum(\n",
    "        mess,\n",
    "        labels=Domain(np.arange(1, 10), units='volts'), \n",
    "        smoothing_window=25, \n",
    "    ).to_spectrum_measurement(\n",
    "        name=f'LED{led}'\n",
    "        zero_boundary=0\n",
    "    )\n",
    "        \n",
    "    if idx == 0:\n",
    "        mss = ms\n",
    "    else:\n",
    "        mss = mss.concat(ms)"
   ]
  },
  {
   "cell_type": "code",
   "execution_count": null,
   "metadata": {},
   "outputs": [],
   "source": [
    "mss.shape"
   ]
  },
  {
   "cell_type": "code",
   "execution_count": null,
   "metadata": {},
   "outputs": [],
   "source": [
    "plt.plot(mss.domain, mss)"
   ]
  },
  {
   "cell_type": "code",
   "execution_count": null,
   "metadata": {},
   "outputs": [],
   "source": [
    "from dreye.core import LogPhotoreceptor, \\\n",
    "    RelativeOpsinSensitivity, Spectrum, Domain\n",
    "from scipy.stats import norm"
   ]
  },
  {
   "cell_type": "code",
   "execution_count": null,
   "metadata": {},
   "outputs": [],
   "source": [
    "wl = np.arange(300, 600)\n",
    "ops = norm.pdf(wl, 433, 40)"
   ]
  },
  {
   "cell_type": "code",
   "execution_count": null,
   "metadata": {},
   "outputs": [],
   "source": [
    "opsin = RelativeOpsinSensitivity(\n",
    "    ops, \n",
    "    domain=wl, \n",
    ")"
   ]
  },
  {
   "cell_type": "code",
   "execution_count": null,
   "metadata": {},
   "outputs": [],
   "source": [
    "pr = LogPhotoreceptor(opsin)\n",
    "\n"
   ]
  },
  {
   "cell_type": "code",
   "execution_count": null,
   "metadata": {},
   "outputs": [],
   "source": [
    "plt.plot(opsin.domain, opsin)"
   ]
  },
  {
   "cell_type": "code",
   "execution_count": null,
   "metadata": {},
   "outputs": [],
   "source": [
    "ill = norm.pdf(wl, 400, 80)\n",
    "bg = np.ones(wl.shape)\n",
    "bg /= np.sum(bg) * 100"
   ]
  },
  {
   "cell_type": "code",
   "execution_count": null,
   "metadata": {},
   "outputs": [],
   "source": [
    "illuminant = Spectrum(\n",
    "    ill, \n",
    "    domain=wl\n",
    ").uE\n",
    "background = Spectrum(\n",
    "    bg, \n",
    "    domain=wl\n",
    ").uE"
   ]
  },
  {
   "cell_type": "code",
   "execution_count": null,
   "metadata": {},
   "outputs": [],
   "source": [
    "background.integral, illuminant.integral"
   ]
  },
  {
   "cell_type": "code",
   "execution_count": null,
   "metadata": {},
   "outputs": [],
   "source": [
    "targets, A = pr.get_qs(\n",
    "    mss, \n",
    "    illuminant/20, \n",
    "    background=background, \n",
    ")"
   ]
  },
  {
   "cell_type": "code",
   "execution_count": null,
   "metadata": {},
   "outputs": [],
   "source": [
    "bg_weights, bg_res, bg_new = mss.fit(\n",
    "    background, return_fit=True, return_res=True\n",
    ")"
   ]
  },
  {
   "cell_type": "code",
   "execution_count": null,
   "metadata": {},
   "outputs": [],
   "source": [
    "bg_weights"
   ]
  },
  {
   "cell_type": "code",
   "execution_count": null,
   "metadata": {},
   "outputs": [],
   "source": [
    "plt.plot(bg_new.domain, bg_new)\n",
    "plt.plot(background.domain, background)"
   ]
  },
  {
   "cell_type": "code",
   "execution_count": null,
   "metadata": {},
   "outputs": [],
   "source": [
    "print(A)"
   ]
  },
  {
   "cell_type": "code",
   "execution_count": null,
   "metadata": {},
   "outputs": [],
   "source": [
    "w, res = pr.fit(\n",
    "    mss, \n",
    "    illuminant/10 +  background, \n",
    "    background=background, \n",
    "    return_res=True, \n",
    ")"
   ]
  },
  {
   "cell_type": "code",
   "execution_count": null,
   "metadata": {},
   "outputs": [],
   "source": [
    "res"
   ]
  },
  {
   "cell_type": "code",
   "execution_count": null,
   "metadata": {},
   "outputs": [],
   "source": [
    "w.shape"
   ]
  },
  {
   "cell_type": "code",
   "execution_count": null,
   "metadata": {},
   "outputs": [],
   "source": [
    "mss.units"
   ]
  },
  {
   "cell_type": "code",
   "execution_count": null,
   "metadata": {},
   "outputs": [],
   "source": [
    "print(w)"
   ]
  },
  {
   "cell_type": "code",
   "execution_count": null,
   "metadata": {},
   "outputs": [],
   "source": [
    "mss.bounds"
   ]
  },
  {
   "cell_type": "code",
   "execution_count": null,
   "metadata": {},
   "outputs": [],
   "source": [
    "map_values = np.random.random(\n",
    "    (100, mss.shape[mss.other_axis])\n",
    ") * mss.bounds[1][None, :]"
   ]
  },
  {
   "cell_type": "code",
   "execution_count": null,
   "metadata": {},
   "outputs": [],
   "source": [
    "mapped = mss.map(map_values, method='isotonic')"
   ]
  },
  {
   "cell_type": "code",
   "execution_count": null,
   "metadata": {},
   "outputs": [],
   "source": [
    "xmss = mss.map(w, top=10)\n",
    "print(xmss)"
   ]
  },
  {
   "cell_type": "code",
   "execution_count": null,
   "metadata": {},
   "outputs": [],
   "source": [
    "mss_smooth = mss.window_filter(\n",
    "    3, 'savgol', polyorder=2\n",
    ")\n",
    "type(mss_smooth)"
   ]
  },
  {
   "cell_type": "code",
   "execution_count": null,
   "metadata": {},
   "outputs": [],
   "source": [
    "xmss2 = mss_smooth.map(w)\n",
    "print(xmss2)"
   ]
  },
  {
   "cell_type": "code",
   "execution_count": null,
   "metadata": {},
   "outputs": [],
   "source": [
    "plt.plot(mss.domain, mss)\n",
    "\n",
    "for ixms, iw in zip(np.squeeze(xmss), np.squeeze(w)):\n",
    "    plt.scatter(\n",
    "        ixms, iw, \n",
    "    )"
   ]
  },
  {
   "cell_type": "code",
   "execution_count": null,
   "metadata": {},
   "outputs": [],
   "source": [
    "plt.plot(mss.domain, mss)\n",
    "\n",
    "for ixms, iw in zip(mapped.T, map_values.T):\n",
    "    plt.scatter(\n",
    "        ixms, iw, \n",
    "    )"
   ]
  },
  {
   "cell_type": "code",
   "execution_count": null,
   "metadata": {},
   "outputs": [],
   "source": [
    "mss.bounds"
   ]
  },
  {
   "cell_type": "code",
   "execution_count": null,
   "metadata": {},
   "outputs": [],
   "source": [
    "mss.domain_bounds"
   ]
  },
  {
   "cell_type": "code",
   "execution_count": null,
   "metadata": {},
   "outputs": [],
   "source": [
    "opsin2 = RelativeOpsinSensitivity(\n",
    "    norm.pdf(wl[:,None], asarray([[330, 450, 560]]), 40),\n",
    "    domain=wl, \n",
    ")"
   ]
  },
  {
   "cell_type": "code",
   "execution_count": null,
   "metadata": {},
   "outputs": [],
   "source": [
    "pr = LogPhotoreceptor(opsin2)\n",
    "\n"
   ]
  },
  {
   "cell_type": "code",
   "execution_count": null,
   "metadata": {},
   "outputs": [],
   "source": [
    "ill2 = Spectrum(\n",
    "    norm.pdf(wl[:,None], asarray([[360, 480, 530, 320]]), 10), \n",
    "    domain=wl, \n",
    "    units='microspectralphotonflux'\n",
    ")"
   ]
  },
  {
   "cell_type": "code",
   "execution_count": null,
   "metadata": {},
   "outputs": [],
   "source": [
    "plt.plot(ill2)\n",
    "#plt.plot(opsin2)"
   ]
  },
  {
   "cell_type": "code",
   "execution_count": null,
   "metadata": {},
   "outputs": [],
   "source": [
    "plt.plot(opsin2)"
   ]
  },
  {
   "cell_type": "code",
   "execution_count": null,
   "metadata": {},
   "outputs": [],
   "source": [
    "plt.plot(mss.normalized_spectrum)"
   ]
  },
  {
   "cell_type": "code",
   "execution_count": null,
   "metadata": {},
   "outputs": [],
   "source": [
    "w, res = pr.fit(\n",
    "    mss, \n",
    "    ill2/20 +  background, \n",
    "    background=background, \n",
    "    return_res=True, \n",
    ")"
   ]
  },
  {
   "cell_type": "code",
   "execution_count": null,
   "metadata": {},
   "outputs": [],
   "source": [
    "print(w)\n",
    "w.shape"
   ]
  },
  {
   "cell_type": "code",
   "execution_count": null,
   "metadata": {},
   "outputs": [],
   "source": [
    "res[1].fun"
   ]
  },
  {
   "cell_type": "code",
   "execution_count": null,
   "metadata": {},
   "outputs": [],
   "source": [
    "targets, A = pr.get_qs(\n",
    "    mss, \n",
    "    ill2 +  background,  \n",
    "    background=background, \n",
    ")"
   ]
  },
  {
   "cell_type": "code",
   "execution_count": null,
   "metadata": {},
   "outputs": [],
   "source": [
    "targets"
   ]
  },
  {
   "cell_type": "code",
   "execution_count": null,
   "metadata": {},
   "outputs": [],
   "source": [
    "print(A)"
   ]
  },
  {
   "cell_type": "code",
   "execution_count": null,
   "metadata": {},
   "outputs": [],
   "source": [
    "xmss = mss.map(w)"
   ]
  },
  {
   "cell_type": "code",
   "execution_count": null,
   "metadata": {},
   "outputs": [],
   "source": [
    "plt.plot(mss.domain, mss)\n",
    "\n",
    "for ixms, iw in zip(np.squeeze(xmss.T), np.squeeze(w.T)):\n",
    "    plt.scatter(\n",
    "        ixms, iw, \n",
    "    )"
   ]
  },
  {
   "cell_type": "code",
   "execution_count": null,
   "metadata": {},
   "outputs": [],
   "source": []
  }
 ],
 "metadata": {
  "kernelspec": {
   "display_name": "Python 3",
   "language": "python",
   "name": "python3"
  },
  "language_info": {
   "codemirror_mode": {
    "name": "ipython",
    "version": 3
   },
   "file_extension": ".py",
   "mimetype": "text/x-python",
   "name": "python",
   "nbconvert_exporter": "python",
   "pygments_lexer": "ipython3",
   "version": "3.7.4"
  }
 },
 "nbformat": 4,
 "nbformat_minor": 4
}
