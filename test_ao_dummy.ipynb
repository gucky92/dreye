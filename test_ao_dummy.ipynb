{
 "cells": [
  {
   "cell_type": "code",
   "execution_count": null,
   "metadata": {},
   "outputs": [],
   "source": [
    "from dreye.hardware import dummy_system\n",
    "from dreye.hardware import dummy_spectrometer\n",
    "from dreye.core.spectrum_utils import create_gaussian_spectrum\n",
    "import numpy as np\n",
    "import matplotlib.pyplot as plt\n",
    "import warnings"
   ]
  },
  {
   "cell_type": "code",
   "execution_count": null,
   "metadata": {},
   "outputs": [],
   "source": [
    "wls = np.arange(100, 1000, 0.1)\n",
    "dummy_leds = create_gaussian_spectrum(\n",
    "    wls, \n",
    "    [340, 360, 415, 455, 565, 615], \n",
    "    std=8, \n",
    "    units='spectralirradiance'\n",
    ")\n",
    "plt.plot(dummy_leds.domain, dummy_leds)\n",
    "plt.xlabel('wavelengths (nm)')\n",
    "plt.ylabel('irradiance')"
   ]
  },
  {
   "cell_type": "code",
   "execution_count": null,
   "metadata": {},
   "outputs": [],
   "source": [
    "leds = ['duv', 'uv', 'violet', 'rblue', 'lime', 'orange']\n",
    "channels = ['Dev2/ao1', 'Dev3/ao1', \n",
    "            'Dev3/ao0', 'Dev1/ao1', \n",
    "            'Dev2/ao0', 'Dev1/ao0']\n",
    "zeros = [4.4] * 5 + [0.]\n",
    "maxs = [0.] * 5 + [5.]"
   ]
  },
  {
   "cell_type": "code",
   "execution_count": null,
   "metadata": {},
   "outputs": [],
   "source": [
    "outputs = []\n",
    "for led, ch, z, m in zip(leds, channels, zeros, maxs):\n",
    "    outputs.append(\n",
    "        dummy_system.DummyOutput(\n",
    "            ch, led, \n",
    "            zero_boundary=z, \n",
    "            max_boundary=m, \n",
    "            units='V'\n",
    "        )\n",
    "    )"
   ]
  },
  {
   "cell_type": "code",
   "execution_count": null,
   "metadata": {},
   "outputs": [],
   "source": [
    "system = dummy_system.DummySystem(outputs)"
   ]
  },
  {
   "cell_type": "code",
   "execution_count": null,
   "metadata": {},
   "outputs": [],
   "source": [
    "system"
   ]
  },
  {
   "cell_type": "code",
   "execution_count": null,
   "metadata": {},
   "outputs": [],
   "source": [
    "spec = dummy_spectrometer.Spectrometer(\n",
    "    wls, \n",
    "    dummy_leds, \n",
    "    system,\n",
    "    noise_scale=2, \n",
    ")"
   ]
  },
  {
   "cell_type": "code",
   "execution_count": null,
   "metadata": {},
   "outputs": [],
   "source": [
    "from dreye.hardware.measurement_runner import MeasurementRunner"
   ]
  },
  {
   "cell_type": "code",
   "execution_count": null,
   "metadata": {},
   "outputs": [],
   "source": [
    "runner = MeasurementRunner(\n",
    "    system, \n",
    "    spec, \n",
    "    wls=None, # np.arange(200, 800, 1), \n",
    "    smoothing_window=1, \n",
    "    n_steps=10, \n",
    "    n_avg=1, \n",
    "    remove_zero=False, \n",
    ")"
   ]
  },
  {
   "cell_type": "code",
   "execution_count": null,
   "metadata": {},
   "outputs": [],
   "source": [
    "runner.run(verbose=2)"
   ]
  },
  {
   "cell_type": "code",
   "execution_count": null,
   "metadata": {},
   "outputs": [],
   "source": [
    "system.spms.units"
   ]
  },
  {
   "cell_type": "code",
   "execution_count": null,
   "metadata": {},
   "outputs": [],
   "source": [
    "plt.plot(\n",
    "    system.spms.domain, system.spms\n",
    ")\n",
    "plt.xlabel('Volts (V)')\n",
    "plt.ylabel('photon flux')"
   ]
  },
  {
   "cell_type": "code",
   "execution_count": null,
   "metadata": {},
   "outputs": [],
   "source": [
    "system.spms.map(asarray([30000]*6))"
   ]
  },
  {
   "cell_type": "code",
   "execution_count": null,
   "metadata": {},
   "outputs": [],
   "source": [
    "plt.plot(\n",
    "    system.spms.normalized_spectrum.wavelengths, \n",
    "    system.spms.normalized_spectrum)\n",
    "plt.xlabel('wavelengths')\n",
    "plt.ylabel('normalized flux intensity')"
   ]
  },
  {
   "cell_type": "code",
   "execution_count": null,
   "metadata": {},
   "outputs": [],
   "source": [
    "runner.save('measurement_test.json')"
   ]
  },
  {
   "cell_type": "code",
   "execution_count": null,
   "metadata": {},
   "outputs": [],
   "source": [
    "from dreye.io import read_json"
   ]
  },
  {
   "cell_type": "code",
   "execution_count": null,
   "metadata": {},
   "outputs": [],
   "source": [
    "system_loaded = read_json('measurement_test.json')"
   ]
  },
  {
   "cell_type": "code",
   "execution_count": null,
   "metadata": {},
   "outputs": [],
   "source": [
    "print(system_loaded)"
   ]
  },
  {
   "cell_type": "code",
   "execution_count": null,
   "metadata": {},
   "outputs": [],
   "source": [
    "plt.plot(\n",
    "    system_loaded.spms.domain, system_loaded.spms\n",
    ")\n",
    "plt.xlabel('Volts (V)')\n",
    "plt.ylabel('photon flux')"
   ]
  },
  {
   "cell_type": "code",
   "execution_count": null,
   "metadata": {},
   "outputs": [],
   "source": [
    "plt.plot(\n",
    "    system_loaded.spms.normalized_spectrum.wavelengths, \n",
    "    system_loaded.spms.normalized_spectrum)\n",
    "plt.xlabel('wavelengths')\n",
    "plt.ylabel('normalized flux intensity')"
   ]
  },
  {
   "cell_type": "code",
   "execution_count": null,
   "metadata": {},
   "outputs": [],
   "source": []
  }
 ],
 "metadata": {
  "kernelspec": {
   "display_name": "Python 3",
   "language": "python",
   "name": "python3"
  },
  "language_info": {
   "codemirror_mode": {
    "name": "ipython",
    "version": 3
   },
   "file_extension": ".py",
   "mimetype": "text/x-python",
   "name": "python",
   "nbconvert_exporter": "python",
   "pygments_lexer": "ipython3",
   "version": "3.7.4"
  }
 },
 "nbformat": 4,
 "nbformat_minor": 4
}
