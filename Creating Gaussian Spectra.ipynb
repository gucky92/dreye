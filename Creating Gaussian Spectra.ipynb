{
 "cells": [
  {
   "cell_type": "markdown",
   "metadata": {},
   "source": [
    "**create_gaussian_spectrum** is a convenience function that allows for creation of gaussian distributions for a variety of purposes, e.g. simulating LEDs, creating single wavelegnth stimuli, simulating opsin sensitivities, etc"
   ]
  },
  {
   "cell_type": "code",
   "execution_count": null,
   "metadata": {},
   "outputs": [],
   "source": [
    "import numpy as np\n",
    "import matplotlib.pyplot as plt\n",
    "from scipy.stats import norm\n",
    "np.random.seed(10)\n",
    "from dreye.core import create_gaussian_spectrum"
   ]
  },
  {
   "cell_type": "markdown",
   "metadata": {},
   "source": [
    "First, create a numpy array with the range of desired wavelengths.\n"
   ]
  },
  {
   "cell_type": "code",
   "execution_count": null,
   "metadata": {},
   "outputs": [],
   "source": [
    "wl = np.arange(300, 600)"
   ]
  },
  {
   "cell_type": "markdown",
   "metadata": {},
   "source": [
    "Next, create the distribution(s) and specify characteristics."
   ]
  },
  {
   "cell_type": "code",
   "execution_count": null,
   "metadata": {},
   "outputs": [],
   "source": [
    "#get an idea of how to use the function: \n",
    "create_gaussian_spectrum?"
   ]
  },
  {
   "cell_type": "markdown",
   "metadata": {},
   "source": [
    "**General Specifications**\n",
    " - \"wavelengths\" pulls in the specified wavelength array in nm\n",
    " - \"centers\" indicates that the selected wavelengths are at the center of each single wavelength distribution \n",
    " - \"std\" specifies the standard deviation in nm\n",
    " - \"units\" can be set to 'spectralphotonflux' or 'spectralirradiance' and the scale specified (micro, nano, etc)- e.g. 'nanospectralphotonflux'\n",
    " - \"cdf\" allows changes to the distribution function. If cdf=True, the cdf will be plotted; if cdf=None, the pdf will be plotted; if cdf=False, 1-cdf will be plotted \n",
    " - \"zero_cutoff\" cuts off spectral distribution at 0 if there are negative values\n",
    " \n",
    "**Stimuli specifications**\n",
    "<br>If users are using this function to create spectra for stimuli, they can modify additional parameters. \n",
    " - \"add_background\" allows users to modify stimuli by passing a numpy array of same length as the wl array to add that background distribution \n",
    " - \"filter\" allows users to filter by that background distribution instead of treating it as a pure spectral distribution"
   ]
  },
  {
   "cell_type": "code",
   "execution_count": null,
   "metadata": {},
   "outputs": [],
   "source": [
    "gaussians = create_gaussian_spectrum(\n",
    "    wl, \n",
    "    [340, 440, 540], \n",
    "    intensity=0.5, \n",
    "    background=np.ones(wl.shape), \n",
    "    add_background=True, \n",
    "    cdf=False,\n",
    "    filter=True,\n",
    ")"
   ]
  },
  {
   "cell_type": "markdown",
   "metadata": {},
   "source": [
    " Finally, plot your distribution(s) to confirm they meet the specified requirements. "
   ]
  },
  {
   "cell_type": "code",
   "execution_count": null,
   "metadata": {},
   "outputs": [],
   "source": [
    "plt.plot(\n",
    "    gaussians.domain, gaussians, \n",
    ")"
   ]
  },
  {
   "cell_type": "markdown",
   "metadata": {},
   "source": [
    "These gaussians are an instance of a class in the dreye package- here you can see three arbitrary low pass signals, which would filter out high frequencies."
   ]
  },
  {
   "cell_type": "code",
   "execution_count": null,
   "metadata": {},
   "outputs": [],
   "source": []
  }
 ],
 "metadata": {
  "kernelspec": {
   "display_name": "Python 3",
   "language": "python",
   "name": "python3"
  },
  "language_info": {
   "codemirror_mode": {
    "name": "ipython",
    "version": 3
   },
   "file_extension": ".py",
   "mimetype": "text/x-python",
   "name": "python",
   "nbconvert_exporter": "python",
   "pygments_lexer": "ipython3",
   "version": "3.7.6"
  }
 },
 "nbformat": 4,
 "nbformat_minor": 4
}
