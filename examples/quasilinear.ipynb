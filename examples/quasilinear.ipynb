{
 "cells": [
  {
   "cell_type": "code",
   "execution_count": 85,
   "id": "c936bc20-c610-4c86-9f3e-bd82bd0ff794",
   "metadata": {},
   "outputs": [],
   "source": [
    "from dreye.api.optimize import lsq_linear as lsq\n",
    "import numpy as np\n",
    "import cvxpy as cp"
   ]
  },
  {
   "cell_type": "code",
   "execution_count": 86,
   "id": "25275f7b-ef43-444f-b696-6bf48b91a889",
   "metadata": {},
   "outputs": [],
   "source": [
    "n, m = 4, 6\n",
    "A = np.random.random((n, m))\n",
    "xtarget = np.ones(m)/2\n",
    "#np.random.random(m)\n",
    "qtarget = A @ xtarget\n",
    "# qtarget = np.random.random((1, m))\n",
    "etarget = qtarget / (1+qtarget)"
   ]
  },
  {
   "cell_type": "code",
   "execution_count": 87,
   "id": "eb27d05e-1c35-4880-ae14-f0ffa0882b3e",
   "metadata": {},
   "outputs": [],
   "source": [
    "x = cp.Variable((m), pos=True)"
   ]
  },
  {
   "cell_type": "code",
   "execution_count": 88,
   "id": "7131f9dd-0067-4461-8269-0ea39fd913e1",
   "metadata": {},
   "outputs": [],
   "source": [
    "q = A @ x"
   ]
  },
  {
   "cell_type": "code",
   "execution_count": 89,
   "id": "6ba09f21-b183-447a-9877-3695dc0fce7f",
   "metadata": {},
   "outputs": [],
   "source": [
    "e = q / (1+q)"
   ]
  },
  {
   "cell_type": "code",
   "execution_count": 122,
   "id": "bc25a5dc-8a32-47ed-9d77-45d1e4388b54",
   "metadata": {},
   "outputs": [
    {
     "data": {
      "text/plain": [
       "Expression(QUASILINEAR, NONNEGATIVE, (4,))"
      ]
     },
     "execution_count": 122,
     "metadata": {},
     "output_type": "execute_result"
    }
   ],
   "source": [
    "e"
   ]
  },
  {
   "cell_type": "code",
   "execution_count": 131,
   "id": "f31700d2-bc07-49ef-bd80-286064e81532",
   "metadata": {},
   "outputs": [
    {
     "data": {
      "text/plain": [
       "Expression(QUASILINEAR, NONNEGATIVE, ())"
      ]
     },
     "execution_count": 131,
     "metadata": {},
     "output_type": "execute_result"
    }
   ],
   "source": [
    "cp.sum(q)/cp.sum(1+q)  # intensity"
   ]
  },
  {
   "cell_type": "code",
   "execution_count": 135,
   "id": "30f93a27-9237-4a8b-bd89-1f88c50c5032",
   "metadata": {},
   "outputs": [],
   "source": [
    "c = cp.Variable(1, pos=True)"
   ]
  },
  {
   "cell_type": "code",
   "execution_count": 161,
   "id": "4bdca344-6548-47df-87ad-8df770bab045",
   "metadata": {},
   "outputs": [
    {
     "data": {
      "text/plain": [
       "Expression(QUASILINEAR, NONNEGATIVE, (4,))"
      ]
     },
     "execution_count": 161,
     "metadata": {},
     "output_type": "execute_result"
    }
   ],
   "source": [
    "q/cp.sum(q)"
   ]
  },
  {
   "cell_type": "code",
   "execution_count": 163,
   "id": "56d65df5-a7de-4e9c-b37a-6f5f6212b72c",
   "metadata": {},
   "outputs": [
    {
     "data": {
      "text/plain": [
       "Equality(Expression(AFFINE, NONNEGATIVE, (4,)), Expression(AFFINE, NONNEGATIVE, (4,)))"
      ]
     },
     "execution_count": 163,
     "metadata": {},
     "output_type": "execute_result"
    }
   ],
   "source": [
    "q == cp.sum(q) * qtarget/np.sum(qtarget)"
   ]
  },
  {
   "cell_type": "code",
   "execution_count": 159,
   "id": "963c07d1-4d44-48b4-b3f8-414c7cb44060",
   "metadata": {},
   "outputs": [],
   "source": [
    "testc = cp.sum(q) == np.sum(qtarget)/np.sum(1+qtarget) * cp.sum(1+q)"
   ]
  },
  {
   "cell_type": "code",
   "execution_count": 160,
   "id": "9e05e66b-b41b-4599-8002-ab54144ec4d6",
   "metadata": {},
   "outputs": [
    {
     "data": {
      "text/plain": [
       "True"
      ]
     },
     "execution_count": 160,
     "metadata": {},
     "output_type": "execute_result"
    }
   ],
   "source": [
    "testc.is_dqcp()"
   ]
  },
  {
   "cell_type": "code",
   "execution_count": 91,
   "id": "e17bbc65-73a5-422c-980f-b988800f4bbd",
   "metadata": {},
   "outputs": [],
   "source": [
    "denom = cp.multiply((1+q), (1+qtarget))"
   ]
  },
  {
   "cell_type": "code",
   "execution_count": 92,
   "id": "68fe9956-60d0-413d-9e7b-356af93d0445",
   "metadata": {},
   "outputs": [],
   "source": [
    "num = q - qtarget"
   ]
  },
  {
   "cell_type": "code",
   "execution_count": 93,
   "id": "81041acd-95df-4185-8e69-e5e6d28de15b",
   "metadata": {},
   "outputs": [
    {
     "data": {
      "text/plain": [
       "Expression(UNKNOWN, NONNEGATIVE, ())"
      ]
     },
     "execution_count": 93,
     "metadata": {},
     "output_type": "execute_result"
    }
   ],
   "source": [
    "cp.sum(cp.abs(num) / denom)"
   ]
  },
  {
   "cell_type": "code",
   "execution_count": 94,
   "id": "46748865-f95c-4432-846f-e9a6fcdef5e2",
   "metadata": {},
   "outputs": [],
   "source": [
    "obj = cp.Minimize(cp.max(cp.abs(num)/denom))"
   ]
  },
  {
   "cell_type": "code",
   "execution_count": 95,
   "id": "807e3030-ffea-421d-b784-07f60691976c",
   "metadata": {},
   "outputs": [],
   "source": [
    "constraints = [\n",
    "    x <= 1\n",
    "]"
   ]
  },
  {
   "cell_type": "code",
   "execution_count": 109,
   "id": "1355dbee-8788-493c-8e1f-71ae021cf75e",
   "metadata": {},
   "outputs": [
    {
     "data": {
      "text/plain": [
       "Minimize(Expression(CONVEX, NONNEGATIVE, ()))"
      ]
     },
     "execution_count": 109,
     "metadata": {},
     "output_type": "execute_result"
    }
   ],
   "source": [
    "obj = cp.Minimize(cp.sum_squares(x - cp.sum(x)/x.size))\n",
    "obj"
   ]
  },
  {
   "cell_type": "code",
   "execution_count": 110,
   "id": "3d978b27-429b-477d-8c07-f6ff70e3a9e1",
   "metadata": {},
   "outputs": [],
   "source": [
    "constraints = [\n",
    "    x <= 1, \n",
    "    cp.max(cp.abs(num)/denom) <= 1e-4\n",
    "]"
   ]
  },
  {
   "cell_type": "code",
   "execution_count": 111,
   "id": "02aec388-69d9-4100-9e25-bca19137c09b",
   "metadata": {},
   "outputs": [],
   "source": [
    "prob = cp.Problem(obj, constraints)"
   ]
  },
  {
   "cell_type": "code",
   "execution_count": 112,
   "id": "6fec2fb4-a195-4f15-a952-6386830e171d",
   "metadata": {},
   "outputs": [
    {
     "data": {
      "text/plain": [
       "Problem(Minimize(Expression(CONVEX, NONNEGATIVE, ())), [Inequality(Variable((6,), nonneg=True, pos=True)), Inequality(Expression(QUASICONVEX, NONNEGATIVE, ()))])"
      ]
     },
     "execution_count": 112,
     "metadata": {},
     "output_type": "execute_result"
    }
   ],
   "source": [
    "prob"
   ]
  },
  {
   "cell_type": "code",
   "execution_count": 113,
   "id": "31f5739e-c24a-4668-8c0c-30b40114481d",
   "metadata": {
    "collapsed": true,
    "jupyter": {
     "outputs_hidden": true
    },
    "tags": []
   },
   "outputs": [
    {
     "name": "stdout",
     "output_type": "stream",
     "text": [
      "===============================================================================\n",
      "                                     CVXPY                                     \n",
      "                                    v1.1.15                                    \n",
      "===============================================================================\n",
      "(CVXPY) Nov 08 06:50:02 PM: Your problem has 6 variables, 2 constraints, and 0 parameters.\n",
      "(CVXPY) Nov 08 06:50:02 PM: It is compliant with the following grammars: DQCP\n",
      "(CVXPY) Nov 08 06:50:02 PM: (If you need to solve this problem multiple times, but with different data, consider using parameters.)\n",
      "(CVXPY) Nov 08 06:50:02 PM: CVXPY will first compile your problem; then, it will invoke a numerical solver to obtain a solution.\n",
      "(CVXPY) Nov 08 06:50:02 PM: Reducing DQCP problem to a one-parameter family of DCP problems, for bisection.\n",
      "\n",
      "********************************************************************************\n",
      "Preparing to bisect problem\n",
      "\n",
      "minimize 0.0\n",
      "subject to var3673 <= 1.0\n",
      "           var17732 <= Promote(0.0001, (4,)) @ (Promote(1.0, (4,)) + [[0.80947276 0.98737422 0.54474422 0.76392688 0.5409652  0.13349494]\n",
      " [0.42873786 0.14050794 0.5059431  0.791882   0.70713993 0.3105354 ]\n",
      " [0.20694118 0.55674318 0.28788479 0.2932176  0.78367208 0.14527081]\n",
      " [0.8515583  0.26415039 0.23996636 0.24980916 0.56490835 0.02584148]] @ var3673) @ [2.88998911 2.44237312 2.13686482 2.09811702]\n",
      "           [[0.80947276 0.98737422 0.54474422 0.76392688 0.5409652  0.13349494]\n",
      " [0.42873786 0.14050794 0.5059431  0.791882   0.70713993 0.3105354 ]\n",
      " [0.20694118 0.55674318 0.28788479 0.2932176  0.78367208 0.14527081]\n",
      " [0.8515583  0.26415039 0.23996636 0.24980916 0.56490835 0.02584148]] @ var3673 + -[1.88998911 1.44237312 1.13686482 1.09811702] <= var17732\n",
      "           -[[0.80947276 0.98737422 0.54474422 0.76392688 0.5409652  0.13349494]\n",
      " [0.42873786 0.14050794 0.5059431  0.791882   0.70713993 0.3105354 ]\n",
      " [0.20694118 0.55674318 0.28788479 0.2932176  0.78367208 0.14527081]\n",
      " [0.8515583  0.26415039 0.23996636 0.24980916 0.56490835 0.02584148]] @ var3673 + -[1.88998911 1.44237312 1.13686482 1.09811702] <= var17732\n",
      "           var17763 <= param17752\n",
      "           SOC(reshape(1.0, (1,), F) + var17763, Hstack(reshape(1.0, (1,), F) + -var17763, Promote(2.0, (6,)) @ reshape(var3673 + Promote(-Sum(var3673, None, False) / 6.0, (6,)), (6,), F)))\n",
      "\n",
      "Finding interval for bisection ...\n",
      "initial lower bound: 0.000000\n",
      "initial upper bound: 1.000000\n",
      "\n",
      "(iteration 0) lower bound: 0.000000\n",
      "(iteration 0) upper bound: 1.000000\n",
      "(iteration 0) query point: 0.500000 \n",
      "(iteration 0) query was feasible. Solution(status=optimal, opt_val=0.0, primal_vars={3673: array([0.49995234, 0.49993448, 0.49990383, 0.49996326, 0.49998209,\n",
      "       0.49981119]), 17732: array([0.0003097 , 0.00027048, 0.00018973, 0.00015563]), 17763: array([0.19304694])}, dual_vars={17712: array([0., 0., 0., 0., 0., 0.]), 17750: array([0., 0., 0., 0.]), 17735: array([0., 0., 0., 0.]), 17740: array([0., 0., 0., 0.]), 17755: array([0.]), 17771: array([0., 0., 0., 0., 0., 0., 0., 0.])}, attr={'solve_time': 0.056583, 'setup_time': 0.036583, 'num_iters': 8, 'solver_specific_stats': {'x': array([4.99952343e-01, 4.99934482e-01, 4.99903834e-01, 4.99963258e-01,\n",
      "       4.99982091e-01, 4.99811188e-01, 3.09695026e-04, 2.70480314e-04,\n",
      "       1.89729406e-04, 1.55627453e-04, 1.93046943e-01]), 'y': array([0., 0., 0., 0., 0., 0., 0., 0., 0., 0., 0., 0., 0., 0., 0., 0., 0.,\n",
      "       0., 0., 0., 0., 0., 0., 0., 0., 0., 0., 0., 0., 0., 0., 0., 0., 0.,\n",
      "       0., 0., 0.]), 's': array([ 4.99952343e-01,  4.99934482e-01,  4.99903834e-01,  4.99963258e-01,\n",
      "        4.99982091e-01,  4.99811188e-01,  3.09695053e-04,  2.70480333e-04,\n",
      "        1.89729422e-04,  1.55627470e-04,  5.00047657e-01,  5.00065518e-01,\n",
      "        5.00096166e-01,  5.00036742e-01,  5.00017909e-01,  5.00188812e-01,\n",
      "        5.25445476e-04,  3.25994671e-04,  2.66862725e-04,  2.84559972e-04,\n",
      "        5.28310565e-04,  4.49165369e-04,  3.15990001e-04,  2.60768309e-04,\n",
      "        9.10794319e-05,  9.17952158e-05,  6.34687749e-05,  5.04865650e-05,\n",
      "        3.06953057e-01,  1.19304694e+00,  8.06953057e-01,  5.56197389e-05,\n",
      "        1.98992249e-05, -4.13976206e-05,  7.74507985e-05,  1.15116571e-04,\n",
      "       -2.26688712e-04]), 'info': {'statusVal': 1, 'iter': 8, 'pobj': 0.0, 'dobj': -0.0, 'resPri': 1.6240506538528194e-11, 'resDual': 0.0, 'relGap': 0.0, 'resInfeas': nan, 'resUnbdd': nan, 'solveTime': 0.056583, 'setupTime': 0.036583, 'status': 'Solved'}}}))\n",
      "\n",
      "(iteration 5) lower bound: 0.000000\n",
      "(iteration 5) upper bound: 0.031250\n",
      "(iteration 5) query point: 0.015625 \n",
      "(iteration 5) query was feasible. Solution(status=optimal, opt_val=0.0, primal_vars={3673: array([0.49995236, 0.49993443, 0.49990378, 0.49996317, 0.49998204,\n",
      "       0.49981114]), 17732: array([0.00030955, 0.00027026, 0.00018961, 0.00015584]), 17763: array([0.00603272])}, dual_vars={17712: array([0., 0., 0., 0., 0., 0.]), 17750: array([0., 0., 0., 0.]), 17735: array([0., 0., 0., 0.]), 17740: array([0., 0., 0., 0.]), 17755: array([0.]), 17771: array([0., 0., 0., 0., 0., 0., 0., 0.])}, attr={'solve_time': 0.041167, 'setup_time': 0.026417, 'num_iters': 8, 'solver_specific_stats': {'x': array([4.99952363e-01, 4.99934431e-01, 4.99903775e-01, 4.99963170e-01,\n",
      "       4.99982043e-01, 4.99811137e-01, 3.09546231e-04, 2.70261697e-04,\n",
      "       1.89613212e-04, 1.55835037e-04, 6.03271697e-03]), 'y': array([0., 0., 0., 0., 0., 0., 0., 0., 0., 0., 0., 0., 0., 0., 0., 0., 0.,\n",
      "       0., 0., 0., 0., 0., 0., 0., 0., 0., 0., 0., 0., 0., 0., 0., 0., 0.,\n",
      "       0., 0., 0.]), 's': array([ 4.99952363e-01,  4.99934431e-01,  4.99903776e-01,  4.99963170e-01,\n",
      "        4.99982043e-01,  4.99811137e-01,  3.09546239e-04,  2.70261700e-04,\n",
      "        1.89613216e-04,  1.55835042e-04,  5.00047637e-01,  5.00065569e-01,\n",
      "        5.00096224e-01,  5.00036830e-01,  5.00017957e-01,  5.00188863e-01,\n",
      "        5.25594242e-04,  3.26213267e-04,  2.66978906e-04,  2.84352387e-04,\n",
      "        5.28327302e-04,  4.49094214e-04,  3.15985763e-04,  2.61036211e-04,\n",
      "        9.07651413e-05,  9.14291618e-05,  6.32406488e-05,  5.06338529e-05,\n",
      "        9.59228303e-03,  1.00603272e+00,  9.93967283e-01,  5.57533787e-05,\n",
      "        1.98890715e-05, -4.14223723e-05,  7.73667473e-05,  1.15112144e-04,\n",
      "       -2.26698969e-04]), 'info': {'statusVal': 1, 'iter': 8, 'pobj': 0.0, 'dobj': -0.0, 'resPri': 5.429484106438736e-12, 'resDual': 0.0, 'relGap': 0.0, 'resInfeas': nan, 'resUnbdd': nan, 'solveTime': 0.041167, 'setupTime': 0.026417, 'status': 'Solved'}}}))\n",
      "\n",
      "(iteration 10) lower bound: 0.000000\n",
      "(iteration 10) upper bound: 0.000977\n",
      "(iteration 10) query point: 0.000488 \n",
      "(iteration 10) query was feasible. Solution(status=optimal, opt_val=0.0, primal_vars={3673: array([0.49995236, 0.49993443, 0.49990378, 0.49996317, 0.49998204,\n",
      "       0.49981114]), 17732: array([0.00030955, 0.00027026, 0.00018961, 0.00015584]), 17763: array([0.00018852])}, dual_vars={17712: array([0., 0., 0., 0., 0., 0.]), 17750: array([0., 0., 0., 0.]), 17735: array([0., 0., 0., 0.]), 17740: array([0., 0., 0., 0.]), 17755: array([0.]), 17771: array([0., 0., 0., 0., 0., 0., 0., 0.])}, attr={'solve_time': 0.039125, 'setup_time': 0.024708, 'num_iters': 8, 'solver_specific_stats': {'x': array([4.99952363e-01, 4.99934431e-01, 4.99903775e-01, 4.99963170e-01,\n",
      "       4.99982043e-01, 4.99811137e-01, 3.09546092e-04, 2.70261493e-04,\n",
      "       1.89613104e-04, 1.55835246e-04, 1.88522405e-04]), 'y': array([0., 0., 0., 0., 0., 0., 0., 0., 0., 0., 0., 0., 0., 0., 0., 0., 0.,\n",
      "       0., 0., 0., 0., 0., 0., 0., 0., 0., 0., 0., 0., 0., 0., 0., 0., 0.,\n",
      "       0., 0., 0.]), 's': array([ 4.99952363e-01,  4.99934431e-01,  4.99903775e-01,  4.99963170e-01,\n",
      "        4.99982043e-01,  4.99811137e-01,  3.09546099e-04,  2.70261496e-04,\n",
      "        1.89613108e-04,  1.55835251e-04,  5.00047637e-01,  5.00065569e-01,\n",
      "        5.00096225e-01,  5.00036830e-01,  5.00017957e-01,  5.00188863e-01,\n",
      "        5.25594381e-04,  3.26213471e-04,  2.66979015e-04,  2.84352178e-04,\n",
      "        5.28327312e-04,  4.49094144e-04,  3.15985756e-04,  2.61036471e-04,\n",
      "        9.07648524e-05,  9.14288238e-05,  6.32404384e-05,  5.06340104e-05,\n",
      "        2.99758845e-04,  1.00018852e+00,  9.99811478e-01,  5.57535099e-05,\n",
      "        1.98890598e-05, -4.14223967e-05,  7.73666664e-05,  1.15112142e-04,\n",
      "       -2.26698981e-04]), 'info': {'statusVal': 1, 'iter': 8, 'pobj': 0.0, 'dobj': -0.0, 'resPri': 5.4277172970321364e-12, 'resDual': 0.0, 'relGap': 0.0, 'resInfeas': nan, 'resUnbdd': nan, 'solveTime': 0.039125, 'setupTime': 0.024708, 'status': 'Solved'}}}))\n",
      "\n",
      "(iteration 15) lower bound: 0.000000\n",
      "(iteration 15) upper bound: 0.000031\n",
      "(iteration 15) query point: 0.000015 \n",
      "(iteration 15) query was feasible. Solution(status=optimal, opt_val=0.0, primal_vars={3673: array([0.49995236, 0.49993443, 0.49990378, 0.49996317, 0.49998204,\n",
      "       0.49981114]), 17732: array([0.00030955, 0.00027026, 0.00018961, 0.00015584]), 17763: array([5.89132516e-06])}, dual_vars={17712: array([0., 0., 0., 0., 0., 0.]), 17750: array([0., 0., 0., 0.]), 17735: array([0., 0., 0., 0.]), 17740: array([0., 0., 0., 0.]), 17755: array([0.]), 17771: array([0., 0., 0., 0., 0., 0., 0., 0.])}, attr={'solve_time': 0.038084, 'setup_time': 0.023, 'num_iters': 8, 'solver_specific_stats': {'x': array([4.99952363e-01, 4.99934431e-01, 4.99903775e-01, 4.99963170e-01,\n",
      "       4.99982043e-01, 4.99811137e-01, 3.09546092e-04, 2.70261493e-04,\n",
      "       1.89613103e-04, 1.55835246e-04, 5.89132516e-06]), 'y': array([0., 0., 0., 0., 0., 0., 0., 0., 0., 0., 0., 0., 0., 0., 0., 0., 0.,\n",
      "       0., 0., 0., 0., 0., 0., 0., 0., 0., 0., 0., 0., 0., 0., 0., 0., 0.,\n",
      "       0., 0., 0.]), 's': array([ 4.99952363e-01,  4.99934431e-01,  4.99903775e-01,  4.99963170e-01,\n",
      "        4.99982043e-01,  4.99811137e-01,  3.09546099e-04,  2.70261496e-04,\n",
      "        1.89613108e-04,  1.55835251e-04,  5.00047637e-01,  5.00065569e-01,\n",
      "        5.00096225e-01,  5.00036830e-01,  5.00017957e-01,  5.00188863e-01,\n",
      "        5.25594382e-04,  3.26213471e-04,  2.66979015e-04,  2.84352178e-04,\n",
      "        5.28327312e-04,  4.49094144e-04,  3.15985756e-04,  2.61036471e-04,\n",
      "        9.07648521e-05,  9.14288234e-05,  6.32404382e-05,  5.06340105e-05,\n",
      "        9.36746390e-06,  1.00000589e+00,  9.99994109e-01,  5.57535100e-05,\n",
      "        1.98890598e-05, -4.14223968e-05,  7.73666663e-05,  1.15112142e-04,\n",
      "       -2.26698981e-04]), 'info': {'statusVal': 1, 'iter': 8, 'pobj': 0.0, 'dobj': -0.0, 'resPri': 5.4271569547862224e-12, 'resDual': 0.0, 'relGap': 0.0, 'resInfeas': nan, 'resUnbdd': nan, 'solveTime': 0.038084, 'setupTime': 0.023, 'status': 'Solved'}}}))\n",
      "\n",
      "Bisection completed, with lower bound 0.000000 and upper bound 0.0000010\n",
      "********************************************************************************\n",
      "\n"
     ]
    },
    {
     "data": {
      "text/plain": [
       "1.896216909907639e-08"
      ]
     },
     "execution_count": 113,
     "metadata": {},
     "output_type": "execute_result"
    }
   ],
   "source": [
    "prob.solve(qcp=True, verbose=True, solver=cp.SCS)"
   ]
  },
  {
   "cell_type": "code",
   "execution_count": 114,
   "id": "01936b2a-4eb1-435e-9d49-5a1b9fd8b37e",
   "metadata": {},
   "outputs": [
    {
     "data": {
      "text/plain": [
       "array([0.5, 0.5, 0.5, 0.5, 0.5, 0.5])"
      ]
     },
     "execution_count": 114,
     "metadata": {},
     "output_type": "execute_result"
    }
   ],
   "source": [
    "np.round(x.value, 2)"
   ]
  },
  {
   "cell_type": "code",
   "execution_count": 115,
   "id": "c8ba70f0-5ce7-4cb0-98f1-8f064115864d",
   "metadata": {},
   "outputs": [
    {
     "data": {
      "text/plain": [
       "array([0.5, 0.5, 0.5, 0.5, 0.5, 0.5])"
      ]
     },
     "execution_count": 115,
     "metadata": {},
     "output_type": "execute_result"
    }
   ],
   "source": [
    "xtarget"
   ]
  }
 ],
 "metadata": {
  "kernelspec": {
   "display_name": "Python 3 (ipykernel)",
   "language": "python",
   "name": "python3"
  },
  "language_info": {
   "codemirror_mode": {
    "name": "ipython",
    "version": 3
   },
   "file_extension": ".py",
   "mimetype": "text/x-python",
   "name": "python",
   "nbconvert_exporter": "python",
   "pygments_lexer": "ipython3",
   "version": "3.9.7"
  }
 },
 "nbformat": 4,
 "nbformat_minor": 5
}
