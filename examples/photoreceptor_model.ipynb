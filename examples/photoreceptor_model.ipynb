{
 "cells": [
  {
   "cell_type": "code",
   "execution_count": 1,
   "metadata": {},
   "outputs": [],
   "source": [
    "import dreye\n",
    "import numpy as np"
   ]
  },
  {
   "cell_type": "code",
   "execution_count": 2,
   "metadata": {},
   "outputs": [],
   "source": [
    "wls = np.arange(300, 700, 1.0)"
   ]
  },
  {
   "cell_type": "code",
   "execution_count": 3,
   "metadata": {},
   "outputs": [],
   "source": [
    "sensitivity = dreye.Sensitivity(\n",
    "    dreye.create_gaussian_spectrum(\n",
    "    wls, \n",
    "    [350, 455, 560], \n",
    "    std=30, units=None, max_normalized=True\n",
    "))"
   ]
  },
  {
   "cell_type": "code",
   "execution_count": 4,
   "metadata": {},
   "outputs": [
    {
     "data": {
      "text/plain": [
       "<seaborn.axisgrid.FacetGrid at 0x7f9cdaaaf6d0>"
      ]
     },
     "execution_count": 4,
     "metadata": {},
     "output_type": "execute_result"
    },
    {
     "data": {
      "image/png": "[encoded data removed]",
      "text/plain": [
       "<Figure size 425.5x360 with 1 Axes>"
      ]
     },
     "metadata": {
      "needs_background": "light"
     },
     "output_type": "display_data"
    }
   ],
   "source": [
    "sensitivity.plot()"
   ]
  },
  {
   "cell_type": "code",
   "execution_count": 5,
   "metadata": {},
   "outputs": [],
   "source": [
    "pr = dreye.LinearPhotoreceptor(\n",
    "    sensitivity, \n",
    "    capture_noise_level=1e-4\n",
    ")\n",
    "pr_ = dreye.LinearPhotoreceptor(\n",
    "    sensitivity, \n",
    ")"
   ]
  },
  {
   "cell_type": "code",
   "execution_count": 6,
   "metadata": {},
   "outputs": [],
   "source": [
    "illuminant = dreye.create_gaussian_spectrum(\n",
    "    wls, \n",
    "    np.arange(400, 600, 20), \n",
    "    std=10, units='uE'\n",
    ")"
   ]
  },
  {
   "cell_type": "code",
   "execution_count": 7,
   "metadata": {},
   "outputs": [
    {
     "data": {
      "text/html": [
       "\\[\\begin{pmatrix}1.0 & 1.0 & 1.0 & 1.0 & 1.0 & 1.0 & 1.0 & 1.0 & 1.0 & 1.0\\end{pmatrix} microspectral\\_E\\_Q\\ nanometer\\]"
      ],
      "text/latex": [
       "$\\begin{pmatrix}1.0 & 1.0 & 1.0 & 1.0 & 1.0 & 1.0 & 1.0 & 1.0 & 1.0 & 1.0\\end{pmatrix}\\ \\mathrm{microspectral\\_E\\_Q} \\cdot \\mathrm{nanometer}$"
      ],
      "text/plain": [
       "array([1., 1., 1., 1., 1., 1., 1., 1., 1., 1.]) <Unit('microspectral_E_Q * nanometer')>"
      ]
     },
     "execution_count": 7,
     "metadata": {},
     "output_type": "execute_result"
    }
   ],
   "source": [
    "illuminant.integral"
   ]
  },
  {
   "cell_type": "code",
   "execution_count": 8,
   "metadata": {},
   "outputs": [],
   "source": [
    "background = dreye.Spectrum(\n",
    "    np.ones(len(wls))/len(wls), \n",
    "    wls, units='uE'\n",
    ")"
   ]
  },
  {
   "cell_type": "code",
   "execution_count": 9,
   "metadata": {},
   "outputs": [],
   "source": [
    "illuminant_ = background + illuminant"
   ]
  },
  {
   "cell_type": "code",
   "execution_count": 10,
   "metadata": {},
   "outputs": [
    {
     "data": {
      "text/plain": [
       "array([[2.5184, 2.112 , 1.    ],\n",
       "       [1.4573, 3.735 , 1.0003],\n",
       "       [1.0923, 5.5093, 1.0038],\n",
       "       [1.0125, 5.9836, 1.034 ],\n",
       "       [1.0011, 4.6919, 1.2057],\n",
       "       [1.0001, 2.8334, 1.8341],\n",
       "       [1.    , 1.6103, 3.2674],\n",
       "       [1.    , 1.1362, 5.1315],\n",
       "       [1.    , 1.0204, 6.0463],\n",
       "       [1.    , 1.002 , 5.1315]])"
      ]
     },
     "execution_count": 10,
     "metadata": {},
     "output_type": "execute_result"
    }
   ],
   "source": [
    "pr.excitation(\n",
    "    illuminant_, \n",
    "    background=background, return_units=False\n",
    ")"
   ]
  },
  {
   "cell_type": "code",
   "execution_count": 11,
   "metadata": {},
   "outputs": [
    {
     "data": {
      "text/plain": [
       "array([[2.51836568, 2.11198699, 1.00001393],\n",
       "       [1.45732295, 3.73504665, 1.00027982],\n",
       "       [1.09233191, 5.50932959, 1.00376748],\n",
       "       [1.01249577, 5.98357993, 1.03400153],\n",
       "       [1.00113359, 4.69192682, 1.20569726],\n",
       "       [1.00006893, 2.8333566 , 1.83414351],\n",
       "       [1.00000281, 1.6102714 , 3.26743713],\n",
       "       [1.00000008, 1.13616995, 5.13153983],\n",
       "       [1.        , 1.02036675, 6.04627414],\n",
       "       [1.        , 1.00204195, 5.13153983]])"
      ]
     },
     "execution_count": 11,
     "metadata": {},
     "output_type": "execute_result"
    }
   ],
   "source": [
    "pr_.excitation(\n",
    "    illuminant_, \n",
    "    background=background, return_units=False\n",
    ")"
   ]
  },
  {
   "cell_type": "code",
   "execution_count": 12,
   "metadata": {},
   "outputs": [
    {
     "data": {
      "text/plain": [
       "array([[0.0001, 0.0001, 0.0001]])"
      ]
     },
     "execution_count": 12,
     "metadata": {},
     "output_type": "execute_result"
    }
   ],
   "source": [
    "pr.excitation(\n",
    "    np.zeros(len(wls)), \n",
    "    background=background, return_units=False\n",
    ")"
   ]
  },
  {
   "cell_type": "code",
   "execution_count": 13,
   "metadata": {},
   "outputs": [
    {
     "data": {
      "text/plain": [
       "array([[0., 0., 0.]])"
      ]
     },
     "execution_count": 13,
     "metadata": {},
     "output_type": "execute_result"
    }
   ],
   "source": [
    "pr_.excitation(\n",
    "    np.zeros(len(wls)),\n",
    "    background=background, return_units=False\n",
    ")"
   ]
  },
  {
   "cell_type": "code",
   "execution_count": null,
   "metadata": {},
   "outputs": [],
   "source": []
  }
 ],
 "metadata": {
  "kernelspec": {
   "display_name": "Python 3",
   "language": "python",
   "name": "python3"
  },
  "language_info": {
   "codemirror_mode": {
    "name": "ipython",
    "version": 3
   },
   "file_extension": ".py",
   "mimetype": "text/x-python",
   "name": "python",
   "nbconvert_exporter": "python",
   "pygments_lexer": "ipython3",
   "version": "3.7.4"
  },
  "widgets": {
   "application/vnd.jupyter.widget-state+json": {
    "state": {},
    "version_major": 2,
    "version_minor": 0
   }
  }
 },
 "nbformat": 4,
 "nbformat_minor": 4
}
