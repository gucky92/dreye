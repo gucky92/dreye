{
 "cells": [
  {
   "cell_type": "code",
   "execution_count": null,
   "metadata": {},
   "outputs": [],
   "source": [
    "import numpy as np\n",
    "from dreye.algebra.filtering import Filter1D\n",
    "import matplotlib.pyplot as plt"
   ]
  },
  {
   "cell_type": "code",
   "execution_count": null,
   "metadata": {},
   "outputs": [],
   "source": [
    "arr = np.array([100]*10+[0] + [100] * 10 + [0] + [100]*10)"
   ]
  },
  {
   "cell_type": "code",
   "execution_count": null,
   "metadata": {},
   "outputs": [],
   "source": [
    "window = 9"
   ]
  },
  {
   "cell_type": "code",
   "execution_count": null,
   "metadata": {},
   "outputs": [],
   "source": [
    "lfilter = Filter1D('boxcar', window)"
   ]
  },
  {
   "cell_type": "code",
   "execution_count": null,
   "metadata": {},
   "outputs": [],
   "source": [
    "start_idx, end_idx = int(np.floor((window-1)/2)), int(np.ceil((window-1)/2))"
   ]
  },
  {
   "cell_type": "code",
   "execution_count": null,
   "metadata": {},
   "outputs": [],
   "source": [
    "start_idx, end_idx"
   ]
  },
  {
   "cell_type": "code",
   "execution_count": null,
   "metadata": {},
   "outputs": [],
   "source": [
    "new_arr = np.hstack([\n",
    "    np.array([100] * (start_idx)),\n",
    "    arr, \n",
    "    np.array([100] * (end_idx)),\n",
    "])"
   ]
  },
  {
   "cell_type": "code",
   "execution_count": null,
   "metadata": {},
   "outputs": [],
   "source": [
    "arr_filt = lfilter(new_arr, axis=-1, mode='valid')\n",
    "arr_filt.shape, arr.shape"
   ]
  },
  {
   "cell_type": "code",
   "execution_count": null,
   "metadata": {},
   "outputs": [],
   "source": [
    "from dreye.core import Signal"
   ]
  },
  {
   "cell_type": "code",
   "execution_count": null,
   "metadata": {},
   "outputs": [],
   "source": [
    "t = np.arange(-5, 5, 0.01)\n",
    "a = np.array([3, 4, 5])\n",
    "phase = np.array([0.1, -0.5, 1]) * np.pi\n",
    "\n",
    "x = a[None, :] * np.sin(t[:, None] + phase[None, :])\n",
    "\n",
    "x_noise = x + np.random.normal(0, 0.7, size=x.shape)"
   ]
  },
  {
   "cell_type": "code",
   "execution_count": null,
   "metadata": {},
   "outputs": [],
   "source": [
    "signal = Signal(\n",
    "    x_noise, \n",
    "    units='mV', \n",
    "    domain=t, \n",
    "    domain_units='s', \n",
    "    interpolator_kwargs={\n",
    "        'bounds_error':False, \n",
    "        'fill_value':'extrapolate'\n",
    "    }\n",
    ")"
   ]
  },
  {
   "cell_type": "code",
   "execution_count": null,
   "metadata": {},
   "outputs": [],
   "source": [
    "signal.domain.interval"
   ]
  },
  {
   "cell_type": "code",
   "execution_count": null,
   "metadata": {},
   "outputs": [],
   "source": [
    "filtered_signal = signal.window_filter(1, 'hann')"
   ]
  },
  {
   "cell_type": "code",
   "execution_count": null,
   "metadata": {},
   "outputs": [],
   "source": [
    "plt.plot(signal.domain, signal.values)\n",
    "plt.plot(filtered_signal.domain, filtered_signal.values)\n",
    "# TODO smooth interpolation"
   ]
  },
  {
   "cell_type": "code",
   "execution_count": null,
   "metadata": {},
   "outputs": [],
   "source": [
    "from dreye.core import LogPhotoreceptor, \\\n",
    "    RelativeOpsinSensitivity, Spectrum, Domain\n",
    "from scipy.stats import norm"
   ]
  },
  {
   "cell_type": "code",
   "execution_count": null,
   "metadata": {},
   "outputs": [],
   "source": [
    "wl = np.arange(300, 600)\n",
    "s = norm.pdf(wl, 450, 10)\n",
    "s /= np.sum(s)\n",
    "s_noise = s + np.random.normal(0, 0.001, size=s.shape)"
   ]
  },
  {
   "cell_type": "code",
   "execution_count": null,
   "metadata": {},
   "outputs": [],
   "source": [
    "opsin_noise = RelativeOpsinSensitivity(\n",
    "    s_noise, \n",
    "    domain=wl, \n",
    "    smoothing_method='savgol', \n",
    "    smoothing_window=15, \n",
    "    smoothing_args={'polyorder':2}\n",
    ")\n",
    "\n",
    "opsin = RelativeOpsinSensitivity(\n",
    "    s, \n",
    "    domain=wl, \n",
    "    smoothing_method='savgol', \n",
    "    smoothing_window=15, \n",
    "    smoothing_args={'polyorder':2}\n",
    ")"
   ]
  },
  {
   "cell_type": "code",
   "execution_count": null,
   "metadata": {},
   "outputs": [],
   "source": [
    "opsin_interp = opsin(\n",
    "    Domain(np.arange(400, 550), units='nm')\n",
    ")\n",
    "plt.plot(opsin_interp.domain, opsin_interp)"
   ]
  },
  {
   "cell_type": "code",
   "execution_count": null,
   "metadata": {},
   "outputs": [],
   "source": [
    "opsin_noise.smoothing_method"
   ]
  },
  {
   "cell_type": "code",
   "execution_count": null,
   "metadata": {},
   "outputs": [],
   "source": [
    "opsin_smooth2 = opsin_noise.smooth"
   ]
  },
  {
   "cell_type": "code",
   "execution_count": null,
   "metadata": {},
   "outputs": [],
   "source": [
    "opsin_smooth = opsin_noise.window_filter(\n",
    "    15, 'savgol', polyorder=2\n",
    ")"
   ]
  },
  {
   "cell_type": "code",
   "execution_count": null,
   "metadata": {},
   "outputs": [],
   "source": [
    "type(opsin_smooth), type(opsin_smooth2)"
   ]
  },
  {
   "cell_type": "code",
   "execution_count": null,
   "metadata": {},
   "outputs": [],
   "source": [
    "from scipy.signal import savgol_filter"
   ]
  },
  {
   "cell_type": "code",
   "execution_count": null,
   "metadata": {},
   "outputs": [],
   "source": [
    "ssmooth = savgol_filter(s_noise, 15, 2)"
   ]
  },
  {
   "cell_type": "code",
   "execution_count": null,
   "metadata": {},
   "outputs": [],
   "source": [
    "plt.plot(opsin.wavelengths, opsin)\n",
    "plt.plot(opsin_noise.wavelengths, opsin_noise)\n",
    "plt.plot(opsin_smooth.wavelengths, opsin_smooth)"
   ]
  },
  {
   "cell_type": "code",
   "execution_count": null,
   "metadata": {},
   "outputs": [],
   "source": [
    "pr = LogPhotoreceptor(opsin_interp)\n",
    "pr2 = LogPhotoreceptor(opsin_smooth)"
   ]
  },
  {
   "cell_type": "code",
   "execution_count": null,
   "metadata": {},
   "outputs": [],
   "source": [
    "ill = norm.pdf(wl, 400, 80)\n",
    "bg = np.ones(wl.shape)"
   ]
  },
  {
   "cell_type": "code",
   "execution_count": null,
   "metadata": {},
   "outputs": [],
   "source": [
    "illuminant = Spectrum(\n",
    "    ill, \n",
    "    domain=wl\n",
    ")\n",
    "background = Spectrum(\n",
    "    bg, \n",
    "    domain=wl\n",
    ")"
   ]
  },
  {
   "cell_type": "code",
   "execution_count": null,
   "metadata": {},
   "outputs": [],
   "source": [
    "np.log(np.sum(ill*s)/np.sum(bg*s))"
   ]
  },
  {
   "cell_type": "code",
   "execution_count": null,
   "metadata": {},
   "outputs": [],
   "source": [
    "pr.excitation(\n",
    "    illuminant, \n",
    "    background=background, \n",
    "    units=False\n",
    ")"
   ]
  },
  {
   "cell_type": "code",
   "execution_count": null,
   "metadata": {},
   "outputs": [],
   "source": [
    "pr2.excitation(\n",
    "    illuminant, \n",
    "    background=background, \n",
    "    units=False\n",
    ")"
   ]
  },
  {
   "cell_type": "code",
   "execution_count": null,
   "metadata": {},
   "outputs": [],
   "source": [
    "np.log(np.sum(ill*s_noise)/np.sum(bg*s_noise))"
   ]
  },
  {
   "cell_type": "code",
   "execution_count": null,
   "metadata": {},
   "outputs": [],
   "source": [
    "type(illuminant)"
   ]
  },
  {
   "cell_type": "code",
   "execution_count": null,
   "metadata": {},
   "outputs": [],
   "source": [
    "illuminant.normalized_spectrum"
   ]
  },
  {
   "cell_type": "code",
   "execution_count": null,
   "metadata": {},
   "outputs": [],
   "source": [
    "illph = illuminant.photonflux"
   ]
  },
  {
   "cell_type": "code",
   "execution_count": null,
   "metadata": {},
   "outputs": [],
   "source": []
  },
  {
   "cell_type": "code",
   "execution_count": null,
   "metadata": {},
   "outputs": [],
   "source": []
  },
  {
   "cell_type": "code",
   "execution_count": null,
   "metadata": {},
   "outputs": [],
   "source": []
  }
 ],
 "metadata": {
  "kernelspec": {
   "display_name": "Python 3",
   "language": "python",
   "name": "python3"
  },
  "language_info": {
   "codemirror_mode": {
    "name": "ipython",
    "version": 3
   },
   "file_extension": ".py",
   "mimetype": "text/x-python",
   "name": "python",
   "nbconvert_exporter": "python",
   "pygments_lexer": "ipython3",
   "version": "3.7.4"
  }
 },
 "nbformat": 4,
 "nbformat_minor": 4
}
