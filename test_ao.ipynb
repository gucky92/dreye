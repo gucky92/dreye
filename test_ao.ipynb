{
 "cells": [
  {
   "cell_type": "code",
   "execution_count": null,
   "metadata": {},
   "outputs": [],
   "source": [
    "from dreye.hardware import nidaqmx\n",
    "from dreye.hardware import seabreeze\n",
    "import numpy as np\n",
    "import warnings\n",
    "warnings.filterwarnings(\"ignore\")"
   ]
  },
  {
   "cell_type": "code",
   "execution_count": null,
   "metadata": {},
   "outputs": [],
   "source": [
    "leds = ['duv', 'uv', 'violet', 'rblue', 'lime', 'orange']\n",
    "channels = ['Dev2/ao1', 'Dev3/ao1', \n",
    "            'Dev3/ao0', 'Dev1/ao1', \n",
    "            'Dev2/ao0', 'Dev1/ao0']\n",
    "zeros = [4.4] * 5 + [0.]\n",
    "maxs = [0.] * 5 + [5.]\n",
    "trigger = 'Dev4/ao0'"
   ]
  },
  {
   "cell_type": "code",
   "execution_count": null,
   "metadata": {},
   "outputs": [],
   "source": [
    "outputs = []\n",
    "for led, ch, z, m in zip(leds, channels, zeros, maxs):\n",
    "    outputs.append(\n",
    "        nidaqmx.NiDaqMxOutput(\n",
    "            ch, led, \n",
    "            zero_boundary=z, \n",
    "            max_boundary=m, \n",
    "            units='V'\n",
    "        )\n",
    "    )"
   ]
  },
  {
   "cell_type": "code",
   "execution_count": null,
   "metadata": {},
   "outputs": [],
   "source": [
    "system = nidaqmx.NiDaqMxSystem(outputs)"
   ]
  },
  {
   "cell_type": "code",
   "execution_count": null,
   "metadata": {},
   "outputs": [],
   "source": [
    "system"
   ]
  },
  {
   "cell_type": "code",
   "execution_count": null,
   "metadata": {},
   "outputs": [],
   "source": [
    "spec = seabreeze.Spectrometer(\n",
    "    'calibration.IRRADCAL', \n",
    "    integration_time=0.05, max_it=0.01, \n",
    ")"
   ]
  },
  {
   "cell_type": "code",
   "execution_count": null,
   "metadata": {},
   "outputs": [],
   "source": [
    "spec.min_it"
   ]
  },
  {
   "cell_type": "code",
   "execution_count": null,
   "metadata": {},
   "outputs": [],
   "source": [
    "spec.max_it"
   ]
  },
  {
   "cell_type": "code",
   "execution_count": null,
   "metadata": {},
   "outputs": [],
   "source": [
    "from dreye.hardware.measurement_runner import MeasurementRunner"
   ]
  },
  {
   "cell_type": "code",
   "execution_count": null,
   "metadata": {},
   "outputs": [],
   "source": [
    "runner = MeasurementRunner(\n",
    "    system, \n",
    "    spec, \n",
    "    wls=np.arange(200, 800, 0.5), \n",
    "    smoothing_window=2\n",
    ")"
   ]
  },
  {
   "cell_type": "code",
   "execution_count": null,
   "metadata": {},
   "outputs": [],
   "source": [
    "runner.run(2)"
   ]
  },
  {
   "cell_type": "code",
   "execution_count": null,
   "metadata": {},
   "outputs": [],
   "source": [
    "import matplotlib.pyplot as plt"
   ]
  },
  {
   "cell_type": "code",
   "execution_count": null,
   "metadata": {},
   "outputs": [],
   "source": [
    "plt.plot(\n",
    "    system.spms.domain, system.spms\n",
    ")"
   ]
  },
  {
   "cell_type": "code",
   "execution_count": null,
   "metadata": {},
   "outputs": [],
   "source": [
    "plt.plot(\n",
    "    system.spms.normalized_spectrum.wavelengths, \n",
    "    system.spms.normalized_spectrum)"
   ]
  }
 ],
 "metadata": {
  "kernelspec": {
   "display_name": "Python 3",
   "language": "python",
   "name": "python3"
  },
  "language_info": {
   "codemirror_mode": {
    "name": "ipython",
    "version": 3
   },
   "file_extension": ".py",
   "mimetype": "text/x-python",
   "name": "python",
   "nbconvert_exporter": "python",
   "pygments_lexer": "ipython3",
   "version": "3.7.4"
  }
 },
 "nbformat": 4,
 "nbformat_minor": 4
}
