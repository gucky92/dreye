{
 "cells": [
  {
   "cell_type": "code",
   "execution_count": 1,
   "metadata": {},
   "outputs": [],
   "source": [
    "from dreye.hardware import nidaqmx\n",
    "from dreye.hardware import seabreeze\n",
    "import numpy as np\n",
    "import warnings\n",
    "warnings.filterwarnings(\"ignore\")"
   ]
  },
  {
   "cell_type": "code",
   "execution_count": 2,
   "metadata": {},
   "outputs": [],
   "source": [
    "leds = ['duv', 'uv', 'violet', 'rblue', 'lime', 'orange']\n",
    "channels = ['Dev2/ao1', 'Dev3/ao1', \n",
    "            'Dev3/ao0', 'Dev1/ao1', \n",
    "            'Dev2/ao0', 'Dev1/ao0']\n",
    "zeros = [4.4] * 5 + [0.]\n",
    "maxs = [0.] * 5 + [5.]\n",
    "trigger = 'Dev4/ao0'"
   ]
  },
  {
   "cell_type": "markdown",
   "metadata": {},
   "source": [
    "Just to run specific measurement"
   ]
  },
  {
   "cell_type": "code",
   "execution_count": 3,
   "metadata": {},
   "outputs": [],
   "source": [
    "outputs = []\n",
    "for led, ch, z, m in zip(leds, channels, zeros, maxs):\n",
    "    outputs.append(\n",
    "        nidaqmx.NiDaqMxOutput(\n",
    "            ch, led, \n",
    "            zero_boundary=z, \n",
    "            max_boundary=m, \n",
    "            units='V'\n",
    "        )\n",
    "    )"
   ]
  },
  {
   "cell_type": "code",
   "execution_count": 4,
   "metadata": {},
   "outputs": [],
   "source": [
    "system = nidaqmx.NiDaqMxSystem(outputs)"
   ]
  },
  {
   "cell_type": "code",
   "execution_count": 5,
   "metadata": {},
   "outputs": [
    {
     "data": {
      "text/plain": [
       "NiDaqMxSystem contains:\n",
       "NiDaqMxOutput(object=Dev2/ao1, name=duv, max=0.0 volt, zero=4.4 volt)\n",
       "NiDaqMxOutput(object=Dev3/ao1, name=uv, max=0.0 volt, zero=4.4 volt)\n",
       "NiDaqMxOutput(object=Dev3/ao0, name=violet, max=0.0 volt, zero=4.4 volt)\n",
       "NiDaqMxOutput(object=Dev1/ao1, name=rblue, max=0.0 volt, zero=4.4 volt)\n",
       "NiDaqMxOutput(object=Dev2/ao0, name=lime, max=0.0 volt, zero=4.4 volt)\n",
       "NiDaqMxOutput(object=Dev1/ao0, name=orange, max=5.0 volt, zero=0.0 volt)"
      ]
     },
     "execution_count": 5,
     "metadata": {},
     "output_type": "execute_result"
    }
   ],
   "source": [
    "system"
   ]
  },
  {
   "cell_type": "code",
   "execution_count": 6,
   "metadata": {},
   "outputs": [],
   "source": [
    "spec = seabreeze.Spectrometer(\n",
    "    'calibration.IRRADCAL', \n",
    "    integration_time=0.05, max_it=0.01, \n",
    ")"
   ]
  },
  {
   "cell_type": "code",
   "execution_count": 7,
   "metadata": {},
   "outputs": [
    {
     "data": {
      "text/plain": [
       "0.001"
      ]
     },
     "execution_count": 7,
     "metadata": {},
     "output_type": "execute_result"
    }
   ],
   "source": [
    "spec.min_it"
   ]
  },
  {
   "cell_type": "code",
   "execution_count": 8,
   "metadata": {},
   "outputs": [
    {
     "data": {
      "text/plain": [
       "0.01"
      ]
     },
     "execution_count": 8,
     "metadata": {},
     "output_type": "execute_result"
    }
   ],
   "source": [
    "spec.max_it"
   ]
  },
  {
   "cell_type": "code",
   "execution_count": 9,
   "metadata": {},
   "outputs": [],
   "source": [
    "from dreye.hardware.measurement_runner import MeasurementRunner"
   ]
  },
  {
   "cell_type": "code",
   "execution_count": 10,
   "metadata": {},
   "outputs": [],
   "source": [
    "runner = MeasurementRunner(\n",
    "    system, \n",
    "    spec, \n",
    "    wls=np.arange(200, 800, 0.5), \n",
    "    smoothing_window=2\n",
    ")"
   ]
  },
  {
   "cell_type": "code",
   "execution_count": 11,
   "metadata": {},
   "outputs": [
    {
     "name": "stdout",
     "output_type": "stream",
     "text": [
      "\n",
      "-----------STARTING MEASUREMENTS-------------\n",
      "\n",
      "---------------------------------------------\n",
      "Starting measurement for duv.\n",
      "sending 10 values\n",
      "==============================================\n",
      "number 0: value 4.4\n",
      "number 1: value 3.9111111111111114\n",
      "number 2: value 3.4222222222222225\n",
      "number 3: value 2.9333333333333336\n",
      "number 4: value 2.4444444444444446\n",
      "number 5: value 1.9555555555555557\n",
      "number 6: value 1.4666666666666668\n",
      "number 7: value 0.9777777777777779\n",
      "number 8: value 0.48888888888888893\n",
      "number 9: value 0.0\n",
      "==============================================\n",
      "Finished measurement for \"duv\".\n",
      "---------------------------------------------\n",
      "\n",
      "Finished conversion of measurement for \"duv\".\n",
      "\n",
      "---------------------------------------------\n",
      "Starting measurement for uv.\n",
      "sending 10 values\n",
      "==============================================\n",
      "number 0: value 4.4\n",
      "number 1: value 3.9111111111111114\n",
      "number 2: value 3.4222222222222225\n",
      "number 3: value 2.9333333333333336\n",
      "number 4: value 2.4444444444444446\n",
      "number 5: value 1.9555555555555557\n",
      "number 6: value 1.4666666666666668\n",
      "number 7: value 0.9777777777777779\n",
      "number 8: value 0.48888888888888893\n",
      "number 9: value 0.0\n",
      "==============================================\n",
      "Finished measurement for \"uv\".\n",
      "---------------------------------------------\n",
      "\n",
      "Finished conversion of measurement for \"uv\".\n",
      "\n",
      "---------------------------------------------\n",
      "Starting measurement for violet.\n",
      "sending 10 values\n",
      "==============================================\n",
      "number 0: value 4.4\n",
      "number 1: value 3.9111111111111114\n",
      "number 2: value 3.4222222222222225\n",
      "number 3: value 2.9333333333333336\n",
      "number 4: value 2.4444444444444446\n",
      "number 5: value 1.9555555555555557\n",
      "number 6: value 1.4666666666666668\n",
      "number 7: value 0.9777777777777779\n",
      "number 8: value 0.48888888888888893\n",
      "number 9: value 0.0\n",
      "==============================================\n",
      "Finished measurement for \"violet\".\n",
      "---------------------------------------------\n",
      "\n",
      "Finished conversion of measurement for \"violet\".\n",
      "\n",
      "---------------------------------------------\n",
      "Starting measurement for rblue.\n",
      "sending 10 values\n",
      "==============================================\n",
      "number 0: value 4.4\n",
      "number 1: value 3.9111111111111114\n",
      "number 2: value 3.4222222222222225\n",
      "number 3: value 2.9333333333333336\n",
      "number 4: value 2.4444444444444446\n",
      "number 5: value 1.9555555555555557\n",
      "number 6: value 1.4666666666666668\n",
      "number 7: value 0.9777777777777779\n",
      "number 8: value 0.48888888888888893\n",
      "number 9: value 0.0\n",
      "==============================================\n",
      "Finished measurement for \"rblue\".\n",
      "---------------------------------------------\n",
      "\n",
      "Finished conversion of measurement for \"rblue\".\n",
      "\n",
      "---------------------------------------------\n",
      "Starting measurement for lime.\n",
      "sending 10 values\n",
      "==============================================\n",
      "number 0: value 4.4\n",
      "number 1: value 3.9111111111111114\n",
      "number 2: value 3.4222222222222225\n",
      "number 3: value 2.9333333333333336\n",
      "number 4: value 2.4444444444444446\n",
      "number 5: value 1.9555555555555557\n",
      "number 6: value 1.4666666666666668\n",
      "number 7: value 0.9777777777777779\n",
      "number 8: value 0.48888888888888893\n",
      "number 9: value 0.0\n",
      "==============================================\n",
      "Finished measurement for \"lime\".\n",
      "---------------------------------------------\n",
      "\n",
      "Finished conversion of measurement for \"lime\".\n",
      "\n",
      "---------------------------------------------\n",
      "Starting measurement for orange.\n",
      "sending 10 values\n",
      "==============================================\n",
      "number 0: value 0.0\n",
      "number 1: value 0.5555555555555556\n",
      "number 2: value 1.1111111111111112\n",
      "number 3: value 1.6666666666666667\n",
      "number 4: value 2.2222222222222223\n",
      "number 5: value 2.7777777777777777\n",
      "number 6: value 3.3333333333333335\n",
      "number 7: value 3.8888888888888893\n",
      "number 8: value 4.444444444444445\n",
      "number 9: value 5.0\n",
      "==============================================\n",
      "Finished measurement for \"orange\".\n",
      "---------------------------------------------\n",
      "\n",
      "Finished conversion of measurement for \"orange\".\n",
      "\n",
      "---------MEASUREMENTS FINISHED----------\n"
     ]
    },
    {
     "data": {
      "text/plain": [
       "<dreye.hardware.measurement_runner.MeasurementRunner at 0x1e78dd6e808>"
      ]
     },
     "execution_count": 11,
     "metadata": {},
     "output_type": "execute_result"
    }
   ],
   "source": [
    "runner.run(2)"
   ]
  },
  {
   "cell_type": "code",
   "execution_count": 12,
   "metadata": {},
   "outputs": [],
   "source": [
    "import matplotlib.pyplot as plt"
   ]
  },
  {
   "cell_type": "code",
   "execution_count": 13,
   "metadata": {},
   "outputs": [
    {
     "data": {
      "text/plain": [
       "[<matplotlib.lines.Line2D at 0x1e7902ac748>,\n",
       " <matplotlib.lines.Line2D at 0x1e7902ac988>,\n",
       " <matplotlib.lines.Line2D at 0x1e7902acc08>,\n",
       " <matplotlib.lines.Line2D at 0x1e7902acec8>,\n",
       " <matplotlib.lines.Line2D at 0x1e7902b5248>,\n",
       " <matplotlib.lines.Line2D at 0x1e7902b5548>]"
      ]
     },
     "execution_count": 13,
     "metadata": {},
     "output_type": "execute_result"
    },
    {
     "data": {
      "image/png": "[encoded data removed]",
      "text/plain": [
       "<Figure size 432x288 with 1 Axes>"
      ]
     },
     "metadata": {
      "needs_background": "light"
     },
     "output_type": "display_data"
    }
   ],
   "source": [
    "plt.plot(\n",
    "    system.spms.domain, system.spms\n",
    ")"
   ]
  },
  {
   "cell_type": "code",
   "execution_count": 14,
   "metadata": {},
   "outputs": [
    {
     "data": {
      "text/plain": [
       "[<matplotlib.lines.Line2D at 0x1e79035c6c8>,\n",
       " <matplotlib.lines.Line2D at 0x1e79035c988>,\n",
       " <matplotlib.lines.Line2D at 0x1e79035cc48>,\n",
       " <matplotlib.lines.Line2D at 0x1e79035cf08>,\n",
       " <matplotlib.lines.Line2D at 0x1e790361148>,\n",
       " <matplotlib.lines.Line2D at 0x1e790361588>]"
      ]
     },
     "execution_count": 14,
     "metadata": {},
     "output_type": "execute_result"
    },
    {
     "data": {
      "image/png": "[encoded data removed]",
      "text/plain": [
       "<Figure size 432x288 with 1 Axes>"
      ]
     },
     "metadata": {
      "needs_background": "light"
     },
     "output_type": "display_data"
    }
   ],
   "source": [
    "plt.plot(\n",
    "    system.spms.normalized_spectrum.wavelengths, \n",
    "    system.spms.normalized_spectrum)"
   ]
  }
 ],
 "metadata": {
  "kernelspec": {
   "display_name": "Python 3",
   "language": "python",
   "name": "python3"
  },
  "language_info": {
   "codemirror_mode": {
    "name": "ipython",
    "version": 3
   },
   "file_extension": ".py",
   "mimetype": "text/x-python",
   "name": "python",
   "nbconvert_exporter": "python",
   "pygments_lexer": "ipython3",
   "version": "3.7.6"
  }
 },
 "nbformat": 4,
 "nbformat_minor": 4
}
