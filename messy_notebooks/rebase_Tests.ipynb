{
 "cells": [
  {
   "cell_type": "code",
   "execution_count": 1,
   "metadata": {},
   "outputs": [],
   "source": [
    "from dreye import Signals, DomainSignal, Domain, Signal\n",
    "from dreye.constants import ureg\n",
    "import numpy as np\n",
    "import pandas as pd\n",
    "np.random.seed(10)"
   ]
  },
  {
   "cell_type": "code",
   "execution_count": 2,
   "metadata": {},
   "outputs": [],
   "source": [
    "a = Signals(\n",
    "    np.random.random((100, 5)), \n",
    "    domain=np.arange(0, 1000, 10), \n",
    "    domain_units='s', \n",
    "    units='V', \n",
    "    signal_min=np.array([0.2, np.nan, 0.2, 0.3, np.nan]), \n",
    "    signal_max=0.7\n",
    ")\n",
    "w = Signal(\n",
    "    np.random.random(1000), \n",
    "    domain=np.arange(0, 1000, 1), \n",
    "    domain_units='s', \n",
    "    units='V', \n",
    "    signal_min=0.2, \n",
    "    signal_max=0.7, \n",
    "    name='something'\n",
    ")"
   ]
  },
  {
   "cell_type": "code",
   "execution_count": 3,
   "metadata": {},
   "outputs": [
    {
     "data": {
      "text/plain": [
       "[0.2 0.2 0.33184400023449434 0.2 0.5981735080564744 0.7 0.4121337753639407 0.2 0.2 0.2 0.7 0.7 0.2 0.7 0.7 0.40087668463516213 0.28689069833770775 0.7 0.6170445529774164 0.2 0.2287556137159159 0.7 0.7 0.22014599338063867 0.7 0.5359535338891156 0.6104284489824332 0.5238698831262817 0.6396291484955626 0.2 0.2 0.6900263853157124 0.2 0.6939306736886565 0.2852656231218128 0.2 0.5822229025860094 0.2958187265655955 0.32281613557530464 0.7 0.2 0.34739650514561404 0.2 0.40178185247448894 0.2 0.5048438064616992 0.7 0.2 0.2 0.2 0.7 0.7 0.5201746856274987 0.2 0.7 0.6545982033421369 0.7 0.511215678611379 0.7 0.33479673167486723 0.2 0.7 0.2 0.2 0.2 0.7 0.3029296862426224 0.2133130511803032 0.2556625525155257 0.2 0.4017978829990967 0.7 0.6482099352415909 0.250845580834519 0.22743891395182814 0.49581615834046866 0.7 0.6340637531228465 0.7 0.4371231912677318 0.4002120902427818 0.7 0.3723685794123146 0.5525980303993004 0.2 0.594275567103534 0.2809214669332072 0.7 0.2988271966526831 0.7 0.22636013801884003 0.2 0.2 0.29576370224015924 0.2 0.5488820378428916 0.2099921700900459 0.7 0.4846799030422758 0.6393403927232835] volt"
      ]
     },
     "execution_count": 3,
     "metadata": {},
     "output_type": "execute_result"
    }
   ],
   "source": [
    "w(np.arange(100))"
   ]
  },
  {
   "cell_type": "code",
   "execution_count": 4,
   "metadata": {},
   "outputs": [
    {
     "data": {
      "text/plain": [
       "(1000,)"
      ]
     },
     "execution_count": 4,
     "metadata": {},
     "output_type": "execute_result"
    }
   ],
   "source": [
    "w.signal_min.shape"
   ]
  },
  {
   "cell_type": "code",
   "execution_count": 5,
   "metadata": {},
   "outputs": [
    {
     "data": {
      "text/plain": [
       "array([ 1,  2,  3,  4,  5,  6,  7,  8,  9, 10, 11, 12, 13, 14, 15, 16, 17,\n",
       "       18, 19, 20, 21, 22, 23, 24, 25, 26, 27, 28, 29, 30, 31, 32, 33, 34,\n",
       "       35, 36, 37, 38, 39, 40, 41, 42, 43, 44, 45, 46, 47, 48, 49, 50, 51,\n",
       "       52, 53, 54, 55, 56, 57, 58, 59, 60, 61, 62, 63, 64, 65, 66, 67, 68,\n",
       "       69, 70, 71, 72, 73, 74, 75, 76, 77, 78, 79, 80, 81, 82, 83, 84, 85,\n",
       "       86, 87, 88, 89, 90, 91, 92, 93, 94, 95, 96, 97, 98, 99,  0])"
      ]
     },
     "execution_count": 5,
     "metadata": {},
     "output_type": "execute_result"
    }
   ],
   "source": [
    "np.roll(np.arange(100), -1)"
   ]
  },
  {
   "cell_type": "code",
   "execution_count": 6,
   "metadata": {},
   "outputs": [
    {
     "data": {
      "text/plain": [
       "Index(['something'], dtype='object')"
      ]
     },
     "execution_count": 6,
     "metadata": {},
     "output_type": "execute_result"
    }
   ],
   "source": [
    "Signals(w).labels"
   ]
  },
  {
   "cell_type": "code",
   "execution_count": 7,
   "metadata": {},
   "outputs": [
    {
     "data": {
      "text/plain": [
       "(5, 100)"
      ]
     },
     "execution_count": 7,
     "metadata": {},
     "output_type": "execute_result"
    }
   ],
   "source": [
    "(w * a.T).shape"
   ]
  },
  {
   "cell_type": "code",
   "execution_count": 8,
   "metadata": {},
   "outputs": [
    {
     "data": {
      "text/plain": [
       "(1000,)"
      ]
     },
     "execution_count": 8,
     "metadata": {},
     "output_type": "execute_result"
    }
   ],
   "source": [
    "w.shape"
   ]
  },
  {
   "cell_type": "code",
   "execution_count": 9,
   "metadata": {},
   "outputs": [
    {
     "data": {
      "text/plain": [
       "(1000,)"
      ]
     },
     "execution_count": 9,
     "metadata": {},
     "output_type": "execute_result"
    }
   ],
   "source": [
    "w.domain.shape"
   ]
  },
  {
   "cell_type": "code",
   "execution_count": 10,
   "metadata": {},
   "outputs": [
    {
     "data": {
      "text/plain": [
       "(1000, 1)"
      ]
     },
     "execution_count": 10,
     "metadata": {},
     "output_type": "execute_result"
    }
   ],
   "source": [
    "Signals(w).shape"
   ]
  },
  {
   "cell_type": "code",
   "execution_count": 11,
   "metadata": {},
   "outputs": [
    {
     "data": {
      "text/plain": [
       "Index([0, 1, 2, 3, 4, 'something'], dtype='object')"
      ]
     },
     "execution_count": 11,
     "metadata": {},
     "output_type": "execute_result"
    }
   ],
   "source": [
    "a.concat(w).labels"
   ]
  },
  {
   "cell_type": "code",
   "execution_count": 12,
   "metadata": {},
   "outputs": [
    {
     "data": {
      "text/plain": [
       "dreye.core.signal.Signals"
      ]
     },
     "execution_count": 12,
     "metadata": {},
     "output_type": "execute_result"
    }
   ],
   "source": [
    "type(a)"
   ]
  },
  {
   "cell_type": "code",
   "execution_count": 13,
   "metadata": {},
   "outputs": [
    {
     "data": {
      "text/plain": [
       "[[0.7 0.0207519493594015 0.6336482349262754 0.7 0.4985070123025904] [0.22479664553084766 0.19806286475962398 0.7 0.3 0.08833981417401027] [0.6853598183677972 0.7 0.2 0.5121922633857766 0.7] [0.6125260668293881 0.7 0.29187606817063316 0.7 0.7] [0.5425443680112613 0.14217004760152696 0.3733407600514692  0.6741336150663453 0.4418331744229961] [0.4340139933332937 0.6177669784693172 0.5131382425543909  0.6503971819314672 0.6010389534045444] [0.7 0.5216471523936341 0.7 0.3192360889885453 0.09045934927090737] [0.30070005663620336 0.11398436186354977 0.7 0.3 0.6262871483113925] [0.5475861559192435 0.7 0.2 0.7 0.3516526394320879] [0.7 0.2959617068796787 0.7 0.3255116378322488 0.16501589771914849] [0.3925292439465873 0.0934603745586503 0.7 0.3 0.3841144486921996] [0.7 0.7 0.4563045470947841 0.7 0.25137413420705934] [0.5973716482308843 0.7 0.5345579488018151 0.5902013629854229  0.03928176722538734] [0.3571817586345363 0.07961309015596418 0.30545991834281827  0.330719311982132 0.7] [0.2 0.42949217843163834 0.3149268718426883 0.6364911430675446  0.34634715008003303] [0.2 0.7 0.7 0.7 0.41750914383926696] [0.6055775643937568 0.5134666274082884 0.5978366479629736 0.3  0.30087130894070724] [0.2 0.30306256065103476 0.24207587540352737 0.5575781886626442  0.5655070198881675] [0.47513224741505056 0.2927979762895091 0.2 0.7 0.33970784363786366] [0.4950486308824543 0.7 0.4407738249006665 0.3182728054789512  0.5197969858753801] [0.5781364298824675 0.7 0.2 0.46453080777933253 0.7] [0.7 0.5860219800531759 0.2 0.350656391283133 0.563190684492745] [0.29972987242456284 0.5123341532735493 0.6734669252847205 0.3  0.05047767015399762] [0.33781588706467947 0.10806377277945256 0.2 0.7 0.3653649712141158] [0.21876934917953672 0.7 0.2 0.7 0.46978529344049447] [0.5982556712791092 0.14762019228529766 0.2 0.6450721264682419  0.048628006263405577] [0.24861250780276944 0.5424085162280042 0.2267733432700092  0.3814115349046321 0.7] [0.7 0.566749924575 0.5334708849890026 0.3 0.7] [0.5730289040331858 0.7 0.5615573602763689 0.7 0.5841958285306755] [0.7 0.14853345135645857 0.4284507389678964 0.6938900663424117  0.10461974452285316] [0.4396052377745905 0.16620214770453368 0.5069786292640474 0.7  0.09010673472443853] [0.7 0.5651263539578045 0.5893477116806074 0.3 0.4361182553388343] [0.29590376222083736 0.03755767594167769 0.2 0.45310500020123345 0.7] [0.557295406236397 0.3851135995654865 0.2 0.7 0.5990517974614926] [0.7 0.7 0.6031629758620348 0.7 0.6157368760335693] [0.2 0.7 0.2 0.458514206237273 0.5131227077322451] [0.4840208902868258 0.7 0.2 0.3 0.7] [0.7 0.4566975353201722 0.41689840704937775 0.3 0.3386791329893397] [0.2 0.7 0.2 0.3 0.5737762314512022] [0.293831555203768 0.6557267427145982 0.7 0.35121350299640874  0.09344037694376706] [0.7 0.7 0.3934191124365154 0.7 0.38403076811573245] [0.2573028872050038 0.7 0.7 0.5076009080549594 0.644326615041417] [0.2131865653786481 0.7 0.7 0.31700156230578813 0.7] [0.310283706940119 0.025263945431817092 0.2 0.3 0.06903334161725405] [0.2574754234045431 0.7 0.4578495119744105 0.3 0.7] [0.40346984048066603 0.02443264498316411 0.7 0.3 0.7] [0.3557723428236633 0.7 0.7 0.5381475171399585 0.5590865164032583] [0.2 0.37764191857408025 0.4287473291290427 0.5112086462854654 0.7] [0.3002106115940131 0.3964418788784505 0.7 0.41227607735340066  0.18486754999091237] [0.7 0.5692713997012885 0.2 0.7 0.22878233320196528] [0.6147017129801696 0.3680266808354594 0.7 0.6275618527056289 0.7] [0.28825313879221637 0.2747951315927687 0.60105189113251 0.7 0.7] [0.26340316495675753 0.12233592111500502 0.45872422918986366 0.7  0.6805743744444447] [0.2 0.046739227161395 0.7 0.7 0.7] [0.7 0.5989364490726748 0.7 0.3 0.11396030875469221] [0.37202890217383444 0.7 0.32114203146495945 0.6380350813446267  0.009221101669878884] [0.543465038474916 0.33775464688518353 0.7 0.7 0.3841218491535694] [0.39611779234059696 0.7 0.2 0.40537928842956905 0.1301755406309124] [0.2 0.7 0.3045733553466201 0.584055872555269 0.7] [0.7 0.6009542072456764 0.6452277456840332 0.3 0.2974840969759218] [0.6917746075764666 0.18902945285563533 0.7 0.5147637498567128 0.7] [0.2 0.08262029129549275 0.4820719697228585 0.5288538793621261  0.696308271808997] [0.20476161403019622 0.6713723299573634 0.7 0.3 0.7] [0.7 0.5506607842218151 0.2 0.34523678986185746 0.02042996881149528] [0.7 0.20792709813215138 0.2 0.6998939845292528 0.05794980601005473] [0.25660756684899655 0.510331784548845 0.7 0.3 0.4495147775986764] [0.6014403761828062 0.09727249413988015 0.28873488054197527 0.7  0.5508060640409488] [0.7 0.5803313514679765 0.2 0.6155021170585407 0.7] [0.5167892778204419 0.6261436691264234 0.5050591175564612 0.7  0.4133046555645703] [0.535468716291723 0.3426431255645266 0.2 0.6628217513999888 0.7] [0.612729181929054 0.7 0.21790843620284273 0.7 0.009769977119685747] [0.22581272666343477 0.13205512727198687 0.7 0.7 0.5810579071349049] [0.2 0.11687943957439817 0.7 0.7 0.0871283569325122] [0.3574631981198847 0.7 0.2 0.5378324338539741 0.7] [0.27252617599113516 0.5665169959073283 0.47668497071666194  0.5566206925418394 0.4407370574138011] [0.6937373642619117 0.7 0.7 0.3 0.6788353968929813] [0.4772208009079344 0.10017138767093214 0.6141962337146903 0.7 0.7] [0.32156558271190727 0.06785531108690035 0.2 0.5591253039604821  0.16085269926854784] [0.26788818570209183 0.23571195643599696 0.2 0.3 0.03390251313256176] [0.7 0.3604853101540587 0.7 0.4122374085174553 0.2531791463099399] [0.23671087648016043 0.7 0.6712569051256316 0.7 0.7] [0.5220495668360079 0.44276965332145124 0.5537484412555037  0.65199484840611 0.7] [0.7 0.30910515867905375 0.2 0.7 0.5268332215370758] [0.7 0.4299261028565723 0.7 0.5373540254236295 0.2504239331501743] [0.2 0.09194928490764764 0.2 0.43925435059827533 0.7] [0.7 0.5760907120119877 0.2911544297803492 0.6517863717812156  0.6379207007555681] [0.5035747397173306 0.7 0.7 0.7 0.613935126664438] [0.7 0.7 0.2 0.3 0.7] [0.44317708702734737 0.17304972347660363 0.2 0.7 0.6489051514456138] [0.501745998146996 0.2856402082321652 0.6366958284853916  0.3683419053302235 0.5395385433522519] [0.7 0.7 0.2 0.5106313083459157 0.6454886627441757] [0.2 0.0017596491043597728 0.7 0.7 0.27406758936347153] [0.27908960707212593 0.12067964142197818 0.48068826499085704 0.7 0.7] [0.24387509597581103 0.3948582964158739 0.7 0.3 0.7] [0.7 0.7 0.7 0.3 0.7] [0.7 0.7 0.7 0.3073794185374644 0.35378455477098936] [0.2363533952237783 0.08981163906322553 0.2 0.6158078753671168 0.7] [0.6910839497831097 0.5628470467042563 0.26375579541254224  0.5271468808849665 0.7] [0.29507589390599864 0.18333855055950088 0.2 0.7 0.0382934041858366] [0.4336796689738486 0.7 0.2 0.5093353915141386 0.47954870014125284]] volt"
      ]
     },
     "execution_count": 13,
     "metadata": {},
     "output_type": "execute_result"
    }
   ],
   "source": [
    "a.T.T"
   ]
  },
  {
   "cell_type": "code",
   "execution_count": 14,
   "metadata": {},
   "outputs": [
    {
     "data": {
      "text/plain": [
       "False"
      ]
     },
     "execution_count": 14,
     "metadata": {},
     "output_type": "execute_result"
    }
   ],
   "source": [
    "a.T.T == a.to('mV')"
   ]
  },
  {
   "cell_type": "code",
   "execution_count": 15,
   "metadata": {},
   "outputs": [
    {
     "data": {
      "text/plain": [
       "True"
      ]
     },
     "execution_count": 15,
     "metadata": {},
     "output_type": "execute_result"
    }
   ],
   "source": [
    "a.domain == a.T.T.domain"
   ]
  },
  {
   "cell_type": "code",
   "execution_count": 16,
   "metadata": {},
   "outputs": [
    {
     "data": {
      "text/plain": [
       "[[0.7 0.0207519493594015 0.6336482349262754 0.7 0.4985070123025904] [0.22479664553084766 0.19806286475962398 0.7 0.3 0.08833981417401027] [0.6853598183677972 0.7 0.2 0.5121922633857766 0.7] [0.6125260668293881 0.7 0.29187606817063316 0.7 0.7] [0.5425443680112613 0.14217004760152696 0.3733407600514692  0.6741336150663453 0.4418331744229961] [0.4340139933332937 0.6177669784693172 0.5131382425543909  0.6503971819314672 0.6010389534045444] [0.7 0.5216471523936341 0.7 0.3192360889885453 0.09045934927090737] [0.30070005663620336 0.11398436186354977 0.7 0.3 0.6262871483113925] [0.5475861559192435 0.7 0.2 0.7 0.3516526394320879] [0.7 0.2959617068796787 0.7 0.3255116378322488 0.16501589771914849] [0.3925292439465873 0.0934603745586503 0.7 0.3 0.3841144486921996] [0.7 0.7 0.4563045470947841 0.7 0.25137413420705934] [0.5973716482308843 0.7 0.5345579488018151 0.5902013629854229  0.03928176722538734] [0.3571817586345363 0.07961309015596418 0.30545991834281827  0.330719311982132 0.7] [0.2 0.42949217843163834 0.3149268718426883 0.6364911430675446  0.34634715008003303] [0.2 0.7 0.7 0.7 0.41750914383926696] [0.6055775643937568 0.5134666274082884 0.5978366479629736 0.3  0.30087130894070724] [0.2 0.30306256065103476 0.24207587540352737 0.5575781886626442  0.5655070198881675] [0.47513224741505056 0.2927979762895091 0.2 0.7 0.33970784363786366] [0.4950486308824543 0.7 0.4407738249006665 0.3182728054789512  0.5197969858753801] [0.5781364298824675 0.7 0.2 0.46453080777933253 0.7] [0.7 0.5860219800531759 0.2 0.350656391283133 0.563190684492745] [0.29972987242456284 0.5123341532735493 0.6734669252847205 0.3  0.05047767015399762] [0.33781588706467947 0.10806377277945256 0.2 0.7 0.3653649712141158] [0.21876934917953672 0.7 0.2 0.7 0.46978529344049447] [0.5982556712791092 0.14762019228529766 0.2 0.6450721264682419  0.048628006263405577] [0.24861250780276944 0.5424085162280042 0.2267733432700092  0.3814115349046321 0.7] [0.7 0.566749924575 0.5334708849890026 0.3 0.7] [0.5730289040331858 0.7 0.5615573602763689 0.7 0.5841958285306755] [0.7 0.14853345135645857 0.4284507389678964 0.6938900663424117  0.10461974452285316] [0.4396052377745905 0.16620214770453368 0.5069786292640474 0.7  0.09010673472443853] [0.7 0.5651263539578045 0.5893477116806074 0.3 0.4361182553388343] [0.29590376222083736 0.03755767594167769 0.2 0.45310500020123345 0.7] [0.557295406236397 0.3851135995654865 0.2 0.7 0.5990517974614926] [0.7 0.7 0.6031629758620348 0.7 0.6157368760335693] [0.2 0.7 0.2 0.458514206237273 0.5131227077322451] [0.4840208902868258 0.7 0.2 0.3 0.7] [0.7 0.4566975353201722 0.41689840704937775 0.3 0.3386791329893397] [0.2 0.7 0.2 0.3 0.5737762314512022] [0.293831555203768 0.6557267427145982 0.7 0.35121350299640874  0.09344037694376706] [0.7 0.7 0.3934191124365154 0.7 0.38403076811573245] [0.2573028872050038 0.7 0.7 0.5076009080549594 0.644326615041417] [0.2131865653786481 0.7 0.7 0.31700156230578813 0.7] [0.310283706940119 0.025263945431817092 0.2 0.3 0.06903334161725405] [0.2574754234045431 0.7 0.4578495119744105 0.3 0.7] [0.40346984048066603 0.02443264498316411 0.7 0.3 0.7] [0.3557723428236633 0.7 0.7 0.5381475171399585 0.5590865164032583] [0.2 0.37764191857408025 0.4287473291290427 0.5112086462854654 0.7] [0.3002106115940131 0.3964418788784505 0.7 0.41227607735340066  0.18486754999091237] [0.7 0.5692713997012885 0.2 0.7 0.22878233320196528] [0.6147017129801696 0.3680266808354594 0.7 0.6275618527056289 0.7] [0.28825313879221637 0.2747951315927687 0.60105189113251 0.7 0.7] [0.26340316495675753 0.12233592111500502 0.45872422918986366 0.7  0.6805743744444447] [0.2 0.046739227161395 0.7 0.7 0.7] [0.7 0.5989364490726748 0.7 0.3 0.11396030875469221] [0.37202890217383444 0.7 0.32114203146495945 0.6380350813446267  0.009221101669878884] [0.543465038474916 0.33775464688518353 0.7 0.7 0.3841218491535694] [0.39611779234059696 0.7 0.2 0.40537928842956905 0.1301755406309124] [0.2 0.7 0.3045733553466201 0.584055872555269 0.7] [0.7 0.6009542072456764 0.6452277456840332 0.3 0.2974840969759218] [0.6917746075764666 0.18902945285563533 0.7 0.5147637498567128 0.7] [0.2 0.08262029129549275 0.4820719697228585 0.5288538793621261  0.696308271808997] [0.20476161403019622 0.6713723299573634 0.7 0.3 0.7] [0.7 0.5506607842218151 0.2 0.34523678986185746 0.02042996881149528] [0.7 0.20792709813215138 0.2 0.6998939845292528 0.05794980601005473] [0.25660756684899655 0.510331784548845 0.7 0.3 0.4495147775986764] [0.6014403761828062 0.09727249413988015 0.28873488054197527 0.7  0.5508060640409488] [0.7 0.5803313514679765 0.2 0.6155021170585407 0.7] [0.5167892778204419 0.6261436691264234 0.5050591175564612 0.7  0.4133046555645703] [0.535468716291723 0.3426431255645266 0.2 0.6628217513999888 0.7] [0.612729181929054 0.7 0.21790843620284273 0.7 0.009769977119685747] [0.22581272666343477 0.13205512727198687 0.7 0.7 0.5810579071349049] [0.2 0.11687943957439817 0.7 0.7 0.0871283569325122] [0.3574631981198847 0.7 0.2 0.5378324338539741 0.7] [0.27252617599113516 0.5665169959073283 0.47668497071666194  0.5566206925418394 0.4407370574138011] [0.6937373642619117 0.7 0.7 0.3 0.6788353968929813] [0.4772208009079344 0.10017138767093214 0.6141962337146903 0.7 0.7] [0.32156558271190727 0.06785531108690035 0.2 0.5591253039604821  0.16085269926854784] [0.26788818570209183 0.23571195643599696 0.2 0.3 0.03390251313256176] [0.7 0.3604853101540587 0.7 0.4122374085174553 0.2531791463099399] [0.23671087648016043 0.7 0.6712569051256316 0.7 0.7] [0.5220495668360079 0.44276965332145124 0.5537484412555037  0.65199484840611 0.7] [0.7 0.30910515867905375 0.2 0.7 0.5268332215370758] [0.7 0.4299261028565723 0.7 0.5373540254236295 0.2504239331501743] [0.2 0.09194928490764764 0.2 0.43925435059827533 0.7] [0.7 0.5760907120119877 0.2911544297803492 0.6517863717812156  0.6379207007555681] [0.5035747397173306 0.7 0.7 0.7 0.613935126664438] [0.7 0.7 0.2 0.3 0.7] [0.44317708702734737 0.17304972347660363 0.2 0.7 0.6489051514456138] [0.501745998146996 0.2856402082321652 0.6366958284853916  0.3683419053302235 0.5395385433522519] [0.7 0.7 0.2 0.5106313083459157 0.6454886627441757] [0.2 0.0017596491043597728 0.7 0.7 0.27406758936347153] [0.27908960707212593 0.12067964142197818 0.48068826499085704 0.7 0.7] [0.24387509597581103 0.3948582964158739 0.7 0.3 0.7] [0.7 0.7 0.7 0.3 0.7] [0.7 0.7 0.7 0.3073794185374644 0.35378455477098936] [0.2363533952237783 0.08981163906322553 0.2 0.6158078753671168 0.7] [0.6910839497831097 0.5628470467042563 0.26375579541254224  0.5271468808849665 0.7] [0.29507589390599864 0.18333855055950088 0.2 0.7 0.0382934041858366] [0.4336796689738486 0.7 0.2 0.5093353915141386 0.47954870014125284]] volt"
      ]
     },
     "execution_count": 16,
     "metadata": {},
     "output_type": "execute_result"
    }
   ],
   "source": [
    "a.T.T"
   ]
  },
  {
   "cell_type": "code",
   "execution_count": 17,
   "metadata": {},
   "outputs": [
    {
     "data": {
      "text/plain": [
       "dreye.core.domain.Domain"
      ]
     },
     "execution_count": 17,
     "metadata": {},
     "output_type": "execute_result"
    }
   ],
   "source": [
    "type(a.domain)"
   ]
  },
  {
   "cell_type": "code",
   "execution_count": 18,
   "metadata": {},
   "outputs": [
    {
     "data": {
      "text/plain": [
       "dreye.core.domain.Domain"
      ]
     },
     "execution_count": 18,
     "metadata": {},
     "output_type": "execute_result"
    }
   ],
   "source": [
    "type(a.T.T.domain)"
   ]
  },
  {
   "cell_type": "code",
   "execution_count": 19,
   "metadata": {},
   "outputs": [
    {
     "data": {
      "text/plain": [
       "((100, 5), (100, 5))"
      ]
     },
     "execution_count": 19,
     "metadata": {},
     "output_type": "execute_result"
    }
   ],
   "source": [
    "a.T.T.shape, a.shape"
   ]
  },
  {
   "cell_type": "code",
   "execution_count": 20,
   "metadata": {},
   "outputs": [
    {
     "name": "stdout",
     "output_type": "stream",
     "text": [
      "Signals(\n",
      "\t name=None, \n",
      "\t units=volt, \n",
      "\t domain=Domain(start=0.0, end=990.0, interval=10.0, units=second), \n",
      "\t labels=Int64Index([0, 1, 2, 3, 4], dtype='int64') \n",
      " )\n"
     ]
    }
   ],
   "source": [
    "print(a)"
   ]
  },
  {
   "cell_type": "code",
   "execution_count": 21,
   "metadata": {},
   "outputs": [],
   "source": [
    "b = DomainSignal(\n",
    "    np.random.random((100, 50)),\n",
    "    domain=np.arange(0, 500, 5), \n",
    "    labels=np.arange(0, 50, 1),\n",
    "    domain_units='s', \n",
    "    units='V', \n",
    "    labels_units='V',\n",
    "    signal_min=0.2\n",
    ")"
   ]
  },
  {
   "cell_type": "code",
   "execution_count": 22,
   "metadata": {},
   "outputs": [],
   "source": [
    "c = DomainSignal(\n",
    "    np.random.random((100, 30)),\n",
    "    domain=np.arange(0, 250, 2.5), \n",
    "    labels=np.arange(10, 40, 1),\n",
    "    domain_units='s', \n",
    "    units='V', \n",
    "    labels_units='V'\n",
    ").T"
   ]
  },
  {
   "cell_type": "code",
   "execution_count": 23,
   "metadata": {},
   "outputs": [
    {
     "data": {
      "text/plain": [
       "((100, 50), (100, 50))"
      ]
     },
     "execution_count": 23,
     "metadata": {},
     "output_type": "execute_result"
    }
   ],
   "source": [
    "b.signal_min.shape, b.signal_max.shape"
   ]
  },
  {
   "cell_type": "code",
   "execution_count": 24,
   "metadata": {},
   "outputs": [
    {
     "data": {
      "text/plain": [
       "array([[nan, nan, nan, nan, nan],\n",
       "       [nan, nan, nan, nan, nan],\n",
       "       [nan, nan, nan, nan, nan],\n",
       "       [nan, nan, nan, nan, nan],\n",
       "       [nan, nan, nan, nan, nan]])"
      ]
     },
     "execution_count": 24,
     "metadata": {},
     "output_type": "execute_result"
    }
   ],
   "source": [
    "np.broadcast_to(np.nan, (5,5))"
   ]
  },
  {
   "cell_type": "code",
   "execution_count": 25,
   "metadata": {},
   "outputs": [
    {
     "data": {
      "text/plain": [
       "[10.0 11.0 12.0 13.0 14.0 15.0 16.0 17.0 18.0 19.0 20.0 21.0 22.0 23.0 24.0 25.0 26.0 27.0 28.0 29.0 30.0 31.0 32.0 33.0 34.0 35.0 36.0 37.0 38.0 39.0] volt"
      ]
     },
     "execution_count": 25,
     "metadata": {},
     "output_type": "execute_result"
    }
   ],
   "source": [
    "(b * c).labels"
   ]
  },
  {
   "cell_type": "code",
   "execution_count": 26,
   "metadata": {},
   "outputs": [
    {
     "data": {
      "text/plain": [
       "dreye.core.signal.DomainSignal"
      ]
     },
     "execution_count": 26,
     "metadata": {},
     "output_type": "execute_result"
    }
   ],
   "source": [
    "type(b[..., :3])"
   ]
  },
  {
   "cell_type": "code",
   "execution_count": 27,
   "metadata": {},
   "outputs": [
    {
     "data": {
      "text/plain": [
       "[5.0] second"
      ]
     },
     "execution_count": 27,
     "metadata": {},
     "output_type": "execute_result"
    }
   ],
   "source": [
    "b.domain[1:2]"
   ]
  },
  {
   "cell_type": "code",
   "execution_count": 28,
   "metadata": {},
   "outputs": [
    {
     "data": {
      "text/plain": [
       "(0, 0, 1)"
      ]
     },
     "execution_count": 28,
     "metadata": {},
     "output_type": "execute_result"
    }
   ],
   "source": [
    "(slice(None, None, None)).indices(0)"
   ]
  },
  {
   "cell_type": "code",
   "execution_count": 29,
   "metadata": {},
   "outputs": [
    {
     "data": {
      "text/plain": [
       "0"
      ]
     },
     "execution_count": 29,
     "metadata": {},
     "output_type": "execute_result"
    }
   ],
   "source": [
    "np.random.random((5,6,7))[1:1].size"
   ]
  },
  {
   "cell_type": "code",
   "execution_count": 30,
   "metadata": {},
   "outputs": [
    {
     "data": {
      "text/plain": [
       "array([-3, -4])"
      ]
     },
     "execution_count": 30,
     "metadata": {},
     "output_type": "execute_result"
    }
   ],
   "source": [
    "np.arange(-3, -5, -1)"
   ]
  },
  {
   "cell_type": "code",
   "execution_count": 31,
   "metadata": {},
   "outputs": [],
   "source": [
    "from dreye.utilities import array_domain, is_uniform, arange"
   ]
  },
  {
   "cell_type": "code",
   "execution_count": 32,
   "metadata": {},
   "outputs": [
    {
     "data": {
      "text/plain": [
       "(array([-3., -4., -5.]), -1.0)"
      ]
     },
     "execution_count": 32,
     "metadata": {},
     "output_type": "execute_result"
    }
   ],
   "source": [
    "arange(-3, -5, -1)"
   ]
  },
  {
   "cell_type": "code",
   "execution_count": 33,
   "metadata": {},
   "outputs": [
    {
     "data": {
      "text/plain": [
       "(-4, -3, 1.0)"
      ]
     },
     "execution_count": 33,
     "metadata": {},
     "output_type": "execute_result"
    }
   ],
   "source": [
    "array_domain(np.arange(-3, -5, -1))"
   ]
  },
  {
   "cell_type": "code",
   "execution_count": 34,
   "metadata": {},
   "outputs": [
    {
     "data": {
      "text/plain": [
       "{'attrs': {}, 'contexts': (), 'name': None, 'interval_': 5.0}"
      ]
     },
     "execution_count": 34,
     "metadata": {},
     "output_type": "execute_result"
    }
   ],
   "source": [
    "b.domain.init_kwargs"
   ]
  },
  {
   "cell_type": "code",
   "execution_count": 35,
   "metadata": {},
   "outputs": [
    {
     "data": {
      "text/plain": [
       "[10.0 11.0 12.0 13.0 14.0 15.0 16.0 17.0 18.0 19.0 20.0 21.0 22.0 23.0 24.0 25.0 26.0 27.0 28.0 29.0 30.0 31.0 32.0 33.0 34.0 35.0 36.0 37.0 38.0 39.0] volt"
      ]
     },
     "execution_count": 35,
     "metadata": {},
     "output_type": "execute_result"
    }
   ],
   "source": [
    "(b + c).labels"
   ]
  },
  {
   "cell_type": "code",
   "execution_count": 36,
   "metadata": {},
   "outputs": [
    {
     "data": {
      "text/plain": [
       "<seaborn.axisgrid.FacetGrid at 0x1a1d49dad0>"
      ]
     },
     "execution_count": 36,
     "metadata": {},
     "output_type": "execute_result"
    },
    {
     "data": {
      "image/png": "[encoded data removed]",
      "text/plain": [
       "<Figure size 425.5x360 with 1 Axes>"
      ]
     },
     "metadata": {
      "needs_background": "light"
     },
     "output_type": "display_data"
    }
   ],
   "source": [
    "(b + c).plot()"
   ]
  },
  {
   "cell_type": "code",
   "execution_count": 37,
   "metadata": {},
   "outputs": [],
   "source": [
    "aa = Signals(\n",
    "    np.random.random((100, 5)).T, \n",
    "    domain=np.arange(0, 1000, 10), \n",
    "    domain_units='s', \n",
    "    units='V', \n",
    "    signal_min=np.array([0.2, np.nan, 0.2, 0.3, np.nan]), \n",
    "    signal_max=0.7, \n",
    "    domain_axis=1\n",
    ")"
   ]
  },
  {
   "cell_type": "code",
   "execution_count": null,
   "metadata": {},
   "outputs": [],
   "source": []
  },
  {
   "cell_type": "code",
   "execution_count": 38,
   "metadata": {},
   "outputs": [
    {
     "name": "stderr",
     "output_type": "stream",
     "text": [
      "/Users/matthias.christenson/anaconda3/envs/dreye/lib/python3.7/site-packages/ipykernel_launcher.py:1: RuntimeWarning: All-NaN axis encountered\n",
      "  \"\"\"Entry point for launching an IPython kernel.\n"
     ]
    },
    {
     "data": {
      "text/plain": [
       "nan"
      ]
     },
     "execution_count": 38,
     "metadata": {},
     "output_type": "execute_result"
    }
   ],
   "source": [
    "np.nanmax(np.nan)"
   ]
  },
  {
   "cell_type": "code",
   "execution_count": 39,
   "metadata": {},
   "outputs": [
    {
     "data": {
      "text/plain": [
       "<seaborn.axisgrid.FacetGrid at 0x1a1f57bf90>"
      ]
     },
     "execution_count": 39,
     "metadata": {},
     "output_type": "execute_result"
    },
    {
     "data": {
      "image/png": "[encoded data removed]",
      "text/plain": [
       "<Figure size 425.5x360 with 1 Axes>"
      ]
     },
     "metadata": {
      "needs_background": "light"
     },
     "output_type": "display_data"
    }
   ],
   "source": [
    "(aa * np.arange(100)).plot()"
   ]
  },
  {
   "cell_type": "code",
   "execution_count": 40,
   "metadata": {},
   "outputs": [
    {
     "data": {
      "text/plain": [
       "(5, 100)"
      ]
     },
     "execution_count": 40,
     "metadata": {},
     "output_type": "execute_result"
    }
   ],
   "source": [
    "aa.to('mV').signal_min.shape"
   ]
  },
  {
   "cell_type": "code",
   "execution_count": 41,
   "metadata": {},
   "outputs": [],
   "source": [
    "from dreye import Spectrum, Spectra, IntensitySpectra, IntensitySpectrum"
   ]
  },
  {
   "cell_type": "code",
   "execution_count": 42,
   "metadata": {},
   "outputs": [],
   "source": [
    "s = IntensitySpectrum(\n",
    "    np.arange(100), \n",
    "    np.linspace(300, 700, 100), \n",
    "    signal_min=10, \n",
    "    signal_max=90\n",
    ")"
   ]
  },
  {
   "cell_type": "code",
   "execution_count": 43,
   "metadata": {},
   "outputs": [
    {
     "data": {
      "text/plain": [
       "<seaborn.axisgrid.FacetGrid at 0x1a1fd519d0>"
      ]
     },
     "execution_count": 43,
     "metadata": {},
     "output_type": "execute_result"
    },
    {
     "data": {
      "image/png": "[encoded data removed]",
      "text/plain": [
       "<Figure size 360x360 with 1 Axes>"
      ]
     },
     "metadata": {
      "needs_background": "light"
     },
     "output_type": "display_data"
    }
   ],
   "source": [
    "s.plot()"
   ]
  },
  {
   "cell_type": "code",
   "execution_count": 44,
   "metadata": {},
   "outputs": [],
   "source": [
    "s1 = IntensitySpectra(s, domain_axis=0)"
   ]
  },
  {
   "cell_type": "code",
   "execution_count": 45,
   "metadata": {},
   "outputs": [
    {
     "data": {
      "text/plain": [
       "0"
      ]
     },
     "execution_count": 45,
     "metadata": {},
     "output_type": "execute_result"
    }
   ],
   "source": [
    "s1.domain_axis"
   ]
  },
  {
   "cell_type": "code",
   "execution_count": 46,
   "metadata": {},
   "outputs": [
    {
     "data": {
      "text/plain": [
       "(100, 1)"
      ]
     },
     "execution_count": 46,
     "metadata": {},
     "output_type": "execute_result"
    }
   ],
   "source": [
    "s1.to('uE').signal_min.shape"
   ]
  },
  {
   "cell_type": "code",
   "execution_count": 47,
   "metadata": {},
   "outputs": [
    {
     "data": {
      "text/html": [
       "\\[spectral\\_irradiance\\]"
      ],
      "text/latex": [
       "$\\mathrm{spectral\\_irradiance}$"
      ],
      "text/plain": [
       "<Unit('spectral_irradiance')>"
      ]
     },
     "execution_count": 47,
     "metadata": {},
     "output_type": "execute_result"
    }
   ],
   "source": [
    "s.units"
   ]
  },
  {
   "cell_type": "code",
   "execution_count": 48,
   "metadata": {},
   "outputs": [
    {
     "data": {
      "text/html": [
       "\\[nanometer\\]"
      ],
      "text/latex": [
       "$\\mathrm{nanometer}$"
      ],
      "text/plain": [
       "<Unit('nanometer')>"
      ]
     },
     "execution_count": 48,
     "metadata": {},
     "output_type": "execute_result"
    }
   ],
   "source": [
    "s._domain_values.units"
   ]
  },
  {
   "cell_type": "code",
   "execution_count": 49,
   "metadata": {},
   "outputs": [
    {
     "data": {
      "text/html": [
       "\\[spectral\\_irradiance\\]"
      ],
      "text/latex": [
       "$\\mathrm{spectral\\_irradiance}$"
      ],
      "text/plain": [
       "<Unit('spectral_irradiance')>"
      ]
     },
     "execution_count": 49,
     "metadata": {},
     "output_type": "execute_result"
    }
   ],
   "source": [
    "s.units"
   ]
  },
  {
   "cell_type": "code",
   "execution_count": 50,
   "metadata": {},
   "outputs": [
    {
     "data": {
      "text/plain": [
       "array([25.07804169, 25.41579309, 25.75354449, 26.0912959 , 26.4290473 ,\n",
       "       26.7667987 , 27.10455011, 27.44230151, 27.78005291, 28.11780432,\n",
       "       28.45555572, 28.79330712, 29.13105853, 29.46880993, 29.80656133,\n",
       "       30.14431274, 30.48206414, 30.81981554, 31.15756694, 31.49531835,\n",
       "       31.83306975, 32.17082115, 32.50857256, 32.84632396, 33.18407536,\n",
       "       33.52182677, 33.85957817, 34.19732957, 34.53508098, 34.87283238,\n",
       "       35.21058378, 35.54833519, 35.88608659, 36.22383799, 36.5615894 ,\n",
       "       36.8993408 , 37.2370922 , 37.57484361, 37.91259501, 38.25034641,\n",
       "       38.58809782, 38.92584922, 39.26360062, 39.60135202, 39.93910343,\n",
       "       40.27685483, 40.61460623, 40.95235764, 41.29010904, 41.62786044,\n",
       "       41.96561185, 42.30336325, 42.64111465, 42.97886606, 43.31661746,\n",
       "       43.65436886, 43.99212027, 44.32987167, 44.66762307, 45.00537448,\n",
       "       45.34312588, 45.68087728, 46.01862869, 46.35638009, 46.69413149,\n",
       "       47.0318829 , 47.3696343 , 47.7073857 , 48.0451371 , 48.38288851,\n",
       "       48.72063991, 49.05839131, 49.39614272, 49.73389412, 50.07164552,\n",
       "       50.40939693, 50.74714833, 51.08489973, 51.42265114, 51.76040254,\n",
       "       52.09815394, 52.43590535, 52.77365675, 53.11140815, 53.44915956,\n",
       "       53.78691096, 54.12466236, 54.46241377, 54.80016517, 55.13791657,\n",
       "       55.47566798, 55.81341938, 56.15117078, 56.48892218, 56.82667359,\n",
       "       57.16442499, 57.50217639, 57.8399278 , 58.1776792 , 58.5154306 ])"
      ]
     },
     "execution_count": 50,
     "metadata": {},
     "output_type": "execute_result"
    }
   ],
   "source": [
    "s.to('uE').signal_min"
   ]
  },
  {
   "cell_type": "code",
   "execution_count": null,
   "metadata": {},
   "outputs": [],
   "source": []
  },
  {
   "cell_type": "code",
   "execution_count": 51,
   "metadata": {},
   "outputs": [
    {
     "data": {
      "text/plain": [
       "array([90., 90., 90., 90., 90., 90., 90., 90., 90., 90., 90., 90., 90.,\n",
       "       90., 90., 90., 90., 90., 90., 90., 90., 90., 90., 90., 90., 90.,\n",
       "       90., 90., 90., 90., 90., 90., 90., 90., 90., 90., 90., 90., 90.,\n",
       "       90., 90., 90., 90., 90., 90., 90., 90., 90., 90., 90., 90., 90.,\n",
       "       90., 90., 90., 90., 90., 90., 90., 90., 90., 90., 90., 90., 90.,\n",
       "       90., 90., 90., 90., 90., 90., 90., 90., 90., 90., 90., 90., 90.,\n",
       "       90., 90., 90., 90., 90., 90., 90., 90., 90., 90., 90., 90., 90.,\n",
       "       90., 90., 90., 90., 90., 90., 90., 90., 90.])"
      ]
     },
     "execution_count": 51,
     "metadata": {},
     "output_type": "execute_result"
    }
   ],
   "source": [
    "s.signal_max"
   ]
  },
  {
   "cell_type": "code",
   "execution_count": null,
   "metadata": {},
   "outputs": [],
   "source": []
  },
  {
   "cell_type": "code",
   "execution_count": 52,
   "metadata": {},
   "outputs": [
    {
     "data": {
      "text/plain": [
       "[25.078041687335332 25.41579309053177 25.753544493728203 26.09129589692464 26.429047300121077 26.766798703317512 27.104550106513948 27.44230150971038 27.780052912906818 28.117804316103257 28.45555571929969 31.67263783474574 34.95727023083107 38.309452907555695 41.72918586491961 45.216469102922794 48.77130262156528 52.393686420847054 56.08362050076811 59.84110486132845 63.66613950252809 67.558724424367 71.51885962684521 75.54654510996271 79.64178087371948 83.80456691811555 88.03490324315091 92.33278984882556 96.69822673513949 101.1312139020927 105.6317513496852 110.19983907791699 114.83547708678807 119.53866537629844 124.30940394644809 129.14769279723703 134.05353192866525 139.02692134073277 144.06786103343956 149.17635100678567 154.35239126077101 159.5959817953957 164.90712261065963 170.2858137065629 175.7320550831054 181.2458467402872 186.82718867810829 192.47608089656867 198.19252339566833 203.9765161754073 209.82805923578556 215.74715257680305 221.73379619845988 227.78799010075596 233.9097342836914 240.09902874726603 246.35587349148005 252.68026851633326 259.07221382182587 265.53170940795763 272.0587552747288 278.65335142213917 285.31549785018893 292.0451945588778 298.8424415482061 305.7072388181736 312.63958636878056 319.63948420002663 326.7069323119121 333.8419307044367 341.04447937760074 348.31457833140394 355.6522275658466 363.0574270809284 370.5301768766496 378.07047695301 385.6783273100097 393.3537279476486 401.096678865927 408.90718006484445 416.7852315444014 424.73083330459747 432.74398534543303 440.82468766690766 448.97294026902176 457.18874315177493 465.4720963151676 473.82299975919943 482.24145348387066 490.727457489181 499.2810117751308 502.3207744038986 505.3605370326666 508.4002996614345 511.4400622902025 514.4798249189703 517.5195875477383 520.5593501765062 523.5991128052741 526.638875434042] microspectral_E_Q"
      ]
     },
     "execution_count": 52,
     "metadata": {},
     "output_type": "execute_result"
    }
   ],
   "source": [
    "s.to('uE')"
   ]
  },
  {
   "cell_type": "code",
   "execution_count": 53,
   "metadata": {},
   "outputs": [],
   "source": [
    "from dreye.constants import ureg"
   ]
  },
  {
   "cell_type": "code",
   "execution_count": 54,
   "metadata": {},
   "outputs": [
    {
     "data": {
      "text/plain": [
       "<seaborn.axisgrid.FacetGrid at 0x1a1fd1d610>"
      ]
     },
     "execution_count": 54,
     "metadata": {},
     "output_type": "execute_result"
    },
    {
     "data": {
      "image/png": "[encoded data removed]",
      "text/plain": [
       "<Figure size 360x360 with 1 Axes>"
      ]
     },
     "metadata": {
      "needs_background": "light"
     },
     "output_type": "display_data"
    }
   ],
   "source": [
    "s.plot()"
   ]
  },
  {
   "cell_type": "code",
   "execution_count": 55,
   "metadata": {},
   "outputs": [
    {
     "data": {
      "text/plain": [
       "(100, 5)"
      ]
     },
     "execution_count": 55,
     "metadata": {},
     "output_type": "execute_result"
    }
   ],
   "source": [
    "(a + aa).shape"
   ]
  },
  {
   "cell_type": "code",
   "execution_count": 56,
   "metadata": {},
   "outputs": [
    {
     "data": {
      "text/plain": [
       "(5, 100)"
      ]
     },
     "execution_count": 56,
     "metadata": {},
     "output_type": "execute_result"
    }
   ],
   "source": [
    "(aa + a).shape"
   ]
  },
  {
   "cell_type": "code",
   "execution_count": 57,
   "metadata": {},
   "outputs": [
    {
     "data": {
      "text/html": [
       "\\[\\begin{pmatrix}460.6951672449348 & 472.43778324962085 & 464.49236048773724 & 493.58740419138405 & 453.1454316808989\\end{pmatrix} second\\ volt\\]"
      ],
      "text/latex": [
       "$\\begin{pmatrix}460.6951672449348 & 472.43778324962085 & 464.49236048773724 & 493.58740419138405 & 453.1454316808989\\end{pmatrix}\\ \\mathrm{second} \\cdot \\mathrm{volt}$"
      ],
      "text/plain": [
       "array([460.69516724, 472.43778325, 464.49236049, 493.58740419,\n",
       "       453.14543168]) <Unit('second * volt')>"
      ]
     },
     "execution_count": 57,
     "metadata": {},
     "output_type": "execute_result"
    }
   ],
   "source": [
    "aa.integral"
   ]
  },
  {
   "cell_type": "code",
   "execution_count": 58,
   "metadata": {},
   "outputs": [
    {
     "data": {
      "text/html": [
       "\\[\\begin{pmatrix}455.2640621875413 & 433.82445567539594 & 444.1991227909002 & 515.0164683313762 & 458.1309082864252\\end{pmatrix} second\\ volt\\]"
      ],
      "text/latex": [
       "$\\begin{pmatrix}455.2640621875413 & 433.82445567539594 & 444.1991227909002 & 515.0164683313762 & 458.1309082864252\\end{pmatrix}\\ \\mathrm{second} \\cdot \\mathrm{volt}$"
      ],
      "text/plain": [
       "array([455.26406219, 433.82445568, 444.19912279, 515.01646833,\n",
       "       458.13090829]) <Unit('second * volt')>"
      ]
     },
     "execution_count": 58,
     "metadata": {},
     "output_type": "execute_result"
    }
   ],
   "source": [
    "a.integral"
   ]
  },
  {
   "cell_type": "code",
   "execution_count": 59,
   "metadata": {},
   "outputs": [
    {
     "data": {
      "text/plain": [
       "(100, 5)"
      ]
     },
     "execution_count": 59,
     "metadata": {},
     "output_type": "execute_result"
    }
   ],
   "source": [
    "a.gradient.shape"
   ]
  },
  {
   "cell_type": "code",
   "execution_count": 60,
   "metadata": {},
   "outputs": [
    {
     "data": {
      "text/plain": [
       "array([[0.2, nan, 0.2, 0.3, nan],\n",
       "       [0.2, nan, 0.2, 0.3, nan],\n",
       "       [0.2, nan, 0.2, 0.3, nan],\n",
       "       [0.2, nan, 0.2, 0.3, nan],\n",
       "       [0.2, nan, 0.2, 0.3, nan],\n",
       "       [0.2, nan, 0.2, 0.3, nan],\n",
       "       [0.2, nan, 0.2, 0.3, nan],\n",
       "       [0.2, nan, 0.2, 0.3, nan],\n",
       "       [0.2, nan, 0.2, 0.3, nan],\n",
       "       [0.2, nan, 0.2, 0.3, nan],\n",
       "       [0.2, nan, 0.2, 0.3, nan],\n",
       "       [0.2, nan, 0.2, 0.3, nan],\n",
       "       [0.2, nan, 0.2, 0.3, nan],\n",
       "       [0.2, nan, 0.2, 0.3, nan],\n",
       "       [0.2, nan, 0.2, 0.3, nan],\n",
       "       [0.2, nan, 0.2, 0.3, nan],\n",
       "       [0.2, nan, 0.2, 0.3, nan],\n",
       "       [0.2, nan, 0.2, 0.3, nan],\n",
       "       [0.2, nan, 0.2, 0.3, nan],\n",
       "       [0.2, nan, 0.2, 0.3, nan],\n",
       "       [0.2, nan, 0.2, 0.3, nan],\n",
       "       [0.2, nan, 0.2, 0.3, nan],\n",
       "       [0.2, nan, 0.2, 0.3, nan],\n",
       "       [0.2, nan, 0.2, 0.3, nan],\n",
       "       [0.2, nan, 0.2, 0.3, nan],\n",
       "       [0.2, nan, 0.2, 0.3, nan],\n",
       "       [0.2, nan, 0.2, 0.3, nan],\n",
       "       [0.2, nan, 0.2, 0.3, nan],\n",
       "       [0.2, nan, 0.2, 0.3, nan],\n",
       "       [0.2, nan, 0.2, 0.3, nan],\n",
       "       [0.2, nan, 0.2, 0.3, nan],\n",
       "       [0.2, nan, 0.2, 0.3, nan],\n",
       "       [0.2, nan, 0.2, 0.3, nan],\n",
       "       [0.2, nan, 0.2, 0.3, nan],\n",
       "       [0.2, nan, 0.2, 0.3, nan],\n",
       "       [0.2, nan, 0.2, 0.3, nan],\n",
       "       [0.2, nan, 0.2, 0.3, nan],\n",
       "       [0.2, nan, 0.2, 0.3, nan],\n",
       "       [0.2, nan, 0.2, 0.3, nan],\n",
       "       [0.2, nan, 0.2, 0.3, nan],\n",
       "       [0.2, nan, 0.2, 0.3, nan],\n",
       "       [0.2, nan, 0.2, 0.3, nan],\n",
       "       [0.2, nan, 0.2, 0.3, nan],\n",
       "       [0.2, nan, 0.2, 0.3, nan],\n",
       "       [0.2, nan, 0.2, 0.3, nan],\n",
       "       [0.2, nan, 0.2, 0.3, nan],\n",
       "       [0.2, nan, 0.2, 0.3, nan],\n",
       "       [0.2, nan, 0.2, 0.3, nan],\n",
       "       [0.2, nan, 0.2, 0.3, nan],\n",
       "       [0.2, nan, 0.2, 0.3, nan],\n",
       "       [0.2, nan, 0.2, 0.3, nan],\n",
       "       [0.2, nan, 0.2, 0.3, nan],\n",
       "       [0.2, nan, 0.2, 0.3, nan],\n",
       "       [0.2, nan, 0.2, 0.3, nan],\n",
       "       [0.2, nan, 0.2, 0.3, nan],\n",
       "       [0.2, nan, 0.2, 0.3, nan],\n",
       "       [0.2, nan, 0.2, 0.3, nan],\n",
       "       [0.2, nan, 0.2, 0.3, nan],\n",
       "       [0.2, nan, 0.2, 0.3, nan],\n",
       "       [0.2, nan, 0.2, 0.3, nan],\n",
       "       [0.2, nan, 0.2, 0.3, nan],\n",
       "       [0.2, nan, 0.2, 0.3, nan],\n",
       "       [0.2, nan, 0.2, 0.3, nan],\n",
       "       [0.2, nan, 0.2, 0.3, nan],\n",
       "       [0.2, nan, 0.2, 0.3, nan],\n",
       "       [0.2, nan, 0.2, 0.3, nan],\n",
       "       [0.2, nan, 0.2, 0.3, nan],\n",
       "       [0.2, nan, 0.2, 0.3, nan],\n",
       "       [0.2, nan, 0.2, 0.3, nan],\n",
       "       [0.2, nan, 0.2, 0.3, nan],\n",
       "       [0.2, nan, 0.2, 0.3, nan],\n",
       "       [0.2, nan, 0.2, 0.3, nan],\n",
       "       [0.2, nan, 0.2, 0.3, nan],\n",
       "       [0.2, nan, 0.2, 0.3, nan],\n",
       "       [0.2, nan, 0.2, 0.3, nan],\n",
       "       [0.2, nan, 0.2, 0.3, nan],\n",
       "       [0.2, nan, 0.2, 0.3, nan],\n",
       "       [0.2, nan, 0.2, 0.3, nan],\n",
       "       [0.2, nan, 0.2, 0.3, nan],\n",
       "       [0.2, nan, 0.2, 0.3, nan],\n",
       "       [0.2, nan, 0.2, 0.3, nan],\n",
       "       [0.2, nan, 0.2, 0.3, nan],\n",
       "       [0.2, nan, 0.2, 0.3, nan],\n",
       "       [0.2, nan, 0.2, 0.3, nan],\n",
       "       [0.2, nan, 0.2, 0.3, nan],\n",
       "       [0.2, nan, 0.2, 0.3, nan],\n",
       "       [0.2, nan, 0.2, 0.3, nan],\n",
       "       [0.2, nan, 0.2, 0.3, nan],\n",
       "       [0.2, nan, 0.2, 0.3, nan],\n",
       "       [0.2, nan, 0.2, 0.3, nan],\n",
       "       [0.2, nan, 0.2, 0.3, nan],\n",
       "       [0.2, nan, 0.2, 0.3, nan],\n",
       "       [0.2, nan, 0.2, 0.3, nan],\n",
       "       [0.2, nan, 0.2, 0.3, nan],\n",
       "       [0.2, nan, 0.2, 0.3, nan],\n",
       "       [0.2, nan, 0.2, 0.3, nan],\n",
       "       [0.2, nan, 0.2, 0.3, nan],\n",
       "       [0.2, nan, 0.2, 0.3, nan],\n",
       "       [0.2, nan, 0.2, 0.3, nan],\n",
       "       [0.2, nan, 0.2, 0.3, nan]])"
      ]
     },
     "execution_count": 60,
     "metadata": {},
     "output_type": "execute_result"
    }
   ],
   "source": [
    "a.signal_min"
   ]
  },
  {
   "cell_type": "code",
   "execution_count": 61,
   "metadata": {},
   "outputs": [
    {
     "data": {
      "text/plain": [
       "(100, 1)"
      ]
     },
     "execution_count": 61,
     "metadata": {},
     "output_type": "execute_result"
    }
   ],
   "source": [
    "a._domain_values.shape"
   ]
  },
  {
   "cell_type": "code",
   "execution_count": 62,
   "metadata": {},
   "outputs": [
    {
     "data": {
      "text/plain": [
       "(1, 100)"
      ]
     },
     "execution_count": 62,
     "metadata": {},
     "output_type": "execute_result"
    }
   ],
   "source": [
    "aa._domain_values.shape"
   ]
  },
  {
   "cell_type": "code",
   "execution_count": 63,
   "metadata": {},
   "outputs": [
    {
     "data": {
      "text/plain": [
       "(array([0.2       , 0.0088538 , 0.2       , 0.3       , 0.00941069]),\n",
       " array([0.7, 0.7, 0.7, 0.7, 0.7]))"
      ]
     },
     "execution_count": 63,
     "metadata": {},
     "output_type": "execute_result"
    }
   ],
   "source": [
    "aa.boundaries"
   ]
  },
  {
   "cell_type": "code",
   "execution_count": 64,
   "metadata": {},
   "outputs": [
    {
     "data": {
      "text/html": [
       "\\[0.47389686747641135\\ volt\\]"
      ],
      "text/latex": [
       "$0.47389686747641135\\ \\mathrm{volt}$"
      ],
      "text/plain": [
       "0.47389686747641135 <Unit('volt')>"
      ]
     },
     "execution_count": 64,
     "metadata": {},
     "output_type": "execute_result"
    }
   ],
   "source": [
    "aa.mean()"
   ]
  },
  {
   "cell_type": "code",
   "execution_count": 65,
   "metadata": {},
   "outputs": [
    {
     "data": {
      "text/html": [
       "\\[\\begin{pmatrix}0.46403276785311703 & 0.47922556807054845 & 0.470515567759155 & 0.4990179485878427 & 0.4566924851113939\\end{pmatrix} volt\\]"
      ],
      "text/latex": [
       "$\\begin{pmatrix}0.46403276785311703 & 0.47922556807054845 & 0.470515567759155 & 0.4990179485878427 & 0.4566924851113939\\end{pmatrix}\\ \\mathrm{volt}$"
      ],
      "text/plain": [
       "array([0.46403277, 0.47922557, 0.47051557, 0.49901795, 0.45669249]) <Unit('volt')>"
      ]
     },
     "execution_count": 65,
     "metadata": {},
     "output_type": "execute_result"
    }
   ],
   "source": [
    "aa.mean(axis=aa.domain_axis)"
   ]
  },
  {
   "cell_type": "code",
   "execution_count": 66,
   "metadata": {},
   "outputs": [
    {
     "data": {
      "text/plain": [
       "[[0.34981171766245744] [0.6614356641754036] [0.4487510183675319] [0.5023493009071366] [0.3473515203206222]] volt"
      ]
     },
     "execution_count": 66,
     "metadata": {},
     "output_type": "execute_result"
    }
   ],
   "source": [
    "aa([5])"
   ]
  },
  {
   "cell_type": "code",
   "execution_count": 67,
   "metadata": {},
   "outputs": [],
   "source": [
    "from dreye.utilities import is_hashable"
   ]
  },
  {
   "cell_type": "code",
   "execution_count": 68,
   "metadata": {},
   "outputs": [
    {
     "data": {
      "text/plain": [
       "False"
      ]
     },
     "execution_count": 68,
     "metadata": {},
     "output_type": "execute_result"
    }
   ],
   "source": [
    "is_hashable(['asdf', 'asdf'])"
   ]
  },
  {
   "cell_type": "code",
   "execution_count": 69,
   "metadata": {},
   "outputs": [
    {
     "data": {
      "text/plain": [
       "[[4.675201216247615 2.321033136919636 2.156201168202946 7.0  5.577854774441801 7.0 7.0 2.0 7.0 7.0 2.0 2.0 7.0 5.799691350890242 7.0  7.0 2.0 3.203343241832078 3.1639481132343406 6.557537152373266 2.0  6.51511474438422 2.0 7.0 2.0 4.187132018046597 4.482346843459526 2.0  7.0 6.3055898599786815 7.0 2.0 2.0749154849722853 5.433295682760917  5.991341051882843 7.0 2.0019525117689363 7.0 5.710414043065476 7.0  3.0246562938416743 5.981703781873255 3.8659489716998308  4.609418411906243 4.804975927455089 7.0 4.458005551426831 2.0 7.0 7.0  4.336709636513621 4.398052335794668 2.856009264859607 4.041735414689944  7.0 3.510447608165461 2.286033170331275 2.0 4.308790069862836 7.0  3.883947111793703 2.0194986653602562 2.0 2.0 7.0 2.0 7.0 2.0  5.921011983757634 7.0 7.0 7.0 7.0 7.0 5.459920577094486 2.0 7.0 2.0  5.665736760133578 5.741829542924347 2.9801375511138173  3.0506915336077975 2.0 2.0 2.2607645945145762 2.6086968946020592  3.671956789886389 7.0 5.468886527720377 2.0 5.6705471042718445  5.49040487194822 5.802493145508716 2.0 7.0 7.0 2.599880518697838  6.096964847241272 7.0 2.0] [6.99999999993 6.228713283469215 7.0 1.8607199939940877 7.0  5.554253657520033 0.8091095954821659 7.0 1.9610951859592851  0.5169849515962088 7.0 4.689279388765934 7.0 0.356469789787901  5.080017969380007 7.0 7.0 6.976544638664926 7.0 6.820214537668342  5.178907161276335 5.137567509502064 3.250690855045828 3.471402512891787  6.29762487230119 6.664813165126764 4.415059228053756 5.237264570989947  7.0 7.0 6.171022771479793 7.0 5.332061726235983 5.8375384081623665  2.7494368247539613 5.683318043609926 7.0 6.520580697871833  6.018179202706442 5.2337357985497155 7.0 4.820808038249147  1.0296408309718796 2.647070607430825 7.0 7.0 7.0 4.420977146474283  4.7775643124348015 7.0 4.165062390581323 2.5942534698447117  0.418098866130342 5.040434692644959 5.631270490498985 5.038973817507709  0.14127751440581315 3.2248741666184664 7.0 6.45201521102157  2.167098968972758 4.304809439870033 1.9042997544970552  4.715919548319659 7.0 7.0 2.459111069917327 7.0 6.662664498432864  0.08853804985697877 7.0 7.0 7.0 3.387483049797133 2.6219656470547537  7.0 3.276053189904559 5.448032530006888 7.0 0.18628885520857064 7.0  1.3358941794302748 1.514831727885857 0.9004917612659946  4.844097358143827 1.6159033398768885 2.3235954690658636 7.0 7.0  0.11043475784767609 3.0204060930937326 2.3107885160594854 7.0  3.6632740456745196 4.556890239438401 4.7457229428938685  1.6375231975136806 7.0 4.392952303105221 6.575569641722772] [5.046414542694947 3.9286058245744067 7.0 2.0 4.296265248217886 7.0 7.0  6.813631643440314 7.0 6.2330599551544354 6.1818256290191655 7.0  4.576049217974031 2.0 2.0 2.718309830919259 7.0 4.846096550274054  2.8821348045186976 3.057475065524331 7.0 7.0 7.0 2.0 4.576010403395654  7.0 3.165227759214997 2.0 7.0 2.0 2.0 2.0 5.659867329203277  4.570902036140822 7.0 2.0 5.820153669217056 2.9401386191319547  5.667756703783484 7.0 6.9475157257288 7.0 4.951697142877808  4.970610405353046 7.0 7.0 5.5435069738731135 4.4233344631261415 2.0 7.0  7.0 3.560086640713652 3.1168700497715376 7.0 4.198946049211456 2.0 7.0  2.0 4.822895452810519 7.0 3.6185441782201466 2.0 2.0 4.602883024641021  7.0 2.0 6.2114228055662295 7.0 2.0 2.390957477538278 5.376314018446057  2.0 2.196251011633045 4.309051163991145 7.0 2.0 5.108885063554913 7.0  7.0 7.0 3.085196955110093 2.0 6.070001765701227 2.0 2.0  2.245619179317049 6.283177637457072 7.0 7.0 3.850477695199883  3.4068388023725293 2.0 2.0 6.732481820376055 7.0 7.0 2.0545455829226156  5.457531841172607 2.0 7.0] [4.457366933436233 5.589619084645301 7.0 7.0 3.0 7.0 4.991419972401257  7.0 3.996609343638525 3.0 3.5215944008579347 3.0 7.0 3.0  3.4673334322512694 3.0 4.607509979928431 4.710120851378847  4.434616449017888 7.0 7.0 7.0 7.0 7.0 3.06286830138193 3.0  4.373470086280601 6.975273169557853 4.523988516999298 6.55240475611071  7.0 4.742975796919458 5.137088030491683 5.3329964629075235 7.0 7.0  4.175806546857155 3.0 3.0 7.0 3.0 5.945671490287175 7.0  5.805194176013123 3.450179889068552 7.0 6.9817851223736955  4.850794899720992 6.054960357570075 6.753198261705114 3.0  3.1108711199073236 7.0 5.968547894182081 3.4445987587079507  6.929749566501558 3.0 3.8263630360476997 3.0 3.0 7.0 3.0 7.0 3.0 3.0  5.368006105571603 7.0 3.0 6.68516576594743 7.0 6.166909438907408 7.0  3.0 5.5482739504340985 4.358343616995163 3.0 3.6825405600705627  4.835040327305422 3.0 6.355484838797007 3.0 3.0 3.0 4.960489521515563  3.0 5.746440136209861 7.0 4.081094389775784 5.914668972572127  3.9308508319927817 7.0 3.0 6.217293362546562 3.0 5.255384019592075  4.1831446027236705 3.9411793369515724 7.0 4.608940263378228  6.403721859335975] [0.09410686091920901 6.852923545525618 0.24653989509610286  5.457049916244269 6.786502136123818 0.3044263202696351  2.1797663109673424 4.439648149211647 4.829541680850146  1.1798282291594397 6.634385491261966 4.975581579030507  4.7814892020951945 7.0 0.206491838856957 7.0 4.050168072539399 7.0 7.0  1.6101664829249474 7.0 4.319427608612278 7.0 6.160376868586019  2.0963746827471477 2.0666085365704623 7.0 7.0 4.197002846130104  6.3520912870069015 1.7727843784478947 2.0583021781227195  6.240830482342617 6.278884461662146 0.6958692723180948  3.9258947782874842 0.7993917713149323 4.958478572874484  1.0945736810112472 5.810325028106726 0.2790950085798505  4.344017254447683 4.083857279124938 7.0 5.6867299052090425  1.882967718213282 7.0 7.0 3.1218532734780813 5.780776655333915  0.6838471884337105 6.156329697192854 7.0 1.8183316631474522  6.366416739912025 5.524696648356628 3.5464884339499667 7.0  2.8231542508305574 6.252161830352856 7.0 7.0 5.245590392062219 7.0  3.441804229648031 7.0 0.8705033300777232 3.8658949329943173  3.6185889556883333 7.0 2.7435103544824213 6.1117891561924464  1.2047604137213042 2.7413849364306864 7.0 7.0 7.0 2.2852408639768065  0.7421314004226176 5.767898518550046 7.0 3.1446684475637845  4.90632520019759 5.173706987494546 7.0 2.012971492649883  2.1649354485013994 1.2196066099879166 4.0062938535390655 7.0  5.456665053091983 5.21967353952988 6.764999264609058 1.0813389975962795  7.0 7.0 7.0 3.996176890326464 5.099470150243488 7.0]] second * volt"
      ]
     },
     "execution_count": 69,
     "metadata": {},
     "output_type": "execute_result"
    }
   ],
   "source": [
    "aa.piecewise_integral"
   ]
  },
  {
   "cell_type": "code",
   "execution_count": 70,
   "metadata": {},
   "outputs": [
    {
     "data": {
      "text/plain": [
       "[[0.4675201216294367 0.2321033136931241 0.21562011682029458 0.7  0.5577854774441801 0.7 0.7 0.2 0.7 0.7 0.2 0.2 0.7 0.5799691350890243  0.7 0.7 0.2 0.32033432418320784 0.31639481132343406 0.6557537152373266  0.2 0.651511474438422 0.2 0.7 0.2 0.41871320180465976  0.4482346843459526 0.2 0.7 0.6305589859978682 0.7 0.2  0.2074915484972285 0.5433295682760917 0.5991341051882844 0.7  0.20019525117689363 0.7 0.5710414043065476 0.7 0.30246562938416743  0.5981703781873254 0.3865948971699831 0.4609418411906243  0.48049759274550896 0.7 0.44580055514268313 0.2 0.7 0.7  0.43367096365136215 0.4398052335794669 0.2856009264859607  0.4041735414689944 0.7 0.3510447608165461 0.22860331703312753 0.2  0.43087900698628356 0.7 0.3883947111793703 0.20194986653602565 0.2 0.2  0.7 0.2 0.7 0.2 0.5921011983757634 0.7 0.7 0.7 0.7 0.7  0.5459920577094486 0.2 0.7 0.2 0.5665736760133578 0.5741829542924347  0.29801375511138173 0.3050691533607798 0.2 0.2 0.2260764594514576  0.26086968946020594 0.3671956789886389 0.7 0.5468886527720377 0.2  0.5670547104271845 0.549040487194822 0.5802493145508716 0.2 0.7 0.7  0.2599880518697838 0.6096964847241272 0.7 0.2] [0.7 0.6228713283500358 0.7 0.18607199939940877 0.7 0.5554253657520033  0.08091095954821659 0.7 0.1961095185959285 0.05169849515962088 0.7  0.46892793887659345 0.7 0.0356469789787901 0.5080017969380007 0.7 0.7  0.6976544638664925 0.7 0.6820214537668342 0.5178907161276335  0.5137567509502065 0.3250690855045828 0.3471402512891787  0.6297624872301191 0.6664813165126764 0.4415059228053756  0.5237264570989947 0.7 0.7 0.6171022771479793 0.7 0.5332061726235983  0.5837538408162366 0.27494368247539613 0.5683318043609926 0.7  0.6520580697871833 0.6018179202706442 0.5233735798549716 0.7  0.4820808038249147 0.10296408309718796 0.2647070607430825 0.7 0.7 0.7  0.4420977146474283 0.4777564312434801 0.7 0.4165062390581322  0.2594253469844712 0.0418098866130342 0.5040434692644958  0.5631270490498985 0.5038973817507709 0.014127751440581315  0.32248741666184666 0.7 0.645201521102157 0.21670989689727582  0.4304809439870033 0.19042997544970552 0.4715919548319659 0.7 0.7  0.2459111069917327 0.7 0.6662664498432864 0.008853804985697877 0.7 0.7  0.7 0.3387483049797133 0.26219656470547537 0.7 0.32760531899045586  0.5448032530006888 0.7 0.018628885520857064 0.7 0.13358941794302748  0.1514831727885857 0.09004917612659946 0.48440973581438274  0.16159033398768885 0.23235954690658633 0.7 0.7 0.011043475784767609  0.30204060930937326 0.23107885160594854 0.7 0.36632740456745194  0.45568902394384003 0.47457229428938685 0.16375231975136806 0.7  0.4392952303105221 0.6575569641722772] [0.5046414542745411 0.3928605824594049 0.7 0.2 0.42962652482178865 0.7  0.7 0.6813631643440314 0.7 0.6233059955154435 0.6181825629019165 0.7  0.4576049217974031 0.2 0.2 0.2718309830919259 0.7 0.4846096550274054  0.2882134804518698 0.3057475065524331 0.7 0.7 0.7 0.2  0.4576010403395654 0.7 0.3165227759214997 0.2 0.7 0.2 0.2 0.2  0.5659867329203278 0.45709020361408226 0.7 0.2 0.5820153669217056  0.29401386191319545 0.5667756703783484 0.7 0.69475157257288 0.7  0.4951697142877808 0.49706104053530464 0.7 0.7 0.5543506973873114  0.4423334463126142 0.2 0.7 0.7 0.3560086640713652 0.31168700497715374  0.7 0.4198946049211456 0.2 0.7 0.2 0.48228954528105183 0.7  0.36185441782201466 0.2 0.2 0.46028830246410213 0.7 0.2  0.6211422805566229 0.7 0.2 0.2390957477538278 0.5376314018446057 0.2  0.21962510116330447 0.43090511639911455 0.7 0.2 0.5108885063554913 0.7  0.7 0.7 0.30851969551100933 0.2 0.6070001765701227 0.2 0.2  0.22456191793170488 0.6283177637457072 0.7 0.7 0.3850477695199883  0.34068388023725293 0.2 0.2 0.6732481820376055 0.7 0.7  0.20545455829226156 0.5457531841172607 0.2 0.7] [0.44573669334808064 0.5589619084673249 0.7 0.7 0.3 0.7  0.49914199724012565 0.7 0.3996609343638525 0.3 0.3521594400857935 0.3  0.7 0.3 0.34673334322512694 0.3 0.46075099799284314 0.47101208513788473  0.44346164490178874 0.7 0.7 0.7 0.7 0.7 0.306286830138193 0.3  0.4373470086280601 0.6975273169557853 0.45239885169992977  0.655240475611071 0.7 0.47429757969194575 0.5137088030491683  0.5332996462907523 0.7 0.7 0.4175806546857155 0.3 0.3 0.7 0.3  0.5945671490287175 0.7 0.5805194176013123 0.3450179889068552 0.7  0.6981785122373696 0.48507948997209926 0.6054960357570075  0.6753198261705113 0.3 0.31108711199073236 0.7 0.5968547894182081  0.3444598758707951 0.6929749566501557 0.3 0.38263630360476997 0.3 0.3  0.7 0.3 0.7 0.3 0.3 0.5368006105571603 0.7 0.3 0.6685165765947431 0.7  0.6166909438907408 0.7 0.3 0.5548273950434098 0.4358343616995163 0.3  0.3682540560070563 0.4835040327305422 0.3 0.6355484838797006 0.3 0.3  0.3 0.4960489521515563 0.3 0.574644013620986 0.7 0.40810943897757845  0.5914668972572127 0.39308508319927815 0.7 0.3 0.6217293362546562 0.3  0.5255384019592075 0.4183144602723671 0.39411793369515724 0.7  0.46089402633782284 0.6403721859335975] [0.009410686092015008 0.6852923545559882 0.024653989509610286  0.545704991624427 0.6786502136123818 0.030442632026963512  0.21797663109673426 0.4439648149211647 0.48295416808501457  0.11798282291594397 0.6634385491261966 0.4975581579030507  0.4781489202095195 0.7 0.0206491838856957 0.7 0.40501680725393985 0.7  0.7 0.16101664829249474 0.7 0.43194276086122785 0.7 0.6160376868586019  0.20963746827471474 0.20666085365704623 0.7 0.7 0.41970028461301045  0.6352091287006901 0.17727843784478947 0.20583021781227195  0.6240830482342618 0.6278884461662146 0.06958692723180948  0.3925894778287484 0.07993917713149323 0.4958478572874484  0.10945736810112472 0.5810325028106725 0.027909500857985048  0.4344017254447683 0.40838572791249383 0.7 0.5686729905209043  0.1882967718213282 0.7 0.7 0.31218532734780813 0.5780776655333915  0.06838471884337105 0.6156329697192854 0.7 0.18183316631474522  0.6366416739912025 0.5524696648356628 0.3546488433949967 0.7  0.28231542508305574 0.6252161830352856 0.7 0.7 0.5245590392062219 0.7  0.3441804229648031 0.7 0.08705033300777232 0.3865894932994317  0.3618588955688333 0.7 0.27435103544824213 0.6111789156192446  0.12047604137213042 0.27413849364306864 0.7 0.7 0.7 0.22852408639768063  0.07421314004226176 0.5767898518550046 0.7 0.3144668447563784  0.490632520019759 0.5173706987494546 0.7 0.20129714926498832  0.21649354485013994 0.12196066099879166 0.4006293853539066 0.7  0.5456665053091984 0.521967353952988 0.6764999264609057  0.10813389975962795 0.7 0.7 0.7 0.3996176890326464 0.5099470150243488  0.7]] volt"
      ]
     },
     "execution_count": 70,
     "metadata": {},
     "output_type": "execute_result"
    }
   ],
   "source": [
    "aa.nanless"
   ]
  },
  {
   "cell_type": "code",
   "execution_count": 71,
   "metadata": {},
   "outputs": [],
   "source": [
    "a = np.random.random((6, 5, 4))\n",
    "imax = (np.array([0.4, 0.5, np.nan, 0.4]))[None, None]\n",
    "nnan = ~np.isnan(imax)"
   ]
  },
  {
   "cell_type": "code",
   "execution_count": 72,
   "metadata": {},
   "outputs": [
    {
     "data": {
      "text/plain": [
       "(array([0, 0, 0]), array([0, 0, 0]), array([0, 1, 3]))"
      ]
     },
     "execution_count": 72,
     "metadata": {},
     "output_type": "execute_result"
    }
   ],
   "source": [
    "np.where(nnan)"
   ]
  },
  {
   "cell_type": "code",
   "execution_count": 73,
   "metadata": {},
   "outputs": [
    {
     "data": {
      "text/plain": [
       "False"
      ]
     },
     "execution_count": 73,
     "metadata": {},
     "output_type": "execute_result"
    }
   ],
   "source": [
    "np.nan > 2"
   ]
  },
  {
   "cell_type": "code",
   "execution_count": 74,
   "metadata": {},
   "outputs": [
    {
     "name": "stderr",
     "output_type": "stream",
     "text": [
      "/Users/matthias.christenson/anaconda3/envs/dreye/lib/python3.7/site-packages/ipykernel_launcher.py:1: RuntimeWarning: invalid value encountered in greater\n",
      "  \"\"\"Entry point for launching an IPython kernel.\n"
     ]
    }
   ],
   "source": [
    "a[:] = np.where(nnan & (a > imax), imax, a)"
   ]
  },
  {
   "cell_type": "code",
   "execution_count": 75,
   "metadata": {},
   "outputs": [
    {
     "name": "stderr",
     "output_type": "stream",
     "text": [
      "/Users/matthias.christenson/anaconda3/envs/dreye/lib/python3.7/site-packages/ipykernel_launcher.py:1: RuntimeWarning: invalid value encountered in greater\n",
      "  \"\"\"Entry point for launching an IPython kernel.\n"
     ]
    }
   ],
   "source": [
    "a[...] = np.where(nnan & (a > imax), imax, a)"
   ]
  },
  {
   "cell_type": "code",
   "execution_count": 77,
   "metadata": {},
   "outputs": [],
   "source": [
    "import warnings"
   ]
  },
  {
   "cell_type": "code",
   "execution_count": 78,
   "metadata": {},
   "outputs": [],
   "source": [
    "with warnings.catch_warnings():\n",
    "    np.warnings.filterwarnings('ignore')\n",
    "    np.where(nnan & (a > imax), imax, a)"
   ]
  },
  {
   "cell_type": "code",
   "execution_count": 79,
   "metadata": {},
   "outputs": [],
   "source": [
    "from dreye import create_gaussian_spectrum"
   ]
  },
  {
   "cell_type": "code",
   "execution_count": 80,
   "metadata": {},
   "outputs": [],
   "source": [
    "gaussians = create_gaussian_spectrum(\n",
    "    np.arange(300, 700) ,\n",
    "    np.array([320, 340, 450, 550]), \n",
    ")"
   ]
  },
  {
   "cell_type": "code",
   "execution_count": 81,
   "metadata": {},
   "outputs": [],
   "source": [
    "g2 = IntensitySpectra(\n",
    "    gaussians, \n",
    "    signal_min=np.array([0.05, 0.05, 0.04, np.nan])\n",
    ")"
   ]
  },
  {
   "cell_type": "code",
   "execution_count": 82,
   "metadata": {},
   "outputs": [
    {
     "data": {
      "text/plain": [
       "array([[0.05, 0.05, 0.05, ..., 0.05, 0.05, 0.05],\n",
       "       [0.05, 0.05, 0.05, ..., 0.05, 0.05, 0.05],\n",
       "       [0.04, 0.04, 0.04, ..., 0.04, 0.04, 0.04],\n",
       "       [ nan,  nan,  nan, ...,  nan,  nan,  nan]])"
      ]
     },
     "execution_count": 82,
     "metadata": {},
     "output_type": "execute_result"
    }
   ],
   "source": [
    "g2.T.signal_min"
   ]
  },
  {
   "cell_type": "code",
   "execution_count": 83,
   "metadata": {},
   "outputs": [
    {
     "data": {
      "text/html": [
       "\\[microspectral\\_E\\_Q\\]"
      ],
      "text/latex": [
       "$\\mathrm{microspectral\\_E\\_Q}$"
      ],
      "text/plain": [
       "<Unit('microspectral_E_Q')>"
      ]
     },
     "execution_count": 83,
     "metadata": {},
     "output_type": "execute_result"
    }
   ],
   "source": [
    "g2.units"
   ]
  },
  {
   "cell_type": "code",
   "execution_count": 84,
   "metadata": {},
   "outputs": [
    {
     "data": {
      "text/plain": [
       "0"
      ]
     },
     "execution_count": 84,
     "metadata": {},
     "output_type": "execute_result"
    }
   ],
   "source": [
    "g2.domain_axis"
   ]
  },
  {
   "cell_type": "code",
   "execution_count": 85,
   "metadata": {},
   "outputs": [
    {
     "data": {
      "text/plain": [
       "(400, 4)"
      ]
     },
     "execution_count": 85,
     "metadata": {},
     "output_type": "execute_result"
    }
   ],
   "source": [
    "g2.to('irradiance').signal_min.shape"
   ]
  },
  {
   "cell_type": "code",
   "execution_count": 86,
   "metadata": {},
   "outputs": [],
   "source": [
    "g2.domain_axis = 1"
   ]
  },
  {
   "cell_type": "code",
   "execution_count": 87,
   "metadata": {},
   "outputs": [
    {
     "data": {
      "text/plain": [
       "dreye.core.spectrum.IntensitySpectra"
      ]
     },
     "execution_count": 87,
     "metadata": {},
     "output_type": "execute_result"
    }
   ],
   "source": [
    "type(g2)"
   ]
  },
  {
   "cell_type": "code",
   "execution_count": 88,
   "metadata": {},
   "outputs": [
    {
     "data": {
      "text/plain": [
       "[[0.019937760939782837 0.01987152253134502 0.019805722787863744 ...  0.0085815326857028 0.008569238226267695 0.008556978944112805] [0.019937760939782837 0.01987152253134502 0.019805722787863744 ...  0.0085815326857028 0.008569238226267695 0.008556978944112805] [0.01595020875182627 0.015897218025076015 0.015844578230290996 ...  0.006865226148562239 0.006855390581014156 0.006845583155290245] [3.052044426692498e-138 3.6873158698270594e-137 4.4105391631035155e-136  ... 8.168788000532807e-50 1.8661674920116132e-50 4.2208659644407185e-51]] irradiance"
      ]
     },
     "execution_count": 88,
     "metadata": {},
     "output_type": "execute_result"
    }
   ],
   "source": [
    "g2.to('irradiance')"
   ]
  },
  {
   "cell_type": "code",
   "execution_count": 89,
   "metadata": {},
   "outputs": [
    {
     "data": {
      "text/plain": [
       "<seaborn.axisgrid.FacetGrid at 0x1a20014650>"
      ]
     },
     "execution_count": 89,
     "metadata": {},
     "output_type": "execute_result"
    },
    {
     "data": {
      "image/png": "[encoded data removed]",
      "text/plain": [
       "<Figure size 425.5x360 with 1 Axes>"
      ]
     },
     "metadata": {
      "needs_background": "light"
     },
     "output_type": "display_data"
    }
   ],
   "source": [
    "gaussians.plot()"
   ]
  },
  {
   "cell_type": "code",
   "execution_count": 94,
   "metadata": {},
   "outputs": [
    {
     "data": {
      "text/plain": [
       "dreye.core.spectrum.IntensitySpectra"
      ]
     },
     "execution_count": 94,
     "metadata": {},
     "output_type": "execute_result"
    }
   ],
   "source": [
    "type(gaussians.to('irradiance'))"
   ]
  },
  {
   "cell_type": "code",
   "execution_count": 106,
   "metadata": {},
   "outputs": [
    {
     "data": {
      "text/plain": [
       "'microspectral_E_Q'"
      ]
     },
     "execution_count": 106,
     "metadata": {},
     "output_type": "execute_result"
    }
   ],
   "source": [
    "gaussians.units.format_babel()"
   ]
  },
  {
   "cell_type": "code",
   "execution_count": 95,
   "metadata": {},
   "outputs": [
    {
     "data": {
      "text/plain": [
       "<seaborn.axisgrid.FacetGrid at 0x1a201d0a10>"
      ]
     },
     "execution_count": 95,
     "metadata": {},
     "output_type": "execute_result"
    },
    {
     "data": {
      "image/png": "[encoded data removed]",
      "text/plain": [
       "<Figure size 425.5x360 with 1 Axes>"
      ]
     },
     "metadata": {
      "needs_background": "light"
     },
     "output_type": "display_data"
    }
   ],
   "source": [
    "gaussians.to('photonflux').plot()"
   ]
  },
  {
   "cell_type": "code",
   "execution_count": null,
   "metadata": {},
   "outputs": [],
   "source": []
  },
  {
   "cell_type": "code",
   "execution_count": 82,
   "metadata": {},
   "outputs": [],
   "source": [
    "from dreye.constants import ureg"
   ]
  },
  {
   "cell_type": "code",
   "execution_count": 56,
   "metadata": {},
   "outputs": [
    {
     "data": {
      "text/html": [
       "\\[1\\ microjoule\\]"
      ],
      "text/latex": [
       "$1\\ \\mathrm{microjoule}$"
      ],
      "text/plain": [
       "1 <Unit('microjoule')>"
      ]
     },
     "execution_count": 56,
     "metadata": {},
     "output_type": "execute_result"
    }
   ],
   "source": [
    "ureg('uJ')"
   ]
  },
  {
   "cell_type": "code",
   "execution_count": 10,
   "metadata": {},
   "outputs": [
    {
     "data": {
      "text/plain": [
       "[[2.15291797e-003 5.33655010e-006 2.20539930e-051 3.05204443e-138] [2.60777228e-003 7.89517336e-006 9.80194455e-051 3.68731587e-137] [3.12732990e-003 1.15644398e-005 4.31319507e-050 4.41053917e-136] ... [1.60806215e-311 1.21204237e-279 2.27062121e-135 8.16878800e-050] [3.68314246e-313 3.39072357e-281 1.90828485e-136 1.86616749e-050] [8.35203229e-315 9.39128270e-283 1.58781413e-137 4.22086597e-051]] spectral_irradiance"
      ]
     },
     "execution_count": 10,
     "metadata": {},
     "output_type": "execute_result"
    }
   ],
   "source": [
    "gaussians.to(ureg('spectralirradiance'))"
   ]
  },
  {
   "cell_type": "code",
   "execution_count": 9,
   "metadata": {},
   "outputs": [],
   "source": [
    "import pint"
   ]
  },
  {
   "cell_type": "code",
   "execution_count": 10,
   "metadata": {},
   "outputs": [
    {
     "data": {
      "text/plain": [
       "'0.9'"
      ]
     },
     "execution_count": 10,
     "metadata": {},
     "output_type": "execute_result"
    }
   ],
   "source": [
    "pint.__version__"
   ]
  },
  {
   "cell_type": "code",
   "execution_count": null,
   "metadata": {},
   "outputs": [],
   "source": []
  }
 ],
 "metadata": {
  "kernelspec": {
   "display_name": "Python 3",
   "language": "python",
   "name": "python3"
  },
  "language_info": {
   "codemirror_mode": {
    "name": "ipython",
    "version": 3
   },
   "file_extension": ".py",
   "mimetype": "text/x-python",
   "name": "python",
   "nbconvert_exporter": "python",
   "pygments_lexer": "ipython3",
   "version": "3.7.4"
  },
  "widgets": {
   "application/vnd.jupyter.widget-state+json": {
    "state": {},
    "version_major": 2,
    "version_minor": 0
   }
  }
 },
 "nbformat": 4,
 "nbformat_minor": 4
}
