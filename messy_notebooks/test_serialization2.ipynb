{
 "cells": [
  {
   "cell_type": "code",
   "execution_count": 1,
   "metadata": {},
   "outputs": [],
   "source": [
    "from functions import mymodule\n",
    "import numpy as np"
   ]
  },
  {
   "cell_type": "code",
   "execution_count": 2,
   "metadata": {},
   "outputs": [],
   "source": [
    "from dreye.io import read_json, write_json, read_pickle, write_pickle"
   ]
  },
  {
   "cell_type": "code",
   "execution_count": 3,
   "metadata": {},
   "outputs": [],
   "source": [
    "a = mymodule.MyClass(np.random.random((5,5)), np.random.random((5,5)), np.random.random((5,5)))"
   ]
  },
  {
   "cell_type": "code",
   "execution_count": 4,
   "metadata": {},
   "outputs": [
    {
     "name": "stdout",
     "output_type": "stream",
     "text": [
      "\n",
      "    type: <class 'functions.mymodule.MyClass'>\n",
      "    data: {'a': array([[0.3076017 , 0.21079664, 0.48898916, 0.50714433, 0.79415885],\n",
      "       [0.63467197, 0.4418403 , 0.89925755, 0.08897987, 0.6617258 ],\n",
      "       [0.30828419, 0.11327813, 0.5316933 , 0.07956426, 0.56063561],\n",
      "       [0.16954654, 0.43388321, 0.50947698, 0.35330646, 0.22159123],\n",
      "       [0.40890742, 0.52756463, 0.44886502, 0.63669639, 0.80378426]]), 'b': array([[0.18266681, 0.09810671, 0.6094306 , 0.59527167, 0.37787701],\n",
      "       [0.12775878, 0.60147087, 0.58492676, 0.23914444, 0.92380089],\n",
      "       [0.15251043, 0.7490953 , 0.99301963, 0.90258771, 0.89224317],\n",
      "       [0.66879043, 0.93873344, 0.00323544, 0.31685178, 0.84493304],\n",
      "       [0.5648021 , 0.85866981, 0.85239861, 0.39700097, 0.14445617]]), 'c': array([[0.4546838 , 0.20578559, 0.606547  , 0.70948679, 0.2136004 ],\n",
      "       [0.85036993, 0.98781916, 0.90938987, 0.7839277 , 0.91122833],\n",
      "       [0.74010008, 0.10166443, 0.4152412 , 0.61858798, 0.66678444],\n",
      "       [0.75483742, 0.38792057, 0.18242133, 0.8692807 , 0.15376974],\n",
      "       [0.04713819, 0.32686077, 0.47328443, 0.31595915, 0.76057272]])}\n",
      "    \n"
     ]
    }
   ],
   "source": [
    "print(a)"
   ]
  },
  {
   "cell_type": "code",
   "execution_count": 5,
   "metadata": {},
   "outputs": [
    {
     "data": {
      "text/plain": [
       "0.10613604200870476"
      ]
     },
     "execution_count": 5,
     "metadata": {},
     "output_type": "execute_result"
    }
   ],
   "source": [
    "a.mycalc()"
   ]
  },
  {
   "cell_type": "code",
   "execution_count": 6,
   "metadata": {},
   "outputs": [],
   "source": [
    "write_json('someother/data.json', a)"
   ]
  },
  {
   "cell_type": "code",
   "execution_count": 7,
   "metadata": {},
   "outputs": [],
   "source": [
    "b = read_json('someother/data.json')"
   ]
  },
  {
   "cell_type": "code",
   "execution_count": 8,
   "metadata": {},
   "outputs": [
    {
     "name": "stdout",
     "output_type": "stream",
     "text": [
      "\n",
      "    type: <class 'functions.mymodule.MyClass'>\n",
      "    data: {'a': array([[0.3076017 , 0.21079664, 0.48898916, 0.50714433, 0.79415885],\n",
      "       [0.63467197, 0.4418403 , 0.89925755, 0.08897987, 0.6617258 ],\n",
      "       [0.30828419, 0.11327813, 0.5316933 , 0.07956426, 0.56063561],\n",
      "       [0.16954654, 0.43388321, 0.50947698, 0.35330646, 0.22159123],\n",
      "       [0.40890742, 0.52756463, 0.44886502, 0.63669639, 0.80378426]]), 'b': array([[0.18266681, 0.09810671, 0.6094306 , 0.59527167, 0.37787701],\n",
      "       [0.12775878, 0.60147087, 0.58492676, 0.23914444, 0.92380089],\n",
      "       [0.15251043, 0.7490953 , 0.99301963, 0.90258771, 0.89224317],\n",
      "       [0.66879043, 0.93873344, 0.00323544, 0.31685178, 0.84493304],\n",
      "       [0.5648021 , 0.85866981, 0.85239861, 0.39700097, 0.14445617]]), 'c': array([[0.4546838 , 0.20578559, 0.606547  , 0.70948679, 0.2136004 ],\n",
      "       [0.85036993, 0.98781916, 0.90938987, 0.7839277 , 0.91122833],\n",
      "       [0.74010008, 0.10166443, 0.4152412 , 0.61858798, 0.66678444],\n",
      "       [0.75483742, 0.38792057, 0.18242133, 0.8692807 , 0.15376974],\n",
      "       [0.04713819, 0.32686077, 0.47328443, 0.31595915, 0.76057272]])}\n",
      "    \n"
     ]
    }
   ],
   "source": [
    "print(b)"
   ]
  },
  {
   "cell_type": "code",
   "execution_count": 9,
   "metadata": {},
   "outputs": [
    {
     "data": {
      "text/plain": [
       "0.10613604200870476"
      ]
     },
     "execution_count": 9,
     "metadata": {},
     "output_type": "execute_result"
    }
   ],
   "source": [
    "b.mycalc()"
   ]
  },
  {
   "cell_type": "code",
   "execution_count": 10,
   "metadata": {},
   "outputs": [],
   "source": [
    "write_pickle('someother/data.pkl', a)"
   ]
  },
  {
   "cell_type": "code",
   "execution_count": 11,
   "metadata": {},
   "outputs": [],
   "source": [
    "c = read_pickle('someother/data.pkl')"
   ]
  },
  {
   "cell_type": "code",
   "execution_count": 12,
   "metadata": {},
   "outputs": [
    {
     "name": "stdout",
     "output_type": "stream",
     "text": [
      "\n",
      "    type: <class 'functions.mymodule.MyClass'>\n",
      "    data: {'a': array([[0.3076017 , 0.21079664, 0.48898916, 0.50714433, 0.79415885],\n",
      "       [0.63467197, 0.4418403 , 0.89925755, 0.08897987, 0.6617258 ],\n",
      "       [0.30828419, 0.11327813, 0.5316933 , 0.07956426, 0.56063561],\n",
      "       [0.16954654, 0.43388321, 0.50947698, 0.35330646, 0.22159123],\n",
      "       [0.40890742, 0.52756463, 0.44886502, 0.63669639, 0.80378426]]), 'b': array([[0.18266681, 0.09810671, 0.6094306 , 0.59527167, 0.37787701],\n",
      "       [0.12775878, 0.60147087, 0.58492676, 0.23914444, 0.92380089],\n",
      "       [0.15251043, 0.7490953 , 0.99301963, 0.90258771, 0.89224317],\n",
      "       [0.66879043, 0.93873344, 0.00323544, 0.31685178, 0.84493304],\n",
      "       [0.5648021 , 0.85866981, 0.85239861, 0.39700097, 0.14445617]]), 'c': array([[0.4546838 , 0.20578559, 0.606547  , 0.70948679, 0.2136004 ],\n",
      "       [0.85036993, 0.98781916, 0.90938987, 0.7839277 , 0.91122833],\n",
      "       [0.74010008, 0.10166443, 0.4152412 , 0.61858798, 0.66678444],\n",
      "       [0.75483742, 0.38792057, 0.18242133, 0.8692807 , 0.15376974],\n",
      "       [0.04713819, 0.32686077, 0.47328443, 0.31595915, 0.76057272]])}\n",
      "    \n"
     ]
    }
   ],
   "source": [
    "print(c)"
   ]
  },
  {
   "cell_type": "code",
   "execution_count": null,
   "metadata": {},
   "outputs": [],
   "source": []
  }
 ],
 "metadata": {
  "kernelspec": {
   "display_name": "Python 3",
   "language": "python",
   "name": "python3"
  },
  "language_info": {
   "codemirror_mode": {
    "name": "ipython",
    "version": 3
   },
   "file_extension": ".py",
   "mimetype": "text/x-python",
   "name": "python",
   "nbconvert_exporter": "python",
   "pygments_lexer": "ipython3",
   "version": "3.7.4"
  },
  "widgets": {
   "application/vnd.jupyter.widget-state+json": {
    "state": {},
    "version_major": 2,
    "version_minor": 0
   }
  }
 },
 "nbformat": 4,
 "nbformat_minor": 4
}
