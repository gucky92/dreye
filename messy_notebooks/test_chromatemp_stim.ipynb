{
 "cells": [
  {
   "cell_type": "code",
   "execution_count": null,
   "metadata": {},
   "outputs": [],
   "source": [
    "from dreye.core import Spectrum, SpectrumMeasurement, \\\n",
    "    MeasuredSpectrum, convert_measurement, CalibrationSpectrum, \\\n",
    "    AbstractSpectrum, Signal, Domain\n",
    "from dreye.core import LogPhotoreceptor, \\\n",
    "    RelativeOpsinSensitivity, Spectrum, Domain\n",
    "from dreye.stimuli.tempochromatic.noise import PRWhiteNoiseStimulus, \\\n",
    "    PRBrownNoiseStimulus, TransformWhiteNoiseStimulus, \\\n",
    "    TransformBrownNoiseStimulus, IlluminantWhiteNoiseStimulus, \\\n",
    "    IlluminantBgWhiteNoiseStimulus\n",
    "from scipy.stats import norm\n",
    "import numpy as np\n",
    "import matplotlib.pyplot as plt\n",
    "from dreye.core import create_gaussian_spectrum\n",
    "np.random.seed(10)"
   ]
  },
  {
   "cell_type": "code",
   "execution_count": null,
   "metadata": {},
   "outputs": [],
   "source": [
    "wl = np.arange(300, 600)\n",
    "s = norm.pdf(wl, 450, 10)\n",
    "s /= np.sum(s)\n",
    "noise = 0.01\n",
    "s_noise = s + np.random.normal(0, noise, size=s.shape)\n",
    "ops = norm.pdf(wl, 433, 40)"
   ]
  },
  {
   "cell_type": "code",
   "execution_count": null,
   "metadata": {},
   "outputs": [],
   "source": [
    "opsin2 = RelativeOpsinSensitivity(\n",
    "    norm.pdf(wl[:,None], asarray([[330, 450, 560]]), 40),\n",
    "    domain=wl, \n",
    ")"
   ]
  },
  {
   "cell_type": "code",
   "execution_count": null,
   "metadata": {},
   "outputs": [],
   "source": [
    "plt.plot(wl, opsin2)"
   ]
  },
  {
   "cell_type": "code",
   "execution_count": null,
   "metadata": {},
   "outputs": [],
   "source": [
    "pr = LogPhotoreceptor(opsin2)\n",
    "cal = CalibrationSpectrum(\n",
    "    np.ones(wl.shape), \n",
    "    wl, \n",
    "    area=1\n",
    ")"
   ]
  },
  {
   "cell_type": "code",
   "execution_count": null,
   "metadata": {},
   "outputs": [],
   "source": [
    "pr.sensitivity.labels"
   ]
  },
  {
   "cell_type": "code",
   "execution_count": null,
   "metadata": {},
   "outputs": [],
   "source": [
    "for idx, led in enumerate([300, 360, 400, 500]):\n",
    "    \n",
    "    s2 = norm.pdf(wl, led, 20)\n",
    "    if idx % 2:\n",
    "        mess = convert_measurement(\n",
    "            AbstractSpectrum(\n",
    "                10 * s2 + np.random.normal(0, noise, size=s.shape), \n",
    "                wl\n",
    "            ), cal, 1\n",
    "        ).uE\n",
    "    else:\n",
    "        mess = convert_measurement(\n",
    "            AbstractSpectrum(\n",
    "                s2 + np.random.normal(0, noise, size=s.shape), \n",
    "                wl\n",
    "            ), cal, 1\n",
    "        ).uE\n",
    "\n",
    "    for i in np.arange(2, 10)[::asarray([1, -1])[idx % 2]]:\n",
    "        m = convert_measurement(\n",
    "            AbstractSpectrum(\n",
    "                i * s2 + np.random.normal(0, noise, size=s.shape), \n",
    "                wl\n",
    "            ),\n",
    "            cal, 1\n",
    "        ).irradiance\n",
    "\n",
    "        mess = mess.concat(\n",
    "            m, \n",
    "        )\n",
    "\n",
    "    ms = MeasuredSpectrum(\n",
    "        mess,\n",
    "        labels=Domain(np.arange(1, 10), units='volts'), \n",
    "        smoothing_window=25, \n",
    "    ).to_spectrum_measurement(\n",
    "        name=f'LED{led}',\n",
    "        zero_boundary=asarray([0, 10])[idx % 2], \n",
    "        max_boundary=asarray([10, 0])[idx % 2]\n",
    "        #zero_is_lower=not bool(idx%2)\n",
    "    )\n",
    "    \n",
    "        \n",
    "    if idx == 0:\n",
    "        mss = ms\n",
    "    else:\n",
    "        mss = mss.concat(ms)"
   ]
  },
  {
   "cell_type": "code",
   "execution_count": null,
   "metadata": {},
   "outputs": [],
   "source": [
    "ms.max_boundary, ms.zero_boundary"
   ]
  },
  {
   "cell_type": "code",
   "execution_count": null,
   "metadata": {},
   "outputs": [],
   "source": [
    "ms.labels._zero_is_lower"
   ]
  },
  {
   "cell_type": "code",
   "execution_count": null,
   "metadata": {},
   "outputs": [],
   "source": [
    "mss.zero_is_lower"
   ]
  },
  {
   "cell_type": "code",
   "execution_count": null,
   "metadata": {},
   "outputs": [],
   "source": [
    "mss.save('test_spms.json')"
   ]
  },
  {
   "cell_type": "code",
   "execution_count": null,
   "metadata": {},
   "outputs": [],
   "source": [
    "mss2 = mss.load('test_spms.json')"
   ]
  },
  {
   "cell_type": "code",
   "execution_count": null,
   "metadata": {},
   "outputs": [],
   "source": [
    "mss2.label_names"
   ]
  },
  {
   "cell_type": "code",
   "execution_count": null,
   "metadata": {},
   "outputs": [],
   "source": [
    "mss.max_boundary"
   ]
  },
  {
   "cell_type": "code",
   "execution_count": null,
   "metadata": {},
   "outputs": [],
   "source": [
    "mss.zero_is_lower"
   ]
  },
  {
   "cell_type": "code",
   "execution_count": null,
   "metadata": {},
   "outputs": [],
   "source": [
    "mss.label_names"
   ]
  },
  {
   "cell_type": "code",
   "execution_count": null,
   "metadata": {},
   "outputs": [],
   "source": [
    "plt.plot(mss.domain, mss)"
   ]
  },
  {
   "cell_type": "code",
   "execution_count": null,
   "metadata": {},
   "outputs": [],
   "source": [
    "plt.plot(mss.normalized_spectrum)"
   ]
  },
  {
   "cell_type": "code",
   "execution_count": null,
   "metadata": {},
   "outputs": [],
   "source": [
    "from scipy.stats import norm\n",
    "plt.plot(norm.pdf(np.arange(-1, 1, 0.1)))"
   ]
  },
  {
   "cell_type": "code",
   "execution_count": null,
   "metadata": {},
   "outputs": [],
   "source": [
    "gaussians = create_gaussian_spectrum(\n",
    "    wl, \n",
    "    [340, 440, 540], \n",
    "    intensity=1, \n",
    "    background=np.ones(wl.shape)/10000, \n",
    "    add_background=True, \n",
    "    cdf=False,\n",
    "    filter=True,\n",
    ")"
   ]
  },
  {
   "cell_type": "code",
   "execution_count": null,
   "metadata": {},
   "outputs": [],
   "source": [
    "plt.plot(gaussians)"
   ]
  },
  {
   "cell_type": "code",
   "execution_count": null,
   "metadata": {},
   "outputs": [],
   "source": [
    "background = Spectrum(gaussians[:, 2]/1, wl)"
   ]
  },
  {
   "cell_type": "code",
   "execution_count": null,
   "metadata": {},
   "outputs": [],
   "source": [
    "plt.plot(background)"
   ]
  },
  {
   "cell_type": "code",
   "execution_count": null,
   "metadata": {},
   "outputs": [],
   "source": [
    "pr.get_A(\n",
    "    mss, \n",
    "    background, \n",
    "    False\n",
    ")"
   ]
  },
  {
   "cell_type": "code",
   "execution_count": null,
   "metadata": {},
   "outputs": [],
   "source": [
    "pr.get_qs(\n",
    "    mss, \n",
    "    gaussians, \n",
    "    background=background, \n",
    "    units=False, \n",
    "    return_A=False\n",
    ")"
   ]
  },
  {
   "cell_type": "code",
   "execution_count": null,
   "metadata": {},
   "outputs": [],
   "source": [
    "output, res = pr.fit(\n",
    "    mss, \n",
    "    gaussians, \n",
    "    background=background, \n",
    "    return_res=True\n",
    ")"
   ]
  },
  {
   "cell_type": "code",
   "execution_count": null,
   "metadata": {},
   "outputs": [],
   "source": [
    "plt.plot(output.T)"
   ]
  },
  {
   "cell_type": "code",
   "execution_count": null,
   "metadata": {},
   "outputs": [],
   "source": [
    "wn = PRWhiteNoiseStimulus(\n",
    "    pr, \n",
    "    mss, \n",
    "    background,\n",
    "    rate=60, \n",
    "    n_channels=3, \n",
    "    mean=0, \n",
    "    var=asarray([0.01,0.02,0.1]), \n",
    "    minimum=-100, \n",
    "    maximum=100, \n",
    "    iterations=2, \n",
    "    start_delay=1, \n",
    "    end_dur=1, \n",
    "    pause_dur=1, \n",
    "    seed=10, \n",
    "    filter_style='window', \n",
    "    filter_function='exponential', \n",
    "    filter_along_axis=0, \n",
    "    filter_kwargs={'M':5, 'tau':2.5}\n",
    ")"
   ]
  },
  {
   "cell_type": "code",
   "execution_count": null,
   "metadata": {},
   "outputs": [],
   "source": [
    "wn.create()"
   ]
  },
  {
   "cell_type": "code",
   "execution_count": null,
   "metadata": {},
   "outputs": [],
   "source": [
    "plt.plot(wn.metadata['channel_weights'])"
   ]
  },
  {
   "cell_type": "code",
   "execution_count": null,
   "metadata": {},
   "outputs": [],
   "source": [
    "plt.plot(wn.metadata['target_signal'][:, 1])\n",
    "plt.plot(wn.signal[:, 1])"
   ]
  },
  {
   "cell_type": "code",
   "execution_count": null,
   "metadata": {},
   "outputs": [],
   "source": [
    "plt.plot(wn.metadata['random_signal'])"
   ]
  },
  {
   "cell_type": "code",
   "execution_count": null,
   "metadata": {},
   "outputs": [],
   "source": [
    "plt.plot(wn.metadata['random_signal'])"
   ]
  },
  {
   "cell_type": "code",
   "execution_count": null,
   "metadata": {},
   "outputs": [],
   "source": [
    "wn.transform()"
   ]
  },
  {
   "cell_type": "code",
   "execution_count": null,
   "metadata": {},
   "outputs": [],
   "source": [
    "wn.stimulus"
   ]
  },
  {
   "cell_type": "code",
   "execution_count": null,
   "metadata": {},
   "outputs": [],
   "source": [
    "plt.plot(wn.stimulus)"
   ]
  },
  {
   "cell_type": "code",
   "execution_count": null,
   "metadata": {},
   "outputs": [],
   "source": [
    "wn = TransformWhiteNoiseStimulus(\n",
    "    np.ones(3)[:, None], \n",
    "    pr, \n",
    "    mss, \n",
    "    background,\n",
    "    rate=60, \n",
    "    n_channels=1, \n",
    "    mean=0, \n",
    "    var=0.1, \n",
    "    minimum=-100, \n",
    "    maximum=100, \n",
    "    iterations=2, \n",
    "    start_delay=2, \n",
    "    end_dur=2, \n",
    "    pause_dur=2, \n",
    "    seed=10, \n",
    "    filter_style='window', \n",
    "    filter_function='exponential', \n",
    "    filter_along_axis=0, \n",
    "    filter_kwargs={'M':61, 'tau':20}\n",
    ")"
   ]
  },
  {
   "cell_type": "code",
   "execution_count": null,
   "metadata": {},
   "outputs": [],
   "source": [
    "wn.create()"
   ]
  },
  {
   "cell_type": "code",
   "execution_count": null,
   "metadata": {},
   "outputs": [],
   "source": [
    "plt.plot(wn.metadata['channel_weights'])"
   ]
  },
  {
   "cell_type": "code",
   "execution_count": null,
   "metadata": {},
   "outputs": [],
   "source": [
    "plt.plot(wn.metadata['target_signal'], color='black')\n",
    "plt.plot(wn.signal)"
   ]
  },
  {
   "cell_type": "code",
   "execution_count": null,
   "metadata": {},
   "outputs": [],
   "source": [
    "plt.plot(wn.metadata['res_signal'])"
   ]
  },
  {
   "cell_type": "code",
   "execution_count": null,
   "metadata": {},
   "outputs": [],
   "source": [
    "plt.plot(wn.metadata['lineartransform_target_signal'])\n",
    "plt.plot(wn.metadata['lineartransform_signal'])"
   ]
  },
  {
   "cell_type": "code",
   "execution_count": null,
   "metadata": {},
   "outputs": [],
   "source": [
    "plt.plot(wn.stimulus[:, 0])"
   ]
  },
  {
   "cell_type": "code",
   "execution_count": null,
   "metadata": {},
   "outputs": [],
   "source": [
    "gaussians2 = create_gaussian_spectrum(\n",
    "    wl, \n",
    "    [500, 300], \n",
    "    intensity=0.5, \n",
    "    background=np.ones(wl.shape), \n",
    "    add_background=True, \n",
    "    cdf=None,\n",
    "    filter=True,\n",
    ")"
   ]
  },
  {
   "cell_type": "code",
   "execution_count": null,
   "metadata": {},
   "outputs": [],
   "source": [
    "plt.plot(gaussians2)"
   ]
  },
  {
   "cell_type": "code",
   "execution_count": null,
   "metadata": {},
   "outputs": [],
   "source": [
    "wn = IlluminantWhiteNoiseStimulus(\n",
    "    gaussians2/500, \n",
    "    pr, \n",
    "    mss, \n",
    "    background,\n",
    "    rate=60, \n",
    "    n_channels=2, \n",
    "    mean=0, \n",
    "    var=[0.1, 0.5], \n",
    "    minimum=-100, \n",
    "    maximum=100, \n",
    "    iterations=2, \n",
    "    start_delay=2, \n",
    "    end_dur=2, \n",
    "    pause_dur=2, \n",
    "    seed=10, \n",
    "    filter_style='window', \n",
    "    filter_function='exponential', \n",
    "    filter_along_axis=0, \n",
    "    filter_kwargs={'M':61, 'tau':20}\n",
    ")"
   ]
  },
  {
   "cell_type": "code",
   "execution_count": null,
   "metadata": {},
   "outputs": [],
   "source": [
    "wn.linear_transform"
   ]
  },
  {
   "cell_type": "code",
   "execution_count": null,
   "metadata": {},
   "outputs": [],
   "source": [
    "wn.create()"
   ]
  },
  {
   "cell_type": "code",
   "execution_count": null,
   "metadata": {},
   "outputs": [],
   "source": [
    "plt.plot(wn.metadata['target_signal'][:, 1])\n",
    "plt.plot(wn.signal[:, 1])"
   ]
  },
  {
   "cell_type": "code",
   "execution_count": null,
   "metadata": {},
   "outputs": [],
   "source": [
    "plt.plot(wn.metadata['lineartransform_target_signal'])"
   ]
  },
  {
   "cell_type": "code",
   "execution_count": null,
   "metadata": {},
   "outputs": [],
   "source": [
    "wn = IlluminantBgWhiteNoiseStimulus(\n",
    "    gaussians2, \n",
    "    pr, \n",
    "    mss, \n",
    "    background,\n",
    "    rate=60, \n",
    "    n_channels=2, \n",
    "    mean=0, \n",
    "    var=[0.1, 0.5], \n",
    "    minimum=None, \n",
    "    maximum=None, \n",
    "    iterations=2, \n",
    "    start_delay=2, \n",
    "    end_dur=2, \n",
    "    pause_dur=2, \n",
    "    seed=10, \n",
    "    filter_style='window', \n",
    "    filter_function='exponential', \n",
    "    filter_along_axis=0, \n",
    "    filter_kwargs={'M':61, 'tau':20}, \n",
    "    bg_func=lambda x, bg: (x * bg) + bg\n",
    ")"
   ]
  },
  {
   "cell_type": "code",
   "execution_count": null,
   "metadata": {},
   "outputs": [],
   "source": [
    "wn.create()"
   ]
  },
  {
   "cell_type": "code",
   "execution_count": null,
   "metadata": {},
   "outputs": [],
   "source": [
    "plt.plot(wn.signal)\n",
    "plt.plot(wn.metadata['target_signal'])"
   ]
  },
  {
   "cell_type": "code",
   "execution_count": null,
   "metadata": {},
   "outputs": [],
   "source": [
    "plt.plot(wn.metadata['original_signal'])"
   ]
  },
  {
   "cell_type": "code",
   "execution_count": null,
   "metadata": {},
   "outputs": [],
   "source": [
    "plt.plot(wn.metadata['res_signal'])"
   ]
  },
  {
   "cell_type": "code",
   "execution_count": null,
   "metadata": {},
   "outputs": [],
   "source": [
    "wn.events"
   ]
  },
  {
   "cell_type": "code",
   "execution_count": null,
   "metadata": {},
   "outputs": [],
   "source": [
    "from dreye.stimuli.tempochromatic.step import (\n",
    "    PRStepStimulus, TransformStepStimulus\n",
    ")"
   ]
  },
  {
   "cell_type": "code",
   "execution_count": null,
   "metadata": {},
   "outputs": [],
   "source": [
    "step = PRStepStimulus(\n",
    "    photoreceptor=pr, \n",
    "    spectrum_measurement=mss, \n",
    "    background=background,\n",
    "    values={\n",
    "        'rh3': [0.2, 0.4, 0.3], \n",
    "        'rh4': [0.4, 0.2, 0.1], \n",
    "        'rh5': [0.2, 0.1, 0.3]\n",
    "    }, \n",
    "    separate_channels=True, \n",
    "    repetitions=3, \n",
    "    iterations=3, \n",
    "    rate=60., \n",
    "    durations=[3, 3], \n",
    "    pause_durations=[2, 3], \n",
    "    randomize=True, \n",
    "    start_delay=1, \n",
    "    end_dur=1\n",
    ")"
   ]
  },
  {
   "cell_type": "code",
   "execution_count": null,
   "metadata": {},
   "outputs": [],
   "source": [
    "step.create()"
   ]
  },
  {
   "cell_type": "code",
   "execution_count": null,
   "metadata": {},
   "outputs": [],
   "source": [
    "plt.plot(step.timestamps, step.signal)"
   ]
  },
  {
   "cell_type": "code",
   "execution_count": null,
   "metadata": {},
   "outputs": [],
   "source": [
    "plt.plot(step.metadata['target_signal'])"
   ]
  },
  {
   "cell_type": "code",
   "execution_count": null,
   "metadata": {},
   "outputs": [],
   "source": [
    "plt.plot(step.metadata['res_signal'])"
   ]
  },
  {
   "cell_type": "code",
   "execution_count": null,
   "metadata": {},
   "outputs": [],
   "source": [
    "step.events"
   ]
  },
  {
   "cell_type": "code",
   "execution_count": null,
   "metadata": {},
   "outputs": [],
   "source": [
    "step.values"
   ]
  },
  {
   "cell_type": "code",
   "execution_count": null,
   "metadata": {},
   "outputs": [],
   "source": [
    "step = TransformStepStimulus(\n",
    "    linear_transform=asarray([\n",
    "        [0.5, -0.5, 0.5], [1, 1, -2]\n",
    "    ]).T,\n",
    "    linear_transform_labels=['a', 'b'],\n",
    "    photoreceptor=pr, \n",
    "    spectrum_measurement=mss, \n",
    "    background=background,\n",
    "    values={\n",
    "        'rh3': [0.2, 0.4, 0.3], \n",
    "        'rh4': [0.4, 0.2, 0.1], \n",
    "    }, \n",
    "    separate_channels=True, \n",
    "    repetitions=1, \n",
    "    iterations=1, \n",
    "    rate=60., \n",
    "    durations=[3, 3], \n",
    "    pause_durations=[2, 3], \n",
    "    randomize=True, \n",
    "    start_delay=1, \n",
    "    end_dur=1\n",
    ")"
   ]
  },
  {
   "cell_type": "code",
   "execution_count": null,
   "metadata": {},
   "outputs": [],
   "source": [
    "step.create()"
   ]
  },
  {
   "cell_type": "code",
   "execution_count": null,
   "metadata": {},
   "outputs": [],
   "source": [
    "plt.plot(step.signal)"
   ]
  },
  {
   "cell_type": "code",
   "execution_count": null,
   "metadata": {},
   "outputs": [],
   "source": [
    "plt.plot(step.metadata['target_signal'])"
   ]
  },
  {
   "cell_type": "code",
   "execution_count": null,
   "metadata": {},
   "outputs": [],
   "source": [
    "plt.plot(step.metadata['res_signal'])"
   ]
  },
  {
   "cell_type": "code",
   "execution_count": null,
   "metadata": {},
   "outputs": [],
   "source": [
    "plt.plot(step.metadata['lineartransform_signal'])"
   ]
  },
  {
   "cell_type": "code",
   "execution_count": null,
   "metadata": {},
   "outputs": [],
   "source": [
    "plt.plot(step.metadata['lineartransform_target_signal'])"
   ]
  },
  {
   "cell_type": "code",
   "execution_count": null,
   "metadata": {},
   "outputs": [],
   "source": [
    "step.transform()"
   ]
  },
  {
   "cell_type": "code",
   "execution_count": null,
   "metadata": {},
   "outputs": [],
   "source": [
    "plt.plot(step.stimulus)"
   ]
  },
  {
   "cell_type": "code",
   "execution_count": null,
   "metadata": {},
   "outputs": [],
   "source": [
    "step.events"
   ]
  },
  {
   "cell_type": "code",
   "execution_count": null,
   "metadata": {},
   "outputs": [],
   "source": [
    "wn.events"
   ]
  },
  {
   "cell_type": "code",
   "execution_count": null,
   "metadata": {},
   "outputs": [],
   "source": [
    "wn.save('test_wn_stim.json')"
   ]
  },
  {
   "cell_type": "code",
   "execution_count": null,
   "metadata": {},
   "outputs": [],
   "source": [
    "step.save('test_step_stim.json')"
   ]
  },
  {
   "cell_type": "code",
   "execution_count": null,
   "metadata": {},
   "outputs": [],
   "source": [
    "step2 = PRStepStimulus.load('test_step_stim.json')"
   ]
  },
  {
   "cell_type": "code",
   "execution_count": null,
   "metadata": {},
   "outputs": [],
   "source": [
    "wn2 = IlluminantWhiteNoiseStimulus.load('test_wn_stim.json')"
   ]
  },
  {
   "cell_type": "code",
   "execution_count": null,
   "metadata": {},
   "outputs": [],
   "source": [
    "step2.settings.keys()"
   ]
  },
  {
   "cell_type": "code",
   "execution_count": null,
   "metadata": {},
   "outputs": [],
   "source": [
    "wn2.settings.keys()"
   ]
  },
  {
   "cell_type": "code",
   "execution_count": null,
   "metadata": {},
   "outputs": [],
   "source": [
    "wn2.settings['bg_func']"
   ]
  },
  {
   "cell_type": "code",
   "execution_count": null,
   "metadata": {},
   "outputs": [],
   "source": [
    "step2"
   ]
  },
  {
   "cell_type": "code",
   "execution_count": null,
   "metadata": {},
   "outputs": [],
   "source": [
    "wn2"
   ]
  },
  {
   "cell_type": "code",
   "execution_count": null,
   "metadata": {},
   "outputs": [],
   "source": []
  }
 ],
 "metadata": {
  "kernelspec": {
   "display_name": "Python 3",
   "language": "python",
   "name": "python3"
  },
  "language_info": {
   "codemirror_mode": {
    "name": "ipython",
    "version": 3
   },
   "file_extension": ".py",
   "mimetype": "text/x-python",
   "name": "python",
   "nbconvert_exporter": "python",
   "pygments_lexer": "ipython3",
   "version": "3.7.4"
  }
 },
 "nbformat": 4,
 "nbformat_minor": 4
}
