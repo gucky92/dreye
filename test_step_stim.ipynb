{
 "cells": [
  {
   "cell_type": "code",
   "execution_count": null,
   "metadata": {},
   "outputs": [],
   "source": [
    "from dreye.stimuli.temporal.step import StepStimulus, RandomSwitchStimulus\n",
    "import numpy as np\n",
    "import matplotlib.pyplot as plt\n",
    "np.random.seed(10)"
   ]
  },
  {
   "cell_type": "code",
   "execution_count": null,
   "metadata": {},
   "outputs": [],
   "source": [
    "step = StepStimulus(\n",
    "    values={\n",
    "        'a': [1,2,34], \n",
    "        'b': [-2, 3]\n",
    "    }, \n",
    "    separate_channels=True, \n",
    "    repetitions=2, \n",
    "    iterations=2, \n",
    "    rate=60., \n",
    "    durations=[2,3], \n",
    "    pause_durations=[3,4,5], \n",
    "    randomize=True, \n",
    "    start_delay=5, \n",
    "    end_dur=5\n",
    ")"
   ]
  },
  {
   "cell_type": "code",
   "execution_count": null,
   "metadata": {},
   "outputs": [],
   "source": [
    "step.events"
   ]
  },
  {
   "cell_type": "code",
   "execution_count": null,
   "metadata": {},
   "outputs": [],
   "source": [
    "step.events.dtypes"
   ]
  },
  {
   "cell_type": "code",
   "execution_count": null,
   "metadata": {},
   "outputs": [],
   "source": [
    "plt.plot(step.signal)"
   ]
  },
  {
   "cell_type": "code",
   "execution_count": null,
   "metadata": {},
   "outputs": [],
   "source": [
    "ran = RandomSwitchStimulus(\n",
    "    values={\n",
    "        'a': [3,1,0,-1], \n",
    "        'b': [-3, 3], \n",
    "        'c': [0, 1]\n",
    "    },\n",
    "    values_probs={\n",
    "        'a': [1,2,3,4]\n",
    "    }, \n",
    "    total_dur=30, \n",
    "    clip_dur=10, \n",
    "    rate=60, \n",
    "    iterations=2, \n",
    "    start_delay=10, \n",
    "    end_dur=10,\n",
    "    seed=12, \n",
    "    baseline_values=[0, 1, 2], \n",
    "    **{'loc':2, 'scale':0.1}\n",
    ")"
   ]
  },
  {
   "cell_type": "code",
   "execution_count": null,
   "metadata": {},
   "outputs": [],
   "source": [
    "ran.events"
   ]
  },
  {
   "cell_type": "code",
   "execution_count": null,
   "metadata": {},
   "outputs": [],
   "source": [
    "plt.plot(ran.signal)"
   ]
  },
  {
   "cell_type": "code",
   "execution_count": null,
   "metadata": {},
   "outputs": [],
   "source": [
    "ran.events.dtypes"
   ]
  },
  {
   "cell_type": "code",
   "execution_count": null,
   "metadata": {},
   "outputs": [],
   "source": [
    "from dreye.stimuli.temporal.noise import WhiteNoiseStimulus, BrownNoiseStimulus"
   ]
  },
  {
   "cell_type": "code",
   "execution_count": null,
   "metadata": {},
   "outputs": [],
   "source": [
    "wn = WhiteNoiseStimulus(\n",
    "    rate=60, \n",
    "    n_channels=4, \n",
    "    mean=np.array([-1, 1, -1, 1]), \n",
    "    var=np.array([1,2,3,4]), \n",
    "    minimum=np.array([-10, -5, -1, -100]), \n",
    "    maximum=100, \n",
    "    iterations=2, \n",
    "    start_delay=1, \n",
    "    end_dur=1, \n",
    "    pause_dur=1, \n",
    "    seed=10, \n",
    "    filter_style='window', \n",
    "    filter_function='exponential', \n",
    "    filter_along_axis=0, \n",
    "    filter_kwargs={'M':5, 'tau':2.5}\n",
    ")"
   ]
  },
  {
   "cell_type": "code",
   "execution_count": null,
   "metadata": {},
   "outputs": [],
   "source": [
    "plt.plot(wn.timestamps, wn.signal, alpha=0.4)"
   ]
  },
  {
   "cell_type": "code",
   "execution_count": null,
   "metadata": {},
   "outputs": [],
   "source": [
    "plt.plot(wn.signal[:, -1])"
   ]
  },
  {
   "cell_type": "code",
   "execution_count": null,
   "metadata": {},
   "outputs": [],
   "source": [
    "wn = WhiteNoiseStimulus(\n",
    "    rate=60, \n",
    "    n_channels=4, \n",
    "    mean=np.array([-1, 1, -1, 1]), \n",
    "    var=np.array([1,2,3,4]), \n",
    "    minimum=np.array([-10, -5, -1, -100]), \n",
    "    maximum=100, \n",
    "    iterations=2, \n",
    "    start_delay=1, \n",
    "    end_dur=1, \n",
    "    pause_dur=1, \n",
    "    seed=12, \n",
    "    filter_style='filtfilt', \n",
    "    filter_function='butter', \n",
    "    filter_along_axis=0, \n",
    "    filter_kwargs=dict(\n",
    "        N=5, Wn=1/30, btype='low', \n",
    "        analog=False,\n",
    "    )\n",
    ")"
   ]
  },
  {
   "cell_type": "code",
   "execution_count": null,
   "metadata": {},
   "outputs": [],
   "source": [
    "plt.plot(wn.timestamps, wn.signal, alpha=0.4)"
   ]
  },
  {
   "cell_type": "code",
   "execution_count": null,
   "metadata": {},
   "outputs": [],
   "source": [
    "wn = BrownNoiseStimulus(\n",
    "    rate=60, \n",
    "    n_channels=4, \n",
    "    mean=np.array([1, 2, 3, 4]), \n",
    "    var=np.array([0.1, 0.2, 0.3, 0.4]), \n",
    "    minimum=np.array([-10, -5, -10, -100]), \n",
    "    maximum=100, \n",
    "    iterations=2, \n",
    "    start_delay=1, \n",
    "    end_dur=1, \n",
    "    pause_dur=1, \n",
    "    seed=12, \n",
    "    filter_style='filtfilt', \n",
    "    filter_function='butter', \n",
    "    filter_along_axis=0, \n",
    "    filter_kwargs=dict(\n",
    "        N=5, Wn=1/30, btype='low', \n",
    "        analog=False,\n",
    "    )\n",
    ")"
   ]
  },
  {
   "cell_type": "code",
   "execution_count": null,
   "metadata": {},
   "outputs": [],
   "source": [
    "plt.plot(wn.timestamps, wn.signal, alpha=0.4)"
   ]
  },
  {
   "cell_type": "code",
   "execution_count": null,
   "metadata": {},
   "outputs": [],
   "source": [
    "wn.events"
   ]
  },
  {
   "cell_type": "code",
   "execution_count": null,
   "metadata": {},
   "outputs": [],
   "source": [
    "step.save('test_step_stim.json')"
   ]
  },
  {
   "cell_type": "code",
   "execution_count": null,
   "metadata": {},
   "outputs": [],
   "source": [
    "step2 = StepStimulus.load('test_step_stim.json')"
   ]
  },
  {
   "cell_type": "code",
   "execution_count": null,
   "metadata": {},
   "outputs": [],
   "source": [
    "step2.metadata"
   ]
  },
  {
   "cell_type": "code",
   "execution_count": null,
   "metadata": {},
   "outputs": [],
   "source": [
    "wn.events.columns"
   ]
  },
  {
   "cell_type": "code",
   "execution_count": null,
   "metadata": {},
   "outputs": [],
   "source": [
    "wn.save('test_wn_stim.json')"
   ]
  },
  {
   "cell_type": "code",
   "execution_count": null,
   "metadata": {},
   "outputs": [],
   "source": [
    "wn2 = WhiteNoiseStimulus.load('test_wn_stim.json')"
   ]
  },
  {
   "cell_type": "code",
   "execution_count": null,
   "metadata": {},
   "outputs": [],
   "source": [
    "wn2.settings"
   ]
  },
  {
   "cell_type": "code",
   "execution_count": null,
   "metadata": {},
   "outputs": [],
   "source": [
    "wn2.events"
   ]
  },
  {
   "cell_type": "code",
   "execution_count": null,
   "metadata": {},
   "outputs": [],
   "source": [
    "wn.events"
   ]
  },
  {
   "cell_type": "code",
   "execution_count": null,
   "metadata": {},
   "outputs": [],
   "source": [
    "from dreye.io.json import load_json, dump_json"
   ]
  },
  {
   "cell_type": "code",
   "execution_count": null,
   "metadata": {},
   "outputs": [],
   "source": [
    "wn.metadata['random_signal'].dtype"
   ]
  },
  {
   "cell_type": "code",
   "execution_count": null,
   "metadata": {},
   "outputs": [],
   "source": [
    "wn.to_dict().keys()"
   ]
  },
  {
   "cell_type": "code",
   "execution_count": null,
   "metadata": {},
   "outputs": [],
   "source": []
  }
 ],
 "metadata": {
  "kernelspec": {
   "display_name": "Python 3",
   "language": "python",
   "name": "python3"
  },
  "language_info": {
   "codemirror_mode": {
    "name": "ipython",
    "version": 3
   },
   "file_extension": ".py",
   "mimetype": "text/x-python",
   "name": "python",
   "nbconvert_exporter": "python",
   "pygments_lexer": "ipython3",
   "version": "3.7.4"
  }
 },
 "nbformat": 4,
 "nbformat_minor": 4
}
