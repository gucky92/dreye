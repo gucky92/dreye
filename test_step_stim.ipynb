{
 "cells": [
  {
   "cell_type": "code",
   "execution_count": 1,
   "metadata": {},
   "outputs": [],
   "source": [
    "from dreye.stimuli.temporal.step import StepStimulus, RandomSwitchStimulus\n",
    "import numpy as np\n",
    "import matplotlib.pyplot as plt\n",
    "np.random.seed(10)"
   ]
  },
  {
   "cell_type": "code",
   "execution_count": 2,
   "metadata": {},
   "outputs": [],
   "source": [
    "step = StepStimulus(\n",
    "    values={\n",
    "        'a': [1,2,34], \n",
    "        'b': [-2, 3]\n",
    "    }, \n",
    "    separate_channels=True, \n",
    "    repetitions=2, \n",
    "    iterations=2, \n",
    "    rate=60., \n",
    "    durations=[2,3], \n",
    "    pause_durations=[3,4,5], \n",
    "    randomize=True, \n",
    "    start_delay=5, \n",
    "    end_dur=5\n",
    ")"
   ]
  },
  {
   "cell_type": "code",
   "execution_count": 3,
   "metadata": {},
   "outputs": [
    {
     "data": {
      "text/html": [
       "<div>\n",
       "<style scoped>\n",
       "    .dataframe tbody tr th:only-of-type {\n",
       "        vertical-align: middle;\n",
       "    }\n",
       "\n",
       "    .dataframe tbody tr th {\n",
       "        vertical-align: top;\n",
       "    }\n",
       "\n",
       "    .dataframe thead th {\n",
       "        text-align: right;\n",
       "    }\n",
       "</style>\n",
       "<table border=\"1\" class=\"dataframe\">\n",
       "  <thead>\n",
       "    <tr style=\"text-align: right;\">\n",
       "      <th></th>\n",
       "      <th>a</th>\n",
       "      <th>b</th>\n",
       "      <th>dur</th>\n",
       "      <th>pause</th>\n",
       "      <th>repeat</th>\n",
       "      <th>iter</th>\n",
       "      <th>delay</th>\n",
       "      <th>name</th>\n",
       "    </tr>\n",
       "  </thead>\n",
       "  <tbody>\n",
       "    <tr>\n",
       "      <th>0</th>\n",
       "      <td>34.0</td>\n",
       "      <td>0.0</td>\n",
       "      <td>3.0</td>\n",
       "      <td>3.0</td>\n",
       "      <td>2</td>\n",
       "      <td>0</td>\n",
       "      <td>5.0</td>\n",
       "      <td>StepStimulus</td>\n",
       "    </tr>\n",
       "    <tr>\n",
       "      <th>1</th>\n",
       "      <td>1.0</td>\n",
       "      <td>0.0</td>\n",
       "      <td>2.0</td>\n",
       "      <td>4.0</td>\n",
       "      <td>0</td>\n",
       "      <td>0</td>\n",
       "      <td>11.0</td>\n",
       "      <td>StepStimulus</td>\n",
       "    </tr>\n",
       "    <tr>\n",
       "      <th>2</th>\n",
       "      <td>0.0</td>\n",
       "      <td>-2.0</td>\n",
       "      <td>2.0</td>\n",
       "      <td>4.0</td>\n",
       "      <td>3</td>\n",
       "      <td>0</td>\n",
       "      <td>17.0</td>\n",
       "      <td>StepStimulus</td>\n",
       "    </tr>\n",
       "    <tr>\n",
       "      <th>3</th>\n",
       "      <td>34.0</td>\n",
       "      <td>0.0</td>\n",
       "      <td>2.0</td>\n",
       "      <td>4.0</td>\n",
       "      <td>2</td>\n",
       "      <td>0</td>\n",
       "      <td>23.0</td>\n",
       "      <td>StepStimulus</td>\n",
       "    </tr>\n",
       "    <tr>\n",
       "      <th>4</th>\n",
       "      <td>2.0</td>\n",
       "      <td>0.0</td>\n",
       "      <td>3.0</td>\n",
       "      <td>4.0</td>\n",
       "      <td>1</td>\n",
       "      <td>0</td>\n",
       "      <td>30.0</td>\n",
       "      <td>StepStimulus</td>\n",
       "    </tr>\n",
       "    <tr>\n",
       "      <th>...</th>\n",
       "      <td>...</td>\n",
       "      <td>...</td>\n",
       "      <td>...</td>\n",
       "      <td>...</td>\n",
       "      <td>...</td>\n",
       "      <td>...</td>\n",
       "      <td>...</td>\n",
       "      <td>...</td>\n",
       "    </tr>\n",
       "    <tr>\n",
       "      <th>115</th>\n",
       "      <td>0.0</td>\n",
       "      <td>3.0</td>\n",
       "      <td>2.0</td>\n",
       "      <td>3.0</td>\n",
       "      <td>4</td>\n",
       "      <td>1</td>\n",
       "      <td>756.0</td>\n",
       "      <td>StepStimulus</td>\n",
       "    </tr>\n",
       "    <tr>\n",
       "      <th>116</th>\n",
       "      <td>1.0</td>\n",
       "      <td>0.0</td>\n",
       "      <td>2.0</td>\n",
       "      <td>3.0</td>\n",
       "      <td>0</td>\n",
       "      <td>1</td>\n",
       "      <td>761.0</td>\n",
       "      <td>StepStimulus</td>\n",
       "    </tr>\n",
       "    <tr>\n",
       "      <th>117</th>\n",
       "      <td>2.0</td>\n",
       "      <td>0.0</td>\n",
       "      <td>2.0</td>\n",
       "      <td>4.0</td>\n",
       "      <td>1</td>\n",
       "      <td>1</td>\n",
       "      <td>767.0</td>\n",
       "      <td>StepStimulus</td>\n",
       "    </tr>\n",
       "    <tr>\n",
       "      <th>118</th>\n",
       "      <td>0.0</td>\n",
       "      <td>-2.0</td>\n",
       "      <td>2.0</td>\n",
       "      <td>3.0</td>\n",
       "      <td>3</td>\n",
       "      <td>1</td>\n",
       "      <td>772.0</td>\n",
       "      <td>StepStimulus</td>\n",
       "    </tr>\n",
       "    <tr>\n",
       "      <th>119</th>\n",
       "      <td>1.0</td>\n",
       "      <td>0.0</td>\n",
       "      <td>3.0</td>\n",
       "      <td>4.0</td>\n",
       "      <td>0</td>\n",
       "      <td>1</td>\n",
       "      <td>779.0</td>\n",
       "      <td>StepStimulus</td>\n",
       "    </tr>\n",
       "  </tbody>\n",
       "</table>\n",
       "<p>120 rows × 8 columns</p>\n",
       "</div>"
      ],
      "text/plain": [
       "        a    b  dur  pause  repeat  iter  delay          name\n",
       "0    34.0  0.0  3.0    3.0       2     0    5.0  StepStimulus\n",
       "1     1.0  0.0  2.0    4.0       0     0   11.0  StepStimulus\n",
       "2     0.0 -2.0  2.0    4.0       3     0   17.0  StepStimulus\n",
       "3    34.0  0.0  2.0    4.0       2     0   23.0  StepStimulus\n",
       "4     2.0  0.0  3.0    4.0       1     0   30.0  StepStimulus\n",
       "..    ...  ...  ...    ...     ...   ...    ...           ...\n",
       "115   0.0  3.0  2.0    3.0       4     1  756.0  StepStimulus\n",
       "116   1.0  0.0  2.0    3.0       0     1  761.0  StepStimulus\n",
       "117   2.0  0.0  2.0    4.0       1     1  767.0  StepStimulus\n",
       "118   0.0 -2.0  2.0    3.0       3     1  772.0  StepStimulus\n",
       "119   1.0  0.0  3.0    4.0       0     1  779.0  StepStimulus\n",
       "\n",
       "[120 rows x 8 columns]"
      ]
     },
     "execution_count": 3,
     "metadata": {},
     "output_type": "execute_result"
    }
   ],
   "source": [
    "step.events"
   ]
  },
  {
   "cell_type": "code",
   "execution_count": 4,
   "metadata": {},
   "outputs": [
    {
     "data": {
      "text/plain": [
       "a         float64\n",
       "b         float64\n",
       "dur       float64\n",
       "pause     float64\n",
       "repeat      int64\n",
       "iter        int64\n",
       "delay     float64\n",
       "name       object\n",
       "dtype: object"
      ]
     },
     "execution_count": 4,
     "metadata": {},
     "output_type": "execute_result"
    }
   ],
   "source": [
    "step.events.dtypes"
   ]
  },
  {
   "cell_type": "code",
   "execution_count": 5,
   "metadata": {},
   "outputs": [
    {
     "data": {
      "text/plain": [
       "[<matplotlib.lines.Line2D at 0x1a206e1450>,\n",
       " <matplotlib.lines.Line2D at 0x1a206e1750>]"
      ]
     },
     "execution_count": 5,
     "metadata": {},
     "output_type": "execute_result"
    },
    {
     "data": {
      "image/png": "[encoded data removed]",
      "text/plain": [
       "<Figure size 432x288 with 1 Axes>"
      ]
     },
     "metadata": {
      "needs_background": "light"
     },
     "output_type": "display_data"
    }
   ],
   "source": [
    "plt.plot(step.signal)"
   ]
  },
  {
   "cell_type": "code",
   "execution_count": 6,
   "metadata": {},
   "outputs": [],
   "source": [
    "ran = RandomSwitchStimulus(\n",
    "    values={\n",
    "        'a': [3,1,0,-1], \n",
    "        'b': [-3, 3], \n",
    "        'c': [0, 1]\n",
    "    },\n",
    "    values_probs={\n",
    "        'a': [1,2,3,4]\n",
    "    }, \n",
    "    total_dur=30, \n",
    "    clip_dur=10, \n",
    "    rate=60, \n",
    "    iterations=2, \n",
    "    start_delay=10, \n",
    "    end_dur=10,\n",
    "    seed=12, \n",
    "    baseline_values=[0, 1, 2], \n",
    "    **{'loc':2, 'scale':0.1}\n",
    ")"
   ]
  },
  {
   "cell_type": "code",
   "execution_count": 7,
   "metadata": {},
   "outputs": [
    {
     "data": {
      "text/html": [
       "<div>\n",
       "<style scoped>\n",
       "    .dataframe tbody tr th:only-of-type {\n",
       "        vertical-align: middle;\n",
       "    }\n",
       "\n",
       "    .dataframe tbody tr th {\n",
       "        vertical-align: top;\n",
       "    }\n",
       "\n",
       "    .dataframe thead th {\n",
       "        text-align: right;\n",
       "    }\n",
       "</style>\n",
       "<table border=\"1\" class=\"dataframe\">\n",
       "  <thead>\n",
       "    <tr style=\"text-align: right;\">\n",
       "      <th></th>\n",
       "      <th>channel</th>\n",
       "      <th>delay</th>\n",
       "      <th>dur</th>\n",
       "      <th>value</th>\n",
       "      <th>iter</th>\n",
       "      <th>name</th>\n",
       "    </tr>\n",
       "  </thead>\n",
       "  <tbody>\n",
       "    <tr>\n",
       "      <th>0</th>\n",
       "      <td>c</td>\n",
       "      <td>11.883333</td>\n",
       "      <td>1.940857</td>\n",
       "      <td>1.0</td>\n",
       "      <td>0</td>\n",
       "      <td>RandomSwitchStimulus</td>\n",
       "    </tr>\n",
       "    <tr>\n",
       "      <th>1</th>\n",
       "      <td>b</td>\n",
       "      <td>11.966667</td>\n",
       "      <td>1.957288</td>\n",
       "      <td>3.0</td>\n",
       "      <td>0</td>\n",
       "      <td>RandomSwitchStimulus</td>\n",
       "    </tr>\n",
       "    <tr>\n",
       "      <th>2</th>\n",
       "      <td>a</td>\n",
       "      <td>11.900000</td>\n",
       "      <td>2.064350</td>\n",
       "      <td>1.0</td>\n",
       "      <td>0</td>\n",
       "      <td>RandomSwitchStimulus</td>\n",
       "    </tr>\n",
       "    <tr>\n",
       "      <th>3</th>\n",
       "      <td>c</td>\n",
       "      <td>13.833333</td>\n",
       "      <td>1.998179</td>\n",
       "      <td>1.0</td>\n",
       "      <td>0</td>\n",
       "      <td>RandomSwitchStimulus</td>\n",
       "    </tr>\n",
       "    <tr>\n",
       "      <th>4</th>\n",
       "      <td>b</td>\n",
       "      <td>13.916667</td>\n",
       "      <td>2.031754</td>\n",
       "      <td>3.0</td>\n",
       "      <td>0</td>\n",
       "      <td>RandomSwitchStimulus</td>\n",
       "    </tr>\n",
       "    <tr>\n",
       "      <th>...</th>\n",
       "      <td>...</td>\n",
       "      <td>...</td>\n",
       "      <td>...</td>\n",
       "      <td>...</td>\n",
       "      <td>...</td>\n",
       "      <td>...</td>\n",
       "    </tr>\n",
       "    <tr>\n",
       "      <th>83</th>\n",
       "      <td>b</td>\n",
       "      <td>89.250000</td>\n",
       "      <td>1.978881</td>\n",
       "      <td>-3.0</td>\n",
       "      <td>1</td>\n",
       "      <td>RandomSwitchStimulus</td>\n",
       "    </tr>\n",
       "    <tr>\n",
       "      <th>84</th>\n",
       "      <td>a</td>\n",
       "      <td>89.300000</td>\n",
       "      <td>2.090086</td>\n",
       "      <td>1.0</td>\n",
       "      <td>1</td>\n",
       "      <td>RandomSwitchStimulus</td>\n",
       "    </tr>\n",
       "    <tr>\n",
       "      <th>85</th>\n",
       "      <td>c</td>\n",
       "      <td>90.100000</td>\n",
       "      <td>1.945087</td>\n",
       "      <td>1.0</td>\n",
       "      <td>1</td>\n",
       "      <td>RandomSwitchStimulus</td>\n",
       "    </tr>\n",
       "    <tr>\n",
       "      <th>86</th>\n",
       "      <td>b</td>\n",
       "      <td>91.233333</td>\n",
       "      <td>2.018250</td>\n",
       "      <td>3.0</td>\n",
       "      <td>1</td>\n",
       "      <td>RandomSwitchStimulus</td>\n",
       "    </tr>\n",
       "    <tr>\n",
       "      <th>87</th>\n",
       "      <td>a</td>\n",
       "      <td>91.400000</td>\n",
       "      <td>2.062229</td>\n",
       "      <td>-1.0</td>\n",
       "      <td>1</td>\n",
       "      <td>RandomSwitchStimulus</td>\n",
       "    </tr>\n",
       "  </tbody>\n",
       "</table>\n",
       "<p>88 rows × 6 columns</p>\n",
       "</div>"
      ],
      "text/plain": [
       "   channel      delay       dur  value  iter                  name\n",
       "0        c  11.883333  1.940857    1.0     0  RandomSwitchStimulus\n",
       "1        b  11.966667  1.957288    3.0     0  RandomSwitchStimulus\n",
       "2        a  11.900000  2.064350    1.0     0  RandomSwitchStimulus\n",
       "3        c  13.833333  1.998179    1.0     0  RandomSwitchStimulus\n",
       "4        b  13.916667  2.031754    3.0     0  RandomSwitchStimulus\n",
       "..     ...        ...       ...    ...   ...                   ...\n",
       "83       b  89.250000  1.978881   -3.0     1  RandomSwitchStimulus\n",
       "84       a  89.300000  2.090086    1.0     1  RandomSwitchStimulus\n",
       "85       c  90.100000  1.945087    1.0     1  RandomSwitchStimulus\n",
       "86       b  91.233333  2.018250    3.0     1  RandomSwitchStimulus\n",
       "87       a  91.400000  2.062229   -1.0     1  RandomSwitchStimulus\n",
       "\n",
       "[88 rows x 6 columns]"
      ]
     },
     "execution_count": 7,
     "metadata": {},
     "output_type": "execute_result"
    }
   ],
   "source": [
    "ran.events"
   ]
  },
  {
   "cell_type": "code",
   "execution_count": 8,
   "metadata": {},
   "outputs": [
    {
     "data": {
      "text/plain": [
       "[<matplotlib.lines.Line2D at 0x1a29458ad0>,\n",
       " <matplotlib.lines.Line2D at 0x1a29458d10>,\n",
       " <matplotlib.lines.Line2D at 0x1a29458ed0>]"
      ]
     },
     "execution_count": 8,
     "metadata": {},
     "output_type": "execute_result"
    },
    {
     "data": {
      "image/png": "[encoded data removed]",
      "text/plain": [
       "<Figure size 432x288 with 1 Axes>"
      ]
     },
     "metadata": {
      "needs_background": "light"
     },
     "output_type": "display_data"
    }
   ],
   "source": [
    "plt.plot(ran.signal)"
   ]
  },
  {
   "cell_type": "code",
   "execution_count": 9,
   "metadata": {},
   "outputs": [
    {
     "data": {
      "text/plain": [
       "channel     object\n",
       "delay      float64\n",
       "dur        float64\n",
       "value      float64\n",
       "iter         int64\n",
       "name        object\n",
       "dtype: object"
      ]
     },
     "execution_count": 9,
     "metadata": {},
     "output_type": "execute_result"
    }
   ],
   "source": [
    "ran.events.dtypes"
   ]
  },
  {
   "cell_type": "code",
   "execution_count": 10,
   "metadata": {},
   "outputs": [],
   "source": [
    "from dreye.stimuli.temporal.noise import WhiteNoiseStimulus, BrownNoiseStimulus"
   ]
  },
  {
   "cell_type": "code",
   "execution_count": 11,
   "metadata": {},
   "outputs": [],
   "source": [
    "wn = WhiteNoiseStimulus(\n",
    "    rate=60, \n",
    "    n_channels=4, \n",
    "    mean=np.array([-1, 1, -1, 1]), \n",
    "    var=np.array([1,2,3,4]), \n",
    "    minimum=np.array([-10, -5, -1, -100]), \n",
    "    maximum=100, \n",
    "    iterations=2, \n",
    "    start_delay=1, \n",
    "    end_dur=1, \n",
    "    pause_dur=1, \n",
    "    seed=10, \n",
    "    filter_style='window', \n",
    "    filter_function='exponential', \n",
    "    filter_along_axis=0, \n",
    "    filter_kwargs={'M':5, 'tau':2.5}\n",
    ")"
   ]
  },
  {
   "cell_type": "code",
   "execution_count": 12,
   "metadata": {},
   "outputs": [
    {
     "data": {
      "text/plain": [
       "[<matplotlib.lines.Line2D at 0x1c29900b10>,\n",
       " <matplotlib.lines.Line2D at 0x1c298f6dd0>,\n",
       " <matplotlib.lines.Line2D at 0x1c29900f10>,\n",
       " <matplotlib.lines.Line2D at 0x1c2990a110>]"
      ]
     },
     "execution_count": 12,
     "metadata": {},
     "output_type": "execute_result"
    },
    {
     "data": {
      "image/png": "[encoded data removed]",
      "text/plain": [
       "<Figure size 432x288 with 1 Axes>"
      ]
     },
     "metadata": {
      "needs_background": "light"
     },
     "output_type": "display_data"
    }
   ],
   "source": [
    "plt.plot(wn.timestamps, wn.signal, alpha=0.4)"
   ]
  },
  {
   "cell_type": "code",
   "execution_count": 13,
   "metadata": {},
   "outputs": [
    {
     "data": {
      "text/plain": [
       "[<matplotlib.lines.Line2D at 0x1c29972050>]"
      ]
     },
     "execution_count": 13,
     "metadata": {},
     "output_type": "execute_result"
    },
    {
     "data": {
      "image/png": "[encoded data removed]",
      "text/plain": [
       "<Figure size 432x288 with 1 Axes>"
      ]
     },
     "metadata": {
      "needs_background": "light"
     },
     "output_type": "display_data"
    }
   ],
   "source": [
    "plt.plot(wn.signal[:, -1])"
   ]
  },
  {
   "cell_type": "code",
   "execution_count": 14,
   "metadata": {},
   "outputs": [],
   "source": [
    "wn = WhiteNoiseStimulus(\n",
    "    rate=60, \n",
    "    n_channels=4, \n",
    "    mean=np.array([-1, 1, -1, 1]), \n",
    "    var=np.array([1,2,3,4]), \n",
    "    minimum=np.array([-10, -5, -1, -100]), \n",
    "    maximum=100, \n",
    "    iterations=2, \n",
    "    start_delay=1, \n",
    "    end_dur=1, \n",
    "    pause_dur=1, \n",
    "    seed=12, \n",
    "    filter_style='filtfilt', \n",
    "    filter_function='butter', \n",
    "    filter_along_axis=0, \n",
    "    filter_kwargs=dict(\n",
    "        N=5, Wn=1/30, btype='low', \n",
    "        analog=False,\n",
    "    )\n",
    ")"
   ]
  },
  {
   "cell_type": "code",
   "execution_count": 15,
   "metadata": {},
   "outputs": [
    {
     "data": {
      "text/plain": [
       "[<matplotlib.lines.Line2D at 0x1c29bfb690>,\n",
       " <matplotlib.lines.Line2D at 0x1c29bf2950>,\n",
       " <matplotlib.lines.Line2D at 0x1c29bfba90>,\n",
       " <matplotlib.lines.Line2D at 0x1c29bfbc50>]"
      ]
     },
     "execution_count": 15,
     "metadata": {},
     "output_type": "execute_result"
    },
    {
     "data": {
      "image/png": "[encoded data removed]",
      "text/plain": [
       "<Figure size 432x288 with 1 Axes>"
      ]
     },
     "metadata": {
      "needs_background": "light"
     },
     "output_type": "display_data"
    }
   ],
   "source": [
    "plt.plot(wn.timestamps, wn.signal, alpha=0.4)"
   ]
  },
  {
   "cell_type": "code",
   "execution_count": 16,
   "metadata": {},
   "outputs": [],
   "source": [
    "wn = BrownNoiseStimulus(\n",
    "    rate=60, \n",
    "    n_channels=4, \n",
    "    mean=np.array([1, 2, 3, 4]), \n",
    "    var=np.array([0.1, 0.2, 0.3, 0.4]), \n",
    "    minimum=np.array([-10, -5, -10, -100]), \n",
    "    maximum=100, \n",
    "    iterations=2, \n",
    "    start_delay=1, \n",
    "    end_dur=1, \n",
    "    pause_dur=1, \n",
    "    seed=12, \n",
    "    filter_style='filtfilt', \n",
    "    filter_function='butter', \n",
    "    filter_along_axis=0, \n",
    "    filter_kwargs=dict(\n",
    "        N=5, Wn=1/30, btype='low', \n",
    "        analog=False,\n",
    "    )\n",
    ")"
   ]
  },
  {
   "cell_type": "code",
   "execution_count": 17,
   "metadata": {},
   "outputs": [
    {
     "data": {
      "text/plain": [
       "[<matplotlib.lines.Line2D at 0x1c29dab890>,\n",
       " <matplotlib.lines.Line2D at 0x1c29da0d10>,\n",
       " <matplotlib.lines.Line2D at 0x1c29dabd10>,\n",
       " <matplotlib.lines.Line2D at 0x1c29dabed0>]"
      ]
     },
     "execution_count": 17,
     "metadata": {},
     "output_type": "execute_result"
    },
    {
     "data": {
      "image/png": "[encoded data removed]",
      "text/plain": [
       "<Figure size 432x288 with 1 Axes>"
      ]
     },
     "metadata": {
      "needs_background": "light"
     },
     "output_type": "display_data"
    }
   ],
   "source": [
    "plt.plot(wn.timestamps, wn.signal, alpha=0.4)"
   ]
  },
  {
   "cell_type": "code",
   "execution_count": 18,
   "metadata": {},
   "outputs": [
    {
     "data": {
      "text/html": [
       "<div>\n",
       "<style scoped>\n",
       "    .dataframe tbody tr th:only-of-type {\n",
       "        vertical-align: middle;\n",
       "    }\n",
       "\n",
       "    .dataframe tbody tr th {\n",
       "        vertical-align: top;\n",
       "    }\n",
       "\n",
       "    .dataframe thead th {\n",
       "        text-align: right;\n",
       "    }\n",
       "</style>\n",
       "<table border=\"1\" class=\"dataframe\">\n",
       "  <thead>\n",
       "    <tr style=\"text-align: right;\">\n",
       "      <th></th>\n",
       "      <th>delay</th>\n",
       "      <th>dur</th>\n",
       "      <th>iter</th>\n",
       "      <th>name</th>\n",
       "      <th>0</th>\n",
       "      <th>1</th>\n",
       "      <th>2</th>\n",
       "      <th>3</th>\n",
       "    </tr>\n",
       "  </thead>\n",
       "  <tbody>\n",
       "    <tr>\n",
       "      <th>0</th>\n",
       "      <td>1.0</td>\n",
       "      <td>10.0</td>\n",
       "      <td>0</td>\n",
       "      <td>BrownNoiseStimulus</td>\n",
       "      <td>[0.9892449904315378, 0.9889168374571484, 0.988...</td>\n",
       "      <td>[2.1617122027435207, 2.185604725824796, 2.2116...</td>\n",
       "      <td>[2.4510919580507102, 2.38828533293152, 2.32395...</td>\n",
       "      <td>[3.8215758000767144, 3.799408475239172, 3.7751...</td>\n",
       "    </tr>\n",
       "    <tr>\n",
       "      <th>1</th>\n",
       "      <td>12.0</td>\n",
       "      <td>10.0</td>\n",
       "      <td>1</td>\n",
       "      <td>BrownNoiseStimulus</td>\n",
       "      <td>[0.9892449904315378, 0.9889168374571484, 0.988...</td>\n",
       "      <td>[2.1617122027435207, 2.185604725824796, 2.2116...</td>\n",
       "      <td>[2.4510919580507102, 2.38828533293152, 2.32395...</td>\n",
       "      <td>[3.8215758000767144, 3.799408475239172, 3.7751...</td>\n",
       "    </tr>\n",
       "  </tbody>\n",
       "</table>\n",
       "</div>"
      ],
      "text/plain": [
       "   delay   dur  iter                name  \\\n",
       "0    1.0  10.0     0  BrownNoiseStimulus   \n",
       "1   12.0  10.0     1  BrownNoiseStimulus   \n",
       "\n",
       "                                                   0  \\\n",
       "0  [0.9892449904315378, 0.9889168374571484, 0.988...   \n",
       "1  [0.9892449904315378, 0.9889168374571484, 0.988...   \n",
       "\n",
       "                                                   1  \\\n",
       "0  [2.1617122027435207, 2.185604725824796, 2.2116...   \n",
       "1  [2.1617122027435207, 2.185604725824796, 2.2116...   \n",
       "\n",
       "                                                   2  \\\n",
       "0  [2.4510919580507102, 2.38828533293152, 2.32395...   \n",
       "1  [2.4510919580507102, 2.38828533293152, 2.32395...   \n",
       "\n",
       "                                                   3  \n",
       "0  [3.8215758000767144, 3.799408475239172, 3.7751...  \n",
       "1  [3.8215758000767144, 3.799408475239172, 3.7751...  "
      ]
     },
     "execution_count": 18,
     "metadata": {},
     "output_type": "execute_result"
    }
   ],
   "source": [
    "wn.events"
   ]
  },
  {
   "cell_type": "code",
   "execution_count": 19,
   "metadata": {},
   "outputs": [],
   "source": [
    "step.save('test_step_stim.json')"
   ]
  },
  {
   "cell_type": "code",
   "execution_count": 20,
   "metadata": {},
   "outputs": [],
   "source": [
    "step2 = StepStimulus.load('test_step_stim.json')"
   ]
  },
  {
   "cell_type": "code",
   "execution_count": 21,
   "metadata": {},
   "outputs": [
    {
     "data": {
      "text/plain": [
       "{}"
      ]
     },
     "execution_count": 21,
     "metadata": {},
     "output_type": "execute_result"
    }
   ],
   "source": [
    "step2.metadata"
   ]
  },
  {
   "cell_type": "code",
   "execution_count": 22,
   "metadata": {},
   "outputs": [
    {
     "data": {
      "text/plain": [
       "Index(['delay', 'dur', 'iter', 'name', '0', '1', '2', '3'], dtype='object')"
      ]
     },
     "execution_count": 22,
     "metadata": {},
     "output_type": "execute_result"
    }
   ],
   "source": [
    "wn.events.columns"
   ]
  },
  {
   "cell_type": "code",
   "execution_count": 32,
   "metadata": {},
   "outputs": [],
   "source": [
    "wn.save('test_wn_stim.json')"
   ]
  },
  {
   "cell_type": "code",
   "execution_count": 33,
   "metadata": {},
   "outputs": [],
   "source": [
    "wn2 = WhiteNoiseStimulus.load('test_wn_stim.json')"
   ]
  },
  {
   "cell_type": "code",
   "execution_count": 34,
   "metadata": {},
   "outputs": [
    {
     "data": {
      "text/plain": [
       "{'rate': 60,\n",
       " 'seed': 12,\n",
       " 'filter_style': 'filtfilt',\n",
       " 'filter_function': 'butter',\n",
       " 'filter_kwargs': {'N': 5,\n",
       "  'Wn': 0.03333333333333333,\n",
       "  'btype': 'low',\n",
       "  'analog': False},\n",
       " 'filter_along_axis': 0,\n",
       " 'extra_kwargs': None,\n",
       " 'stim_dur': 10,\n",
       " 'mean': array([1, 2, 3, 4]),\n",
       " 'var': array([0.1, 0.2, 0.3, 0.4]),\n",
       " 'minimum': array([ -10,   -5,  -10, -100]),\n",
       " 'maximum': 100,\n",
       " 'iterations': 2,\n",
       " 'start_delay': 1,\n",
       " 'end_dur': 1,\n",
       " 'pause_dur': 1,\n",
       " 'n_channels': 4,\n",
       " 'channel_names': None}"
      ]
     },
     "execution_count": 34,
     "metadata": {},
     "output_type": "execute_result"
    }
   ],
   "source": [
    "wn2.settings"
   ]
  },
  {
   "cell_type": "code",
   "execution_count": 26,
   "metadata": {},
   "outputs": [
    {
     "data": {
      "text/html": [
       "<div>\n",
       "<style scoped>\n",
       "    .dataframe tbody tr th:only-of-type {\n",
       "        vertical-align: middle;\n",
       "    }\n",
       "\n",
       "    .dataframe tbody tr th {\n",
       "        vertical-align: top;\n",
       "    }\n",
       "\n",
       "    .dataframe thead th {\n",
       "        text-align: right;\n",
       "    }\n",
       "</style>\n",
       "<table border=\"1\" class=\"dataframe\">\n",
       "  <thead>\n",
       "    <tr style=\"text-align: right;\">\n",
       "      <th></th>\n",
       "      <th>delay</th>\n",
       "      <th>dur</th>\n",
       "      <th>iter</th>\n",
       "      <th>name</th>\n",
       "      <th>0</th>\n",
       "      <th>1</th>\n",
       "      <th>2</th>\n",
       "      <th>3</th>\n",
       "    </tr>\n",
       "  </thead>\n",
       "  <tbody>\n",
       "    <tr>\n",
       "      <th>0</th>\n",
       "      <td>1.0</td>\n",
       "      <td>10.0</td>\n",
       "      <td>0</td>\n",
       "      <td>BrownNoiseStimulus</td>\n",
       "      <td>[0.9892449904315378, 0.9889168374571484, 0.988...</td>\n",
       "      <td>[2.1617122027435207, 2.185604725824796, 2.2116...</td>\n",
       "      <td>[2.4510919580507102, 2.38828533293152, 2.32395...</td>\n",
       "      <td>[3.8215758000767144, 3.799408475239172, 3.7751...</td>\n",
       "    </tr>\n",
       "    <tr>\n",
       "      <th>1</th>\n",
       "      <td>12.0</td>\n",
       "      <td>10.0</td>\n",
       "      <td>1</td>\n",
       "      <td>BrownNoiseStimulus</td>\n",
       "      <td>[0.9892449904315378, 0.9889168374571484, 0.988...</td>\n",
       "      <td>[2.1617122027435207, 2.185604725824796, 2.2116...</td>\n",
       "      <td>[2.4510919580507102, 2.38828533293152, 2.32395...</td>\n",
       "      <td>[3.8215758000767144, 3.799408475239172, 3.7751...</td>\n",
       "    </tr>\n",
       "  </tbody>\n",
       "</table>\n",
       "</div>"
      ],
      "text/plain": [
       "   delay   dur  iter                name  \\\n",
       "0    1.0  10.0     0  BrownNoiseStimulus   \n",
       "1   12.0  10.0     1  BrownNoiseStimulus   \n",
       "\n",
       "                                                   0  \\\n",
       "0  [0.9892449904315378, 0.9889168374571484, 0.988...   \n",
       "1  [0.9892449904315378, 0.9889168374571484, 0.988...   \n",
       "\n",
       "                                                   1  \\\n",
       "0  [2.1617122027435207, 2.185604725824796, 2.2116...   \n",
       "1  [2.1617122027435207, 2.185604725824796, 2.2116...   \n",
       "\n",
       "                                                   2  \\\n",
       "0  [2.4510919580507102, 2.38828533293152, 2.32395...   \n",
       "1  [2.4510919580507102, 2.38828533293152, 2.32395...   \n",
       "\n",
       "                                                   3  \n",
       "0  [3.8215758000767144, 3.799408475239172, 3.7751...  \n",
       "1  [3.8215758000767144, 3.799408475239172, 3.7751...  "
      ]
     },
     "execution_count": 26,
     "metadata": {},
     "output_type": "execute_result"
    }
   ],
   "source": [
    "wn2.events"
   ]
  },
  {
   "cell_type": "code",
   "execution_count": 27,
   "metadata": {},
   "outputs": [
    {
     "data": {
      "text/html": [
       "<div>\n",
       "<style scoped>\n",
       "    .dataframe tbody tr th:only-of-type {\n",
       "        vertical-align: middle;\n",
       "    }\n",
       "\n",
       "    .dataframe tbody tr th {\n",
       "        vertical-align: top;\n",
       "    }\n",
       "\n",
       "    .dataframe thead th {\n",
       "        text-align: right;\n",
       "    }\n",
       "</style>\n",
       "<table border=\"1\" class=\"dataframe\">\n",
       "  <thead>\n",
       "    <tr style=\"text-align: right;\">\n",
       "      <th></th>\n",
       "      <th>delay</th>\n",
       "      <th>dur</th>\n",
       "      <th>iter</th>\n",
       "      <th>name</th>\n",
       "      <th>0</th>\n",
       "      <th>1</th>\n",
       "      <th>2</th>\n",
       "      <th>3</th>\n",
       "    </tr>\n",
       "  </thead>\n",
       "  <tbody>\n",
       "    <tr>\n",
       "      <th>0</th>\n",
       "      <td>1.0</td>\n",
       "      <td>10.0</td>\n",
       "      <td>0</td>\n",
       "      <td>BrownNoiseStimulus</td>\n",
       "      <td>[0.9892449904315378, 0.9889168374571484, 0.988...</td>\n",
       "      <td>[2.1617122027435207, 2.185604725824796, 2.2116...</td>\n",
       "      <td>[2.4510919580507102, 2.38828533293152, 2.32395...</td>\n",
       "      <td>[3.8215758000767144, 3.799408475239172, 3.7751...</td>\n",
       "    </tr>\n",
       "    <tr>\n",
       "      <th>1</th>\n",
       "      <td>12.0</td>\n",
       "      <td>10.0</td>\n",
       "      <td>1</td>\n",
       "      <td>BrownNoiseStimulus</td>\n",
       "      <td>[0.9892449904315378, 0.9889168374571484, 0.988...</td>\n",
       "      <td>[2.1617122027435207, 2.185604725824796, 2.2116...</td>\n",
       "      <td>[2.4510919580507102, 2.38828533293152, 2.32395...</td>\n",
       "      <td>[3.8215758000767144, 3.799408475239172, 3.7751...</td>\n",
       "    </tr>\n",
       "  </tbody>\n",
       "</table>\n",
       "</div>"
      ],
      "text/plain": [
       "   delay   dur  iter                name  \\\n",
       "0    1.0  10.0     0  BrownNoiseStimulus   \n",
       "1   12.0  10.0     1  BrownNoiseStimulus   \n",
       "\n",
       "                                                   0  \\\n",
       "0  [0.9892449904315378, 0.9889168374571484, 0.988...   \n",
       "1  [0.9892449904315378, 0.9889168374571484, 0.988...   \n",
       "\n",
       "                                                   1  \\\n",
       "0  [2.1617122027435207, 2.185604725824796, 2.2116...   \n",
       "1  [2.1617122027435207, 2.185604725824796, 2.2116...   \n",
       "\n",
       "                                                   2  \\\n",
       "0  [2.4510919580507102, 2.38828533293152, 2.32395...   \n",
       "1  [2.4510919580507102, 2.38828533293152, 2.32395...   \n",
       "\n",
       "                                                   3  \n",
       "0  [3.8215758000767144, 3.799408475239172, 3.7751...  \n",
       "1  [3.8215758000767144, 3.799408475239172, 3.7751...  "
      ]
     },
     "execution_count": 27,
     "metadata": {},
     "output_type": "execute_result"
    }
   ],
   "source": [
    "wn.events"
   ]
  },
  {
   "cell_type": "code",
   "execution_count": 28,
   "metadata": {},
   "outputs": [],
   "source": [
    "from dreye.io.json import load_json, dump_json"
   ]
  },
  {
   "cell_type": "code",
   "execution_count": 29,
   "metadata": {},
   "outputs": [
    {
     "data": {
      "text/plain": [
       "dtype('float64')"
      ]
     },
     "execution_count": 29,
     "metadata": {},
     "output_type": "execute_result"
    }
   ],
   "source": [
    "wn.metadata['random_signal'].dtype"
   ]
  },
  {
   "cell_type": "code",
   "execution_count": 30,
   "metadata": {},
   "outputs": [
    {
     "data": {
      "text/plain": [
       "dict_keys(['stimulus', 'signal', 'metadata', 'events', 'settings', 'name', 'module'])"
      ]
     },
     "execution_count": 30,
     "metadata": {},
     "output_type": "execute_result"
    }
   ],
   "source": [
    "wn.to_dict().keys()"
   ]
  },
  {
   "cell_type": "code",
   "execution_count": null,
   "metadata": {},
   "outputs": [],
   "source": []
  }
 ],
 "metadata": {
  "kernelspec": {
   "display_name": "Python 3",
   "language": "python",
   "name": "python3"
  },
  "language_info": {
   "codemirror_mode": {
    "name": "ipython",
    "version": 3
   },
   "file_extension": ".py",
   "mimetype": "text/x-python",
   "name": "python",
   "nbconvert_exporter": "python",
   "pygments_lexer": "ipython3",
   "version": "3.7.4"
  }
 },
 "nbformat": 4,
 "nbformat_minor": 4
}
