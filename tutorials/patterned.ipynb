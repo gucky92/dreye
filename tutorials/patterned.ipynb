{
 "cells": [
  {
   "cell_type": "markdown",
   "metadata": {},
   "source": [
    "# Fitting images - patterned stimuli\n",
    "\n",
    "Here we will introduce how to fit images or patterned stimuli, when the number of independent channels available is smaller than the number of stimulation sources (e.g. for a custom projector system with more LEDs than subframes)."
   ]
  },
  {
   "cell_type": "code",
   "execution_count": null,
   "metadata": {},
   "outputs": [],
   "source": []
  }
 ],
 "metadata": {
  "language_info": {
   "name": "python"
  },
  "orig_nbformat": 4
 },
 "nbformat": 4,
 "nbformat_minor": 2
}
