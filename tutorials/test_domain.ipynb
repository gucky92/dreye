{
 "cells": [
  {
   "cell_type": "code",
   "execution_count": 1,
   "id": "ranking-beijing",
   "metadata": {},
   "outputs": [],
   "source": [
    "import dreye"
   ]
  },
  {
   "cell_type": "code",
   "execution_count": 2,
   "id": "developmental-wallpaper",
   "metadata": {},
   "outputs": [],
   "source": [
    "domain = dreye.Domain(0, 1, 0.1, units='s')"
   ]
  },
  {
   "cell_type": "code",
   "execution_count": 3,
   "id": "stopped-alexander",
   "metadata": {},
   "outputs": [
    {
     "name": "stdout",
     "output_type": "stream",
     "text": [
      "Domain(start=0.0, end=1.0, interval=0.1, units=second)\n"
     ]
    }
   ],
   "source": [
    "print(domain)"
   ]
  },
  {
   "cell_type": "code",
   "execution_count": 4,
   "id": "decimal-mitchell",
   "metadata": {},
   "outputs": [
    {
     "name": "stdout",
     "output_type": "stream",
     "text": [
      "Domain(start=0.0, end=0.0, interval=0.1, units=second)\n"
     ]
    }
   ],
   "source": [
    "print(domain[:1])"
   ]
  },
  {
   "cell_type": "code",
   "execution_count": null,
   "id": "built-atlanta",
   "metadata": {},
   "outputs": [],
   "source": []
  }
 ],
 "metadata": {
  "kernelspec": {
   "display_name": "Python 3",
   "language": "python",
   "name": "python3"
  },
  "language_info": {
   "codemirror_mode": {
    "name": "ipython",
    "version": 3
   },
   "file_extension": ".py",
   "mimetype": "text/x-python",
   "name": "python",
   "nbconvert_exporter": "python",
   "pygments_lexer": "ipython3",
   "version": "3.9.1"
  }
 },
 "nbformat": 4,
 "nbformat_minor": 5
}
