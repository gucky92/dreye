{
 "cells": [
  {
   "cell_type": "code",
   "execution_count": 1,
   "id": "cd3b855d-a0ec-421a-b72f-b1f28259621e",
   "metadata": {},
   "outputs": [],
   "source": [
    "from scipy.stats import qmc\n",
    "import numpy as np\n",
    "import matplotlib.pyplot as plt\n",
    "from scipy.spatial import ConvexHull, convex_hull_plot_2d"
   ]
  },
  {
   "cell_type": "code",
   "execution_count": 2,
   "id": "67d7f21e-bff6-475d-9561-7e6c4fe5e7d2",
   "metadata": {},
   "outputs": [],
   "source": [
    "from dreye.api.convex import getPfromA"
   ]
  },
  {
   "cell_type": "code",
   "execution_count": 3,
   "id": "24779c2d-2d59-42d6-bc8c-7810e38884a3",
   "metadata": {},
   "outputs": [],
   "source": [
    "A = np.array([\n",
    "    [1, 0.5, 0.1],\n",
    "    [0.2, 0.4, 0.8]\n",
    "])"
   ]
  },
  {
   "cell_type": "code",
   "execution_count": 4,
   "id": "b859ad76-6c96-46d3-96bb-81c34f9f16b2",
   "metadata": {},
   "outputs": [],
   "source": [
    "P = getPfromA(A, 0, 1)"
   ]
  },
  {
   "cell_type": "code",
   "execution_count": 5,
   "id": "ab76e5fa-2a81-49d1-b3e2-6f77aaa25c24",
   "metadata": {},
   "outputs": [],
   "source": [
    "hull = ConvexHull(P)"
   ]
  },
  {
   "cell_type": "code",
   "execution_count": 6,
   "id": "6ac809f2-5155-479a-96a6-16232ee23946",
   "metadata": {},
   "outputs": [],
   "source": [
    "from dreye.api.sampling import sample_in_hull"
   ]
  },
  {
   "cell_type": "code",
   "execution_count": 7,
   "id": "8550e066-e5ae-4a9f-a597-cbbe75a409c6",
   "metadata": {},
   "outputs": [],
   "source": [
    "samples = sample_in_hull(\n",
    "    P, 20\n",
    ")"
   ]
  },
  {
   "cell_type": "code",
   "execution_count": 18,
   "id": "a2311eb9-37a3-49fd-b828-017a3faab1eb",
   "metadata": {},
   "outputs": [],
   "source": [
    "samples = sample_in_hull(\n",
    "    P, 20, engine='LHC'\n",
    ")"
   ]
  },
  {
   "cell_type": "code",
   "execution_count": 19,
   "id": "6c3db4e5-ef1c-4275-aece-37991b6e7744",
   "metadata": {},
   "outputs": [
    {
     "data": {
      "text/plain": [
       "<matplotlib.collections.PathCollection at 0x7fac8a339d00>"
      ]
     },
     "execution_count": 19,
     "metadata": {},
     "output_type": "execute_result"
    },
    {
     "data": {
      "image/png": "[encoded data removed]",
      "text/plain": [
       "<Figure size 432x288 with 1 Axes>"
      ]
     },
     "metadata": {
      "needs_background": "light"
     },
     "output_type": "display_data"
    }
   ],
   "source": [
    "fig, ax = plt.subplots()\n",
    "convex_hull_plot_2d(hull, ax=ax)\n",
    "ax.scatter(*samples.T, color='black')"
   ]
  },
  {
   "cell_type": "code",
   "execution_count": 20,
   "id": "d0990a6f-f835-46f5-9c18-8b7f99bbd956",
   "metadata": {},
   "outputs": [],
   "source": [
    "import cvxpy as cp"
   ]
  },
  {
   "cell_type": "code",
   "execution_count": 21,
   "id": "2a1ebe76-3a18-488c-8cfe-875e3643f2a6",
   "metadata": {},
   "outputs": [],
   "source": [
    "x = cp.Variable(4)"
   ]
  },
  {
   "cell_type": "code",
   "execution_count": 2,
   "id": "1e7c9000-f2fc-43eb-be77-073574cea911",
   "metadata": {},
   "outputs": [],
   "source": [
    "multi = qmc.MultinomialQMC(\n",
    "    [0.05, 0.2, 0.45, 0.3],\n",
    "    engine=qmc.Sobol(1), \n",
    "    seed=10\n",
    ")"
   ]
  },
  {
   "cell_type": "code",
   "execution_count": 4,
   "id": "cb44c4f6-7083-423b-8c30-4c21382a36c9",
   "metadata": {},
   "outputs": [
    {
     "data": {
      "text/plain": [
       "dtype('int64')"
      ]
     },
     "execution_count": 4,
     "metadata": {},
     "output_type": "execute_result"
    }
   ],
   "source": [
    "multi.random(16).dtype"
   ]
  },
  {
   "cell_type": "code",
   "execution_count": 15,
   "id": "b5170dbc-d44a-41a5-956d-c2e844c97a9f",
   "metadata": {},
   "outputs": [],
   "source": [
    "from scipy.stats import dirichlet"
   ]
  },
  {
   "cell_type": "code",
   "execution_count": 17,
   "id": "e0c97ef4-0e5e-42ba-8c70-bb18c702eda9",
   "metadata": {},
   "outputs": [],
   "source": [
    "dims=3\n",
    "n=3"
   ]
  },
  {
   "cell_type": "code",
   "execution_count": 19,
   "id": "9082a1f3-5e8a-4e54-b8f1-8cb05d6cac5b",
   "metadata": {},
   "outputs": [
    {
     "data": {
      "text/plain": [
       "array([[0.02527712, 0.19927922, 0.02999132, 0.74545234],\n",
       "       [0.04577353, 0.02077191, 0.25064761, 0.68280696],\n",
       "       [0.04578282, 0.50950251, 0.06010704, 0.38460763]])"
      ]
     },
     "execution_count": 19,
     "metadata": {},
     "output_type": "execute_result"
    }
   ],
   "source": [
    "dirichlet.rvs(\n",
    "    [1]*(dims + 1), \n",
    "    size=n)"
   ]
  },
  {
   "cell_type": "code",
   "execution_count": 45,
   "id": "b6d7f642-0c09-4613-b094-ccf03ec627ee",
   "metadata": {},
   "outputs": [
    {
     "data": {
      "text/plain": [
       "array([0, 0, 0, 1, 1, 1, 1, 2, 2, 2, 2, 2])"
      ]
     },
     "execution_count": 45,
     "metadata": {},
     "output_type": "execute_result"
    }
   ],
   "source": [
    "np.repeat(np.arange(3), [3, 4, 5])"
   ]
  },
  {
   "cell_type": "code",
   "execution_count": null,
   "id": "ad11d1a0-3a5b-474c-9e9c-aa5024e8ee94",
   "metadata": {},
   "outputs": [],
   "source": []
  }
 ],
 "metadata": {
  "kernelspec": {
   "display_name": "Python 3 (ipykernel)",
   "language": "python",
   "name": "python3"
  },
  "language_info": {
   "codemirror_mode": {
    "name": "ipython",
    "version": 3
   },
   "file_extension": ".py",
   "mimetype": "text/x-python",
   "name": "python",
   "nbconvert_exporter": "python",
   "pygments_lexer": "ipython3",
   "version": "3.9.7"
  }
 },
 "nbformat": 4,
 "nbformat_minor": 5
}
