{
 "cells": [
  {
   "cell_type": "code",
   "execution_count": 1,
   "id": "c936bc20-c610-4c86-9f3e-bd82bd0ff794",
   "metadata": {},
   "outputs": [],
   "source": [
    "from dreye.api.optimize import lsq_linear as lsq\n",
    "import numpy as np\n",
    "import cvxpy as cp"
   ]
  },
  {
   "cell_type": "code",
   "execution_count": 2,
   "id": "25275f7b-ef43-444f-b696-6bf48b91a889",
   "metadata": {},
   "outputs": [],
   "source": [
    "n, m = 4, 6\n",
    "A = np.random.random((n, m))\n",
    "xtarget = np.ones(m)/2\n",
    "#np.random.random(m)\n",
    "qtarget = A @ xtarget\n",
    "# qtarget = np.random.random((1, m))\n",
    "etarget = qtarget / (1+qtarget)"
   ]
  },
  {
   "cell_type": "code",
   "execution_count": 3,
   "id": "eb27d05e-1c35-4880-ae14-f0ffa0882b3e",
   "metadata": {},
   "outputs": [],
   "source": [
    "x = cp.Variable((m), pos=True)"
   ]
  },
  {
   "cell_type": "code",
   "execution_count": 4,
   "id": "7131f9dd-0067-4461-8269-0ea39fd913e1",
   "metadata": {},
   "outputs": [],
   "source": [
    "q = A @ x"
   ]
  },
  {
   "cell_type": "code",
   "execution_count": 5,
   "id": "6ba09f21-b183-447a-9877-3695dc0fce7f",
   "metadata": {},
   "outputs": [],
   "source": [
    "e = q / (1+q)"
   ]
  },
  {
   "cell_type": "code",
   "execution_count": 6,
   "id": "bc25a5dc-8a32-47ed-9d77-45d1e4388b54",
   "metadata": {},
   "outputs": [
    {
     "data": {
      "text/plain": [
       "Expression(QUASILINEAR, NONNEGATIVE, (4,))"
      ]
     },
     "execution_count": 6,
     "metadata": {},
     "output_type": "execute_result"
    }
   ],
   "source": [
    "e"
   ]
  },
  {
   "cell_type": "code",
   "execution_count": 7,
   "id": "f31700d2-bc07-49ef-bd80-286064e81532",
   "metadata": {},
   "outputs": [
    {
     "data": {
      "text/plain": [
       "Expression(QUASILINEAR, NONNEGATIVE, ())"
      ]
     },
     "execution_count": 7,
     "metadata": {},
     "output_type": "execute_result"
    }
   ],
   "source": [
    "cp.sum(q)/cp.sum(1+q)  # intensity"
   ]
  },
  {
   "cell_type": "code",
   "execution_count": 8,
   "id": "30f93a27-9237-4a8b-bd89-1f88c50c5032",
   "metadata": {},
   "outputs": [],
   "source": [
    "c = cp.Variable(1, pos=True)"
   ]
  },
  {
   "cell_type": "code",
   "execution_count": 9,
   "id": "4bdca344-6548-47df-87ad-8df770bab045",
   "metadata": {},
   "outputs": [
    {
     "data": {
      "text/plain": [
       "Expression(QUASILINEAR, NONNEGATIVE, (4,))"
      ]
     },
     "execution_count": 9,
     "metadata": {},
     "output_type": "execute_result"
    }
   ],
   "source": [
    "q/cp.sum(q)"
   ]
  },
  {
   "cell_type": "code",
   "execution_count": 10,
   "id": "56d65df5-a7de-4e9c-b37a-6f5f6212b72c",
   "metadata": {},
   "outputs": [
    {
     "data": {
      "text/plain": [
       "Equality(Expression(AFFINE, NONNEGATIVE, (4,)), Expression(AFFINE, NONNEGATIVE, (4,)))"
      ]
     },
     "execution_count": 10,
     "metadata": {},
     "output_type": "execute_result"
    }
   ],
   "source": [
    "q == cp.sum(q) * qtarget/np.sum(qtarget)"
   ]
  },
  {
   "cell_type": "code",
   "execution_count": 11,
   "id": "963c07d1-4d44-48b4-b3f8-414c7cb44060",
   "metadata": {},
   "outputs": [],
   "source": [
    "testc = cp.sum(q) == np.sum(qtarget)/np.sum(1+qtarget) * cp.sum(1+q)"
   ]
  },
  {
   "cell_type": "code",
   "execution_count": 25,
   "id": "9e05e66b-b41b-4599-8002-ab54144ec4d6",
   "metadata": {},
   "outputs": [
    {
     "data": {
      "text/plain": [
       "True"
      ]
     },
     "execution_count": 25,
     "metadata": {},
     "output_type": "execute_result"
    }
   ],
   "source": [
    "testc.is_dqcp()"
   ]
  },
  {
   "cell_type": "code",
   "execution_count": 13,
   "id": "e17bbc65-73a5-422c-980f-b988800f4bbd",
   "metadata": {},
   "outputs": [],
   "source": [
    "denom = cp.multiply((1+q), (1+qtarget))"
   ]
  },
  {
   "cell_type": "code",
   "execution_count": 14,
   "id": "68fe9956-60d0-413d-9e7b-356af93d0445",
   "metadata": {},
   "outputs": [],
   "source": [
    "num = q - qtarget"
   ]
  },
  {
   "cell_type": "code",
   "execution_count": 15,
   "id": "81041acd-95df-4185-8e69-e5e6d28de15b",
   "metadata": {},
   "outputs": [
    {
     "data": {
      "text/plain": [
       "Expression(UNKNOWN, NONNEGATIVE, ())"
      ]
     },
     "execution_count": 15,
     "metadata": {},
     "output_type": "execute_result"
    }
   ],
   "source": [
    "cp.sum(cp.abs(num) / denom)"
   ]
  },
  {
   "cell_type": "code",
   "execution_count": 16,
   "id": "46748865-f95c-4432-846f-e9a6fcdef5e2",
   "metadata": {},
   "outputs": [],
   "source": [
    "obj = cp.Minimize(cp.max(cp.abs(num)/denom))"
   ]
  },
  {
   "cell_type": "code",
   "execution_count": 17,
   "id": "807e3030-ffea-421d-b784-07f60691976c",
   "metadata": {},
   "outputs": [],
   "source": [
    "constraints = [\n",
    "    x <= 1\n",
    "]"
   ]
  },
  {
   "cell_type": "code",
   "execution_count": 18,
   "id": "1355dbee-8788-493c-8e1f-71ae021cf75e",
   "metadata": {},
   "outputs": [
    {
     "data": {
      "text/plain": [
       "Minimize(Expression(CONVEX, NONNEGATIVE, ()))"
      ]
     },
     "execution_count": 18,
     "metadata": {},
     "output_type": "execute_result"
    }
   ],
   "source": [
    "obj = cp.Minimize(cp.sum_squares(x - cp.sum(x)/x.size))\n",
    "obj"
   ]
  },
  {
   "cell_type": "code",
   "execution_count": 19,
   "id": "3d978b27-429b-477d-8c07-f6ff70e3a9e1",
   "metadata": {},
   "outputs": [],
   "source": [
    "constraints = [\n",
    "    x <= 1, \n",
    "    cp.max(cp.abs(num)/denom) <= 1e-4\n",
    "]"
   ]
  },
  {
   "cell_type": "code",
   "execution_count": 18,
   "id": "02aec388-69d9-4100-9e25-bca19137c09b",
   "metadata": {},
   "outputs": [],
   "source": [
    "prob = cp.Problem(obj, constraints)"
   ]
  },
  {
   "cell_type": "code",
   "execution_count": 19,
   "id": "6fec2fb4-a195-4f15-a952-6386830e171d",
   "metadata": {},
   "outputs": [
    {
     "data": {
      "text/plain": [
       "Problem(Minimize(Expression(QUASICONVEX, NONNEGATIVE, ())), [Inequality(Variable((6,), pos=True))])"
      ]
     },
     "execution_count": 19,
     "metadata": {},
     "output_type": "execute_result"
    }
   ],
   "source": [
    "prob"
   ]
  },
  {
   "cell_type": "code",
   "execution_count": 20,
   "id": "31f5739e-c24a-4668-8c0c-30b40114481d",
   "metadata": {
    "tags": []
   },
   "outputs": [
    {
     "name": "stdout",
     "output_type": "stream",
     "text": [
      "===============================================================================\n",
      "                                     CVXPY                                     \n",
      "                                    v1.1.15                                    \n",
      "===============================================================================\n",
      "(CVXPY) Dec 20 05:48:48 AM: Your problem has 6 variables, 1 constraints, and 0 parameters.\n",
      "(CVXPY) Dec 20 05:48:48 AM: It is compliant with the following grammars: DQCP\n",
      "(CVXPY) Dec 20 05:48:48 AM: (If you need to solve this problem multiple times, but with different data, consider using parameters.)\n",
      "(CVXPY) Dec 20 05:48:48 AM: CVXPY will first compile your problem; then, it will invoke a numerical solver to obtain a solution.\n",
      "(CVXPY) Dec 20 05:48:48 AM: Reducing DQCP problem to a one-parameter family of DCP problems, for bisection.\n",
      "\n",
      "********************************************************************************\n",
      "Preparing to bisect problem\n",
      "\n",
      "minimize 0.0\n",
      "subject to var0 <= 1.0\n",
      "           var64 <= Promote(param52, (4,)) @ (Promote(1.0, (4,)) + [[0.44821144 0.60626252 0.41763696 0.03123655 0.0168976  0.62871017]\n",
      " [0.01335964 0.99481799 0.09064577 0.10306603 0.45074476 0.04417824]\n",
      " [0.90147549 0.98885233 0.25140072 0.3525164  0.72300414 0.79580301]\n",
      " [0.29671021 0.45390204 0.96413225 0.24003065 0.49748171 0.54175266]] @ var0) @ [2.07447762 1.84840621 3.00652605 2.49700475]\n",
      "           [[0.44821144 0.60626252 0.41763696 0.03123655 0.0168976  0.62871017]\n",
      " [0.01335964 0.99481799 0.09064577 0.10306603 0.45074476 0.04417824]\n",
      " [0.90147549 0.98885233 0.25140072 0.3525164  0.72300414 0.79580301]\n",
      " [0.29671021 0.45390204 0.96413225 0.24003065 0.49748171 0.54175266]] @ var0 + -[1.07447762 0.84840621 2.00652605 1.49700475] <= var64\n",
      "           -[[0.44821144 0.60626252 0.41763696 0.03123655 0.0168976  0.62871017]\n",
      " [0.01335964 0.99481799 0.09064577 0.10306603 0.45074476 0.04417824]\n",
      " [0.90147549 0.98885233 0.25140072 0.3525164  0.72300414 0.79580301]\n",
      " [0.29671021 0.45390204 0.96413225 0.24003065 0.49748171 0.54175266]] @ var0 + -[1.07447762 0.84840621 2.00652605 1.49700475] <= var64\n",
      "\n",
      "Finding interval for bisection ...\n",
      "initial lower bound: 0.000000\n",
      "initial upper bound: 1.000000\n",
      "\n",
      "(iteration 0) lower bound: 0.000000\n",
      "(iteration 0) upper bound: 1.000000\n",
      "(iteration 0) query point: 0.500000 \n",
      "(iteration 0) query was feasible. Solution(status=optimal, opt_val=0.0, primal_vars={0: array([0.37600733, 0.30222748, 0.31073482, 0.42976553, 0.34647801,\n",
      "       0.30454512]), 64: array([0.50620044, 0.39986783, 0.97661524, 0.67935185])}, dual_vars={46: array([0., 0., 0., 0., 0., 0.]), 82: array([0., 0., 0., 0.]), 67: array([0., 0., 0., 0.]), 72: array([0., 0., 0., 0.])}, attr={'solve_time': 0.054542, 'setup_time': 0.027875, 'num_iters': 9, 'solver_specific_stats': {'x': array([0.37600733, 0.30222748, 0.31073482, 0.42976553, 0.34647801,\n",
      "       0.30454512, 0.50620044, 0.39986783, 0.97661524, 0.67935185]), 'y': array([0., 0., 0., 0., 0., 0., 0., 0., 0., 0., 0., 0., 0., 0., 0., 0., 0.,\n",
      "       0., 0., 0., 0., 0., 0., 0., 0., 0., 0., 0.]), 's': array([0.37600733, 0.30222748, 0.31073482, 0.42976553, 0.34647801,\n",
      "       0.30454512, 0.50620044, 0.39986783, 0.97661524, 0.67935185,\n",
      "       0.62399267, 0.69777252, 0.68926518, 0.57023447, 0.65352199,\n",
      "       0.69545488, 1.24910218, 1.03058887, 2.57153804, 1.80372939,\n",
      "       0.88839408, 0.70050095, 1.62284024, 1.18750877, 0.12400679,\n",
      "       0.0992347 , 0.33039024, 0.17119493]), 'info': {'statusVal': 1, 'iter': 9, 'pobj': 0.0, 'dobj': -0.0, 'resPri': 4.4923672656258595e-14, 'resDual': 0.0, 'relGap': 0.0, 'resInfeas': nan, 'resUnbdd': nan, 'solveTime': 0.054542, 'setupTime': 0.027875, 'status': 'Solved'}}}))\n",
      "\n",
      "(iteration 5) lower bound: 0.000000\n",
      "(iteration 5) upper bound: 0.031250\n",
      "(iteration 5) query point: 0.015625 \n",
      "(iteration 5) query was feasible. Solution(status=optimal, opt_val=0.0, primal_vars={0: array([0.49937083, 0.49957963, 0.49963679, 0.49951192, 0.49943226,\n",
      "       0.49946081]), 64: array([0.01679555, 0.01333541, 0.03527165, 0.02433263])}, dual_vars={46: array([0., 0., 0., 0., 0., 0.]), 82: array([0., 0., 0., 0.]), 67: array([0., 0., 0., 0.]), 72: array([0., 0., 0., 0.])}, attr={'solve_time': 0.022167, 'setup_time': 0.022083, 'num_iters': 5, 'solver_specific_stats': {'x': array([0.49937083, 0.49957963, 0.49963679, 0.49951192, 0.49943226,\n",
      "       0.49946081, 0.01679555, 0.01333541, 0.03527165, 0.02433263]), 'y': array([0., 0., 0., 0., 0., 0., 0., 0., 0., 0., 0., 0., 0., 0., 0., 0., 0.,\n",
      "       0., 0., 0., 0., 0., 0., 0., 0., 0., 0., 0.]), 's': array([0.49937083, 0.49957963, 0.49963679, 0.49951192, 0.49943226,\n",
      "       0.49946081, 0.01679555, 0.01333541, 0.03527165, 0.02433263,\n",
      "       0.50062917, 0.50042037, 0.50036321, 0.50048808, 0.50056774,\n",
      "       0.50053919, 0.05041186, 0.04002624, 0.10586785, 0.07303438,\n",
      "       0.01784794, 0.01412497, 0.03735746, 0.025752  , 0.01574317,\n",
      "       0.01254586, 0.03318584, 0.02291325]), 'info': {'statusVal': 1, 'iter': 5, 'pobj': 0.0, 'dobj': -0.0, 'resPri': 3.087464808916929e-16, 'resDual': 0.0, 'relGap': 0.0, 'resInfeas': nan, 'resUnbdd': nan, 'solveTime': 0.022167, 'setupTime': 0.022083, 'status': 'Solved'}}}))\n",
      "\n",
      "(iteration 10) lower bound: 0.000000\n",
      "(iteration 10) upper bound: 0.000977\n",
      "(iteration 10) query point: 0.000488 \n",
      "(iteration 10) query was feasible. Solution(status=optimal, opt_val=0.0, primal_vars={0: array([0.49992613, 0.50003177, 0.49991633, 0.49976138, 0.49991191,\n",
      "       0.49996765]), 64: array([0.00052511, 0.0004169 , 0.00110292, 0.00076076])}, dual_vars={46: array([0., 0., 0., 0., 0., 0.]), 82: array([0., 0., 0., 0.]), 67: array([0., 0., 0., 0.]), 72: array([0., 0., 0., 0.])}, attr={'solve_time': 0.021416, 'setup_time': 0.019167, 'num_iters': 5, 'solver_specific_stats': {'x': array([4.99926131e-01, 5.00031767e-01, 4.99916335e-01, 4.99761375e-01,\n",
      "       4.99911907e-01, 4.99967654e-01, 5.25107705e-04, 4.16900132e-04,\n",
      "       1.10291991e-03, 7.60764076e-04]), 'y': array([0., 0., 0., 0., 0., 0., 0., 0., 0., 0., 0., 0., 0., 0., 0., 0., 0.,\n",
      "       0., 0., 0., 0., 0., 0., 0., 0., 0., 0., 0.]), 's': array([4.99926131e-01, 5.00031767e-01, 4.99916335e-01, 4.99761375e-01,\n",
      "       4.99911907e-01, 4.99967654e-01, 5.25107705e-04, 4.16900132e-04,\n",
      "       1.10291991e-03, 7.60764076e-04, 5.00073869e-01, 4.99968233e-01,\n",
      "       5.00083665e-01, 5.00238625e-01, 5.00088093e-01, 5.00032346e-01,\n",
      "       1.57611078e-03, 1.25132575e-03, 3.31041411e-03, 2.28343337e-03,\n",
      "       6.03177785e-04, 4.59598559e-04, 1.33268307e-03, 9.67552460e-04,\n",
      "       4.47037626e-04, 3.74201706e-04, 8.73156749e-04, 5.53975691e-04]), 'info': {'statusVal': 1, 'iter': 5, 'pobj': 0.0, 'dobj': -0.0, 'resPri': 2.9425543813016557e-16, 'resDual': 0.0, 'relGap': 0.0, 'resInfeas': nan, 'resUnbdd': nan, 'solveTime': 0.021416, 'setupTime': 0.019167, 'status': 'Solved'}}}))\n",
      "\n",
      "(iteration 15) lower bound: 0.000000\n",
      "(iteration 15) upper bound: 0.000031\n",
      "(iteration 15) query point: 0.000015 \n",
      "(iteration 15) query was feasible. Solution(status=optimal, opt_val=0.0, primal_vars={0: array([0.49996726, 0.50005852, 0.50000986, 0.49972948, 0.49997714,\n",
      "       0.50003522]), 64: array([6.05250261e-05, 3.72053686e-05, 5.67096079e-05, 5.36799212e-05])}, dual_vars={46: array([0., 0., 0., 0., 0., 0.]), 82: array([0., 0., 0., 0.]), 67: array([0., 0., 0., 0.]), 72: array([0., 0., 0., 0.])}, attr={'solve_time': 0.0805, 'setup_time': 0.019334, 'num_iters': 20, 'solver_specific_stats': {'x': array([4.99967263e-01, 5.00058525e-01, 5.00009864e-01, 4.99729484e-01,\n",
      "       4.99977138e-01, 5.00035219e-01, 6.05250261e-05, 3.72053686e-05,\n",
      "       5.67096079e-05, 5.36799212e-05]), 'y': array([0., 0., 0., 0., 0., 0., 0., 0., 0., 0., 0., 0., 0., 0., 0., 0., 0.,\n",
      "       0., 0., 0., 0., 0., 0., 0., 0., 0., 0., 0.]), 's': array([4.99967263e-01, 5.00058525e-01, 5.00009864e-01, 4.99729484e-01,\n",
      "       4.99977138e-01, 5.00035219e-01, 6.05249601e-05, 3.72053724e-05,\n",
      "       5.67094732e-05, 5.36796078e-05, 5.00032737e-01, 4.99941475e-01,\n",
      "       4.99990136e-01, 5.00270516e-01, 5.00022863e-01, 4.99964781e-01,\n",
      "       5.14183900e-06, 1.49285613e-05, 8.12149093e-05, 4.14573236e-05,\n",
      "       2.22908494e-05, 1.51574043e-05, 1.09732651e-04, 8.45440237e-05,\n",
      "       9.87592285e-05, 5.92533330e-05, 3.68650393e-06, 2.28155776e-05]), 'info': {'statusVal': 1, 'iter': 20, 'pobj': 0.0, 'dobj': -0.0, 'resPri': 2.182096021356912e-10, 'resDual': 0.0, 'relGap': 0.0, 'resInfeas': nan, 'resUnbdd': nan, 'solveTime': 0.0805, 'setupTime': 0.019334, 'status': 'Solved'}}}))\n",
      "\n",
      "Bisection completed, with lower bound 0.000000 and upper bound 0.0000010\n",
      "********************************************************************************\n",
      "\n"
     ]
    },
    {
     "data": {
      "text/plain": [
       "1.2291978817513554e-07"
      ]
     },
     "execution_count": 20,
     "metadata": {},
     "output_type": "execute_result"
    }
   ],
   "source": [
    "prob.solve(qcp=True, verbose=True, solver=cp.SCS)"
   ]
  },
  {
   "cell_type": "code",
   "execution_count": 21,
   "id": "01936b2a-4eb1-435e-9d49-5a1b9fd8b37e",
   "metadata": {},
   "outputs": [
    {
     "data": {
      "text/plain": [
       "array([0.5, 0.5, 0.5, 0.5, 0.5, 0.5])"
      ]
     },
     "execution_count": 21,
     "metadata": {},
     "output_type": "execute_result"
    }
   ],
   "source": [
    "np.round(x.value, 2)"
   ]
  },
  {
   "cell_type": "code",
   "execution_count": 22,
   "id": "c8ba70f0-5ce7-4cb0-98f1-8f064115864d",
   "metadata": {},
   "outputs": [
    {
     "data": {
      "text/plain": [
       "array([0.5, 0.5, 0.5, 0.5, 0.5, 0.5])"
      ]
     },
     "execution_count": 22,
     "metadata": {},
     "output_type": "execute_result"
    }
   ],
   "source": [
    "xtarget"
   ]
  },
  {
   "cell_type": "code",
   "execution_count": null,
   "id": "b2ed64e6",
   "metadata": {},
   "outputs": [],
   "source": []
  }
 ],
 "metadata": {
  "kernelspec": {
   "display_name": "Python 3 (ipykernel)",
   "language": "python",
   "name": "python3"
  },
  "language_info": {
   "codemirror_mode": {
    "name": "ipython",
    "version": 3
   },
   "file_extension": ".py",
   "mimetype": "text/x-python",
   "name": "python",
   "nbconvert_exporter": "python",
   "pygments_lexer": "ipython3",
   "version": "3.9.7"
  }
 },
 "nbformat": 4,
 "nbformat_minor": 5
}
