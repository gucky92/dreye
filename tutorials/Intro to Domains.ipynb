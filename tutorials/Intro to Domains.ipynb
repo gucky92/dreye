{
 "cells": [
  {
   "cell_type": "code",
   "execution_count": 1,
   "metadata": {},
   "outputs": [],
   "source": [
    "from dreye import Domain\n",
    "from dreye.err import DreyeError\n",
    "from dreye import UREG"
   ]
  },
  {
   "cell_type": "code",
   "execution_count": 2,
   "metadata": {},
   "outputs": [],
   "source": [
    "domain = Domain(-0.5, 1, 0.1, 's')\n",
    "# will always be ascending"
   ]
  },
  {
   "cell_type": "code",
   "execution_count": 3,
   "metadata": {},
   "outputs": [
    {
     "data": {
      "text/plain": [
       "array([0.25, 0.16, 0.09, 0.04, 0.01, 0.  , 0.01, 0.04, 0.09, 0.16, 0.25,\n",
       "       0.36, 0.49, 0.64, 0.81, 1.  ])"
      ]
     },
     "execution_count": 3,
     "metadata": {},
     "output_type": "execute_result"
    }
   ],
   "source": [
    "domain.magnitude ** 2"
   ]
  },
  {
   "cell_type": "code",
   "execution_count": 4,
   "metadata": {},
   "outputs": [
    {
     "name": "stdout",
     "output_type": "stream",
     "text": [
      "Domain(start=-0.5, end=1.0, interval=0.1, units=second, dtype=float64)\n",
      "True\n",
      "-0.5\n",
      "1.0\n",
      "0.1\n",
      "1.5\n",
      "[0.1 0.1 0.1 0.1 0.1 0.1 0.1 0.1 0.1 0.1 0.1 0.1 0.1 0.1 0.1 0.1] second\n",
      "second\n",
      "[-0.5 -0.4 -0.3 -0.2 -0.1  0.   0.1  0.2  0.3  0.4  0.5  0.6  0.7  0.8\n",
      "  0.9  1. ]\n",
      "[-0.5 -0.4 -0.3 -0.2 -0.1  0.   0.1  0.2  0.3  0.4  0.5  0.6  0.7  0.8  0.9  1. ] second\n",
      "Domain(start=-500.0, end=1000.0, interval=100.0, units=millisecond, dtype=float64)\n",
      "Domain(start=-1.5, end=3.0, interval=0.3, units=second ** 2, dtype=float64)\n",
      "Domain(start=2.5, end=4.0, interval=0.1, units=second, dtype=float64)\n"
     ]
    }
   ],
   "source": [
    "print(domain)\n",
    "print(domain.is_uniform)\n",
    "print(domain.start)\n",
    "print(domain.end)\n",
    "print(domain.interval)\n",
    "print(domain.span)\n",
    "print(domain.gradient)\n",
    "print(domain.units)\n",
    "print(domain.magnitude)\n",
    "print(domain.values)\n",
    "\n",
    "print(domain.convert_to('ms'))\n",
    "print(domain * 3 * UREG('s'))\n",
    "print(domain + 3 * UREG('s'))"
   ]
  },
  {
   "cell_type": "code",
   "execution_count": 5,
   "metadata": {},
   "outputs": [
    {
     "name": "stdout",
     "output_type": "stream",
     "text": [
      "Domain(start=0.1, end=0.8, interval=[0.19999999999999998, 0.10000000000000003, 0.19999999999999996, 0.20000000000000007], units=second, dtype=float64)\n",
      "0.1\n",
      "False\n",
      "Domain(start=0.1, end=0.8, interval=0.17500000000000002, units=second, dtype=float64)\n",
      "Domains must be uniform for operations on signal classes, if domains are not equal.\n",
      "Domain(start=0.1, end=0.8, interval=0.17500000000000002, units=second, dtype=float64)\n",
      "start attribute: 0 value below previous start value 0.1\n"
     ]
    }
   ],
   "source": [
    "other_domain = Domain([0.1, 0.3, 0.4, 0.6, 0.8], units='s')\n",
    "print(other_domain)\n",
    "print(domain.interval)\n",
    "print(other_domain.is_uniform)\n",
    "print(other_domain.enforce_uniformity())\n",
    "try:\n",
    "    domain.equalize_domains(other_domain)\n",
    "except DreyeError as e:\n",
    "    print(e)\n",
    "print(domain.equalize_domains(other_domain.enforce_uniformity()))\n",
    "try:\n",
    "    other_domain.start = 0\n",
    "except DreyeError as e:\n",
    "    print(e)"
   ]
  },
  {
   "cell_type": "code",
   "execution_count": 6,
   "metadata": {},
   "outputs": [
    {
     "name": "stdout",
     "output_type": "stream",
     "text": [
      "False\n",
      "False\n",
      "False\n",
      "Domain(start=0.0, end=1.0, interval=0.2, units=second, dtype=float64)\n"
     ]
    }
   ],
   "source": [
    "other_domain = Domain(1, 2, 0.1, 's')\n",
    "print(other_domain == domain)\n",
    "other_domain = Domain(0, 1, 0.1, 'V')\n",
    "print(other_domain == domain)\n",
    "other_domain = Domain(0, 1, 0.2, 's')\n",
    "print(other_domain == domain)\n",
    "new_domain = other_domain.equalize_domains(domain)\n",
    "print(new_domain)"
   ]
  },
  {
   "cell_type": "code",
   "execution_count": 7,
   "metadata": {},
   "outputs": [
    {
     "name": "stdout",
     "output_type": "stream",
     "text": [
      "Domain(start=-1.0, end=1.0, interval=0.1, units=second, dtype=float64)\n",
      "Domain(start=-1.0, end=2.0, interval=0.1, units=second, dtype=float64)\n",
      "Domain(start=-1000.0, end=2000.0, interval=100.0, units=millisecond, dtype=float64)\n"
     ]
    }
   ],
   "source": [
    "domain.start = -1\n",
    "print(domain)\n",
    "domain.end = 2\n",
    "print(domain)\n",
    "domain.units = 'ms'\n",
    "print(domain)"
   ]
  },
  {
   "cell_type": "code",
   "execution_count": 8,
   "metadata": {},
   "outputs": [],
   "source": [
    "domain.save(\"data/domain_example.json\")"
   ]
  },
  {
   "cell_type": "code",
   "execution_count": 9,
   "metadata": {},
   "outputs": [],
   "source": [
    "domain_loaded = Domain.load(\"data/domain_example.json\")"
   ]
  },
  {
   "cell_type": "code",
   "execution_count": 10,
   "metadata": {},
   "outputs": [
    {
     "data": {
      "text/plain": [
       "True"
      ]
     },
     "execution_count": 10,
     "metadata": {},
     "output_type": "execute_result"
    }
   ],
   "source": [
    "domain_loaded == domain"
   ]
  },
  {
   "cell_type": "code",
   "execution_count": null,
   "metadata": {},
   "outputs": [],
   "source": []
  }
 ],
 "metadata": {
  "kernelspec": {
   "display_name": "Python 3",
   "language": "python",
   "name": "python3"
  },
  "language_info": {
   "codemirror_mode": {
    "name": "ipython",
    "version": 3
   },
   "file_extension": ".py",
   "mimetype": "text/x-python",
   "name": "python",
   "nbconvert_exporter": "python",
   "pygments_lexer": "ipython3",
   "version": "3.7.4"
  }
 },
 "nbformat": 4,
 "nbformat_minor": 4
}
