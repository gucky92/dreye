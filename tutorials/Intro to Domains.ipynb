{
 "cells": [
  {
   "cell_type": "markdown",
   "metadata": {},
   "source": [
    "# Introduction\n",
    "The Domain Class is used to handle signals, or ranges of values sorted from min-max which will have some unit attatched. Most of the time users of this package will not directly interact with the Domain Class, but this notebook should provide the necessary understanding."
   ]
  },
  {
   "cell_type": "code",
   "execution_count": 4,
   "metadata": {},
   "outputs": [],
   "source": [
    "from dreye import Domain\n",
    "from dreye.err import DreyeError, DreyeUnitError\n",
    "from dreye.constants import ureg, ABSOLUTE_ACCURACY"
   ]
  },
  {
   "cell_type": "markdown",
   "metadata": {},
   "source": [
    "First, intialize your domain using one of two ways:\n",
    " - Define the start value, the end value the step size, and the units \n",
    " - Create a list of unique values, and attatch the unit to it. This method is similar to a single dimensional numpy array"
   ]
  },
  {
   "cell_type": "markdown",
   "metadata": {},
   "source": [
    "First, intialize your domain using one of two ways:\n",
    " - Define the start value, the end value the step size, and the units \n",
    " - Create a list of unique values, and attatch the unit to it. This method is similar to a single dimensional numpy array"
   ]
  },
  {
   "cell_type": "code",
   "execution_count": 2,
   "metadata": {},
   "outputs": [],
   "source": [
    "domain = Domain(-0.5, 1, 0.1, 's')\n",
    "domain2 = Domain([-0.5, 0, 0.5, 1.1], units='s')\n",
    "# will always be ascending"
   ]
  },
  {
   "cell_type": "code",
   "execution_count": 5,
   "metadata": {},
   "outputs": [
    {
     "name": "stdout",
     "output_type": "stream",
     "text": [
      "Cannot convert from 'V' ([length] ** 2 * [mass] / [current] / [time] ** 3) to 'second' ([time]) for instance of type Domain.\n"
     ]
    }
   ],
   "source": [
    "try:\n",
    "    domain.units = 'V'\n",
    "except DreyeUnitError as e:\n",
    "    print(e)"
   ]
  },
  {
   "cell_type": "code",
   "execution_count": 7,
   "metadata": {},
   "outputs": [
    {
     "data": {
      "text/html": [
       "1 second"
      ],
      "text/latex": [
       "$1\\ \\mathrm{second}$"
      ],
      "text/plain": [
       "1 <Unit('second')>"
      ]
     },
     "execution_count": 7,
     "metadata": {},
     "output_type": "execute_result"
    }
   ],
   "source": [
    "ureg(str(domain.units))"
   ]
  },
  {
   "cell_type": "markdown",
   "metadata": {},
   "source": [
    "You can always check if the domain you created is uniform. "
   ]
  },
  {
   "cell_type": "markdown",
   "metadata": {},
   "source": [
    "Domain has many parameters and attributes- review the documentation for more details. Examples are shown below."
   ]
  },
  {
   "cell_type": "code",
   "execution_count": 5,
   "metadata": {},
   "outputs": [
    {
     "name": "stdout",
     "output_type": "stream",
     "text": [
      "Domain(start=-0.5, end=1.0, interval=0.1, units=second, dtype=<class 'numpy.float64'>)\n",
      "True\n",
      "-0.5\n",
      "1.0\n",
      "0.1\n",
      "1.5\n",
      "[0.1 0.1 0.1 0.1 0.1 0.1 0.1 0.1 0.1 0.1 0.1 0.1 0.1 0.1 0.1 0.1] second\n",
      "second\n",
      "[-0.5 -0.4 -0.3 -0.2 -0.1  0.   0.1  0.2  0.3  0.4  0.5  0.6  0.7  0.8\n",
      "  0.9  1. ]\n",
      "[-0.5 -0.4 -0.3 -0.2 -0.1  0.   0.1  0.2  0.3  0.4  0.5  0.6  0.7  0.8  0.9  1. ] second\n"
     ]
    }
   ],
   "source": [
    "print(domain)\n",
    "print(domain.is_uniform)\n",
    "print(domain.start)\n",
    "print(domain.end)\n",
    "print(domain.interval)\n",
    "print(domain.span)\n",
    "print(domain.gradient)\n",
    "print(domain.units)\n",
    "print(domain.magnitude)\n",
    "print(domain.values)"
   ]
  },
  {
   "cell_type": "markdown",
   "metadata": {},
   "source": [
    "You can convert units (for example, from s to ms). UREG, or unit registration, will check if the conversion is compatible and complete it if possible. \n",
    "\n",
    "You can muliply domain by a number or by units. You can also add to the array to shift it, but the units have to match. "
   ]
  },
  {
   "cell_type": "code",
   "execution_count": 6,
   "metadata": {},
   "outputs": [
    {
     "name": "stdout",
     "output_type": "stream",
     "text": [
      "Domain(start=-500.0, end=1000.0, interval=100.0, units=millisecond, dtype=<class 'numpy.float64'>)\n",
      "Domain(start=-1.5, end=3.0, interval=0.3, units=second ** 2, dtype=<class 'numpy.float64'>)\n",
      "Domain(start=2.5, end=4.0, interval=0.1, units=second, dtype=<class 'numpy.float64'>)\n"
     ]
    }
   ],
   "source": [
    "print(domain.to('ms'))\n",
    "print(domain * 3 * ureg('s'))\n",
    "print(domain + 3 * ureg('s'))"
   ]
  },
  {
   "cell_type": "markdown",
   "metadata": {},
   "source": [
    "If your domain is non-uniform, you can enforce uniformity. This is particularly useful for interpolation purposes. **enforce_uniformity** returns new domain where the interval are uniform and the interval length is the average interval calulcated from the original domain. \n",
    "\n",
    "**equalize_domains** is useful when aligning or averaging Domains. Domains need to be uniform before this will work. After enforcing uniformity if necessary, **equalize_domains** will chose the most common denominator for what the domain range should be. Specifically, it will take the largest **Start** value, and smallest **End** value. The interval will be the largest interval represented in the two original domains. \n",
    "\n",
    "As a broad concept, you can compare this to x values being used for interpolation of y values."
   ]
  },
  {
   "cell_type": "markdown",
   "metadata": {},
   "source": [
    "If your domain is non-uniform, you can enforce uniformity. This is particularly useful for interpolation purposes. **enforce_uniformity** returns new domain where the interval are uniform and the interval length is the average interval calulcated from the original domain. \n",
    "\n",
    "**equalize_domains** is useful when aligning or averaging Domains. Domains need to be uniform before this will work. After enforcing uniformity if necessary, **equalize_domains** will chose the most common denominator for what the domain range should be. Specifically, it will take the largest **Start** value, and smallest **End** value. The interval will be the largest interval represented in the two original domains. \n",
    "\n",
    "As a broad concept, you can compare this to x values being used for interpolation of y values."
   ]
  },
  {
   "cell_type": "code",
   "execution_count": 31,
   "metadata": {},
   "outputs": [
    {
     "name": "stdout",
     "output_type": "stream",
     "text": [
      "Domain(start=0.1, end=0.8, interval=[0.2 0.1 0.2 0.2], units=second)\n",
      "[0.2 0.1 0.2 0.2]\n",
      "False\n",
      "Domain(start=0.1, end=0.8, interval=0.17500000000000002, units=second)\n",
      "Domains must be uniform for operations on signal classes, if domains are not equal.\n",
      "Domain(start=0.1, end=0.8, interval=0.17500000000000002, units=second)\n",
      "start attribute: 0 value below previous start value 0.1\n"
     ]
    }
   ],
   "source": [
    "other_domain = Domain([0.1, 0.3, 0.4, 0.6, 0.8], units='s')\n",
    "print(other_domain)\n",
    "print(other_domain.interval)\n",
    "print(other_domain.is_uniform)\n",
    "print(other_domain.enforce_uniformity())\n",
    "try:\n",
    "    domain.equalize_domains(other_domain)\n",
    "except DreyeError as e:\n",
    "    print(e)\n",
    "print(domain.equalize_domains(other_domain.enforce_uniformity()))\n",
    "try:\n",
    "    other_domain.start = 0\n",
    "except DreyeError as e:\n",
    "    print(e)"
   ]
  },
  {
   "cell_type": "code",
   "execution_count": 5,
   "metadata": {},
   "outputs": [
    {
     "name": "stdout",
     "output_type": "stream",
     "text": [
      "False\n",
      "False\n",
      "False\n",
      "Domain(start=0.0, end=1.0, interval=0.2, units=second, dtype=<class 'numpy.float64'>)\n"
     ]
    }
   ],
   "source": [
    "other_domain = Domain(1, 2, 0.1, 's')\n",
    "print(other_domain == domain)\n",
    "other_domain = Domain(0, 1, 0.1, 'V')\n",
    "print(other_domain == domain)\n",
    "other_domain = Domain(0, 2, 0.2, 's')\n",
    "print(other_domain == domain)\n",
    "new_domain = other_domain.equalize_domains(domain)\n",
    "print(new_domain)"
   ]
  },
  {
   "cell_type": "code",
   "execution_count": 6,
   "metadata": {},
   "outputs": [],
   "source": [
    "domain.save(\"data/domain_example.json\")"
   ]
  },
  {
   "cell_type": "code",
   "execution_count": 7,
   "metadata": {},
   "outputs": [],
   "source": [
    "domain_loaded = Domain.load(\"data/domain_example.json\")"
   ]
  },
  {
   "cell_type": "code",
   "execution_count": 8,
   "metadata": {},
   "outputs": [
    {
     "data": {
      "text/plain": [
       "True"
      ]
     },
     "execution_count": 8,
     "metadata": {},
     "output_type": "execute_result"
    }
   ],
   "source": [
    "domain_loaded == domain"
   ]
  },
  {
   "cell_type": "code",
   "execution_count": null,
   "metadata": {},
   "outputs": [],
   "source": []
  }
 ],
 "metadata": {
  "kernelspec": {
   "display_name": "Python 3",
   "language": "python",
   "name": "python3"
  },
  "language_info": {
   "codemirror_mode": {
    "name": "ipython",
    "version": 3
   },
   "file_extension": ".py",
   "mimetype": "text/x-python",
   "name": "python",
   "nbconvert_exporter": "python",
   "pygments_lexer": "ipython3",
   "version": "3.7.4"
  },
  "widgets": {
   "application/vnd.jupyter.widget-state+json": {
    "state": {},
    "version_major": 2,
    "version_minor": 0
   }
  }
 },
 "nbformat": 4,
 "nbformat_minor": 4
}
