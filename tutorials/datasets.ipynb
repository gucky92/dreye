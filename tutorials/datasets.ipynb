{
 "cells": [
  {
   "cell_type": "code",
   "execution_count": 1,
   "id": "prospective-origin",
   "metadata": {},
   "outputs": [],
   "source": [
    "from dreye import datasets\n",
    "import dreye\n",
    "import pandas as pd"
   ]
  },
  {
   "cell_type": "code",
   "execution_count": 2,
   "id": "overall-phoenix",
   "metadata": {},
   "outputs": [],
   "source": [
    "df = datasets.load_spitschan2016()"
   ]
  },
  {
   "cell_type": "code",
   "execution_count": 2,
   "id": "impressed-graph",
   "metadata": {},
   "outputs": [],
   "source": [
    "df2 = datasets.load_granada()"
   ]
  },
  {
   "cell_type": "code",
   "execution_count": 2,
   "id": "assigned-future",
   "metadata": {},
   "outputs": [],
   "source": [
    "df3 = datasets.load_flowers()"
   ]
  },
  {
   "cell_type": "code",
   "execution_count": null,
   "id": "invalid-theory",
   "metadata": {},
   "outputs": [],
   "source": []
  }
 ],
 "metadata": {
  "kernelspec": {
   "display_name": "Python 3",
   "language": "python",
   "name": "python3"
  },
  "language_info": {
   "codemirror_mode": {
    "name": "ipython",
    "version": 3
   },
   "file_extension": ".py",
   "mimetype": "text/x-python",
   "name": "python",
   "nbconvert_exporter": "python",
   "pygments_lexer": "ipython3",
   "version": "3.9.1"
  }
 },
 "nbformat": 4,
 "nbformat_minor": 5
}
