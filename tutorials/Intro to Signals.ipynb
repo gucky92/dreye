{
 "cells": [
  {
   "cell_type": "code",
   "execution_count": 5,
   "metadata": {},
   "outputs": [],
   "source": [
    "import numpy as np\n",
    "np.random.seed(10)\n",
    "\n",
    "from dreye import Domain, Signal, ClippedSignal\n",
    "from dreye.err import DreyeError\n",
    "from dreye import UREG"
   ]
  },
  {
   "cell_type": "code",
   "execution_count": 6,
   "metadata": {},
   "outputs": [
    {
     "data": {
      "text/plain": [
       "True"
      ]
     },
     "execution_count": 6,
     "metadata": {},
     "output_type": "execute_result"
    }
   ],
   "source": [
    "signal1 = Signal(np.arange(4), domain=np.arange(4), units='volts')\n",
    "signal2 = Signal(np.arange(4), domain=np.arange(4), units='V')\n",
    "signal1 == signal2"
   ]
  },
  {
   "cell_type": "code",
   "execution_count": null,
   "metadata": {},
   "outputs": [],
   "source": [
    "signal = Signal(\n",
    "    np.random.random((100, 4)), \n",
    "    domain=np.arange(100), \n",
    "    domain_axis=0, \n",
    "    units='volts', \n",
    "    domain_units='s', \n",
    "    labels=['a', 'b', 'c', 'd']\n",
    ")"
   ]
  }
 ],
 "metadata": {
  "kernelspec": {
   "display_name": "Python 3",
   "language": "python",
   "name": "python3"
  },
  "language_info": {
   "codemirror_mode": {
    "name": "ipython",
    "version": 3
   },
   "file_extension": ".py",
   "mimetype": "text/x-python",
   "name": "python",
   "nbconvert_exporter": "python",
   "pygments_lexer": "ipython3",
   "version": "3.7.4"
  }
 },
 "nbformat": 4,
 "nbformat_minor": 4
}
