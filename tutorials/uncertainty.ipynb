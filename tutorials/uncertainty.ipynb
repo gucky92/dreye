{
 "cells": [
  {
   "cell_type": "markdown",
   "metadata": {},
   "source": [
    "# Dealing with filter uncertainty and underdetermined systems\n",
    "\n",
    "In this tutorial, we will go through some of the basics of dealing with underdetermined system and uncertainty regarding the receptor filters. We will work with the same example from the introduction. However, this time we will also define the uncertainty around our actual filter function (i.e. the standard deviation around the mean filter array)."
   ]
  },
  {
   "cell_type": "code",
   "execution_count": 1,
   "metadata": {},
   "outputs": [],
   "source": [
    "import numpy as np\n",
    "import matplotlib.pyplot as plt\n",
    "from scipy.stats import norm\n",
    "import seaborn as sns\n",
    "\n",
    "import dreye"
   ]
  },
  {
   "cell_type": "code",
   "execution_count": 3,
   "metadata": {},
   "outputs": [],
   "source": [
    "# wavelength range\n",
    "wls = np.arange(300, 700, 1)\n",
    "# peaks of the sensitivities\n",
    "peaks = np.array([420, 535])\n",
    "# opsin template\n",
    "# an empty axis is added to the peaks so that the array object has dimension (opsin_type x wavelengths)\n",
    "filters = dreye.govardovskii2000_template(wls, peaks[:, None])\n",
    "\n",
    "led_peaks = np.array([410, 480, 550])\n",
    "sources = norm.pdf(wls, loc=led_peaks[:, None], scale=20)\n",
    "sources = sources / dreye.integral(sources, wls, axis=-1, keepdims=True)\n",
    "\n",
    "est = dreye.ReceptorEstimator(\n",
    "    # filters array\n",
    "    filters, \n",
    "    # filter uncertainty - in this case it scales with the value of the filter function (heteroscedastic)\n",
    "    filters_uncertainty=filters * 0.1,\n",
    "    # wavelength array\n",
    "    domain=wls, \n",
    "    # labels for each photoreceptor type (optional)\n",
    "    labels=['S', 'L'], \n",
    "    # LED array, optional\n",
    "    sources=sources, \n",
    "    # lower bound of each LED, optional\n",
    "    lb=np.zeros(3), \n",
    "    # upper bound for each LED, optional - if None, then the upper bound is infinity\n",
    "    ub=np.ones(3) * 0.1, \n",
    "    # labels for sources, optional\n",
    "    sources_labels=['V', 'C', 'G']\n",
    ")"
   ]
  },
  {
   "cell_type": "markdown",
   "metadata": {},
   "source": [
    "The attribute `Epsilon` defines the variance in capture for each source and filter. `A` defines the mean light-induced capture for each source and filter."
   ]
  },
  {
   "cell_type": "code",
   "execution_count": 11,
   "metadata": {},
   "outputs": [
    {
     "data": {
      "text/plain": [
       "<AxesSubplot:>"
      ]
     },
     "execution_count": 11,
     "metadata": {},
     "output_type": "execute_result"
    },
    {
     "data": {
      "image/png": "[encoded data removed]",
      "text/plain": [
       "<Figure size 1080x360 with 4 Axes>"
      ]
     },
     "metadata": {
      "needs_background": "light"
     },
     "output_type": "display_data"
    }
   ],
   "source": [
    "fig, (ax1, ax2) = plt.subplots(1, 2, figsize=(15, 5))\n",
    "sns.heatmap(\n",
    "    est.Epsilon, ax=ax1, \n",
    "    vmin=0, cmap='viridis'\n",
    ")\n",
    "sns.heatmap(\n",
    "    est.A, ax=ax2,\n",
    "    vmin=0, cmap='viridis' \n",
    ")"
   ]
  },
  {
   "cell_type": "code",
   "execution_count": null,
   "metadata": {},
   "outputs": [],
   "source": [
    "# TODO"
   ]
  }
 ],
 "metadata": {
  "interpreter": {
   "hash": "3e5fee22af62a3af442ea23ae78e6870541f1ffd5e1937583cc05fa1c48054b7"
  },
  "kernelspec": {
   "display_name": "Python 3.9.7 64-bit ('dreye': conda)",
   "language": "python",
   "name": "python3"
  },
  "language_info": {
   "codemirror_mode": {
    "name": "ipython",
    "version": 3
   },
   "file_extension": ".py",
   "mimetype": "text/x-python",
   "name": "python",
   "nbconvert_exporter": "python",
   "pygments_lexer": "ipython3",
   "version": "3.9.7"
  },
  "orig_nbformat": 4
 },
 "nbformat": 4,
 "nbformat_minor": 2
}
